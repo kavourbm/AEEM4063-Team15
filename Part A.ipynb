{
 "cells": [
  {
   "cell_type": "code",
   "execution_count": 157,
   "execution_count": 14,
   "metadata": {},
   "outputs": [],
   "source": [
    "import numpy as np"
   ]
  },
  {
   "cell_type": "markdown",
   "metadata": {},
   "source": [
    "# Project 1\n",
    "# Part a"
   ]
  },
  {
   "cell_type": "markdown",
   "metadata": {},
   "source": [
    "From altitude tables, P/P_std = .2240\n",
    "This gives P = 22696.8 N/m^2\n",
    "$$\n",
    "L =C_L q S_W \\\\\n",
    "C_D =0.056{C_L}^2 -0.004C_L +0.0140 \\\\\n",
    "D =C_D q S_W \\\\\n",
    "q =\\frac{\\rho V^2}{2} =\\frac{\\gamma}{2} P {M_0}^2\n",
    "$$"
   ]
  },
  {
   "cell_type": "code",
   "execution_count": 158,
   "execution_count": 2,
   "metadata": {},
   "outputs": [
    {
     "name": "stdout",
     "output_type": "stream",
     "text": [
      "q (N/m^2) =  11478.906599999998\n"
     ]
    }
   ],
   "source": [
    "P = 22696.8 # N/m^2\n",
    "gamma = 1.4\n",
    "M_0 = 0.85\n",
    "q = gamma/2*P*M_0**2\n",
    "print('q (N/m^2) = ',q)"
   ]
  },
  {
   "cell_type": "code",
   "execution_count": 159,
   "execution_count": 3,
   "metadata": {},
   "outputs": [
    {
     "name": "stdout",
     "output_type": "stream",
     "text": [
      "Drag (N) =  70209.70138143492\n"
     ]
    }
   ],
   "source": [
    "S_W = 285\n",
    "W_TO = 1645842 #N\n",
    "W = 0.8*W_TO\n",
    "L = W\n",
    "C_L = L/(q*S_W)\n",
    "C_D = 0.056*C_L**2-0.004*C_L+0.014\n",
    "\n",
    "D = C_D*q*S_W\n",
    "print('Drag (N) = ',D)"
   ]
  },
  {
   "cell_type": "markdown",
   "metadata": {},
   "source": [
    "$$\n",
    "L =W = 0.8 W_{TO} \\\\\n",
    "W_{TO} = 370,000 lbf = 1.646 MN \\\\\n",
    "L = 0.8 * 1,646,000 = 1,316,800 N = 1.317 MN \\\\\n",
    "$$"
   ]
  },
  {
   "cell_type": "markdown",
   "metadata": {},
   "source": []
  },
  {
   "cell_type": "markdown",
   "metadata": {},
   "source": [
    "$$\n",
    "L = C_L q S_W\n",
    "q = "
   ]
  },
  {
   "cell_type": "code",
   "execution_count": 160,
   "execution_count": 4,
   "metadata": {},
   "outputs": [
    {
     "name": "stdout",
     "output_type": "stream",
     "text": [
      "To2 = 282.60 K\n",
      "po2 = 0.54 bar\n"
     ]
    }
   ],
   "source": [
    "# Fan (Compressor)\n",
    "\n",
    "# Station 1: Fan Inlet\n",
    "# Station 2: Fan Outlet\n",
    "# Station 19: Fan Nozzle\n",
    "\n",
    "polyf = 0.89\n",
    "fpr = 1.5\n",
    "gammac = 1.4\n",
    "Mo = 0.85\n",
    "intakeefficiency = 0.98\n",
    "\n",
    "nfan = (gammac-1)/(gammac*polyf)\n",
    "\n",
    "# To1 = T1\n",
    "\n",
    "T1 = 216.78 # K\n",
    "\n",
    "To1 = T1*(1+((gammac-1)/2)*Mo**2)\n",
    "\n",
    "To2 = To1*((fpr**nfan)-1)+To1\n",
    "\n",
    "print(\"To2 = %3.2f K\" % (To2))\n",
    "\n",
    "p1 = 22696.80/100000\n",
    "\n",
    "po1 = p1*(1+intakeefficiency*((gammac-1)/2)*Mo**2)**(gammac/(gammac-1))\n",
    "\n",
    "po2 = po1*fpr\n",
    "\n",
    "print(\"po2 = %3.2f bar\" % (po2))"
   ]
  },
  {
   "cell_type": "code",
   "execution_count": 161,
   "execution_count": 5,
   "metadata": {},
   "outputs": [
    {
     "name": "stdout",
     "output_type": "stream",
     "text": [
      "1.9063745703361377\n"
     ]
    }
   ],
   "source": [
    "nj = 0.99\n",
    "\n",
    "pfancrit = 1/((1-(1/nj)*((gammac-1)/(gammac+1)))**(gammac/(gammac-1)))\n",
    "\n",
    "print(pfancrit)"
   ]
  },
  {
   "cell_type": "code",
   "execution_count": 162,
   "execution_count": 6,
   "metadata": {},
   "outputs": [
    {
     "ename": "SyntaxError",
     "evalue": "invalid syntax (1630246139.py, line 2)",
     "output_type": "error",
     "traceback": [
      "\u001b[1;36m  File \u001b[1;32m\"C:\\Users\\nwrob\\AppData\\Local\\Temp\\ipykernel_2608\\1630246139.py\"\u001b[1;36m, line \u001b[1;32m2\u001b[0m\n\u001b[1;33m    mfr =\u001b[0m\n\u001b[1;37m          ^\u001b[0m\n\u001b[1;31mSyntaxError\u001b[0m\u001b[1;31m:\u001b[0m invalid syntax\n"
     ]
    }
   ],
   "source": [
    "bypass = 10\n",
    "mfr = "
   ]
  },
  {
   "cell_type": "code",
   "execution_count": 7,
   "metadata": {},
   "outputs": [
    {
     "name": "stdout",
     "output_type": "stream",
     "text": [
      "T19 = 251.99 K\n"
     ]
    }
   ],
   "source": [
    "# Fan (Nozzle)\n",
    "\n",
    "bypass = 10\n",
    "\n",
    "To19 = To2\n",
    "po19 = po2\n",
    "p19 = po1\n",
    "\n",
    "T19 = To19-(nj*To19*(1-(p19/po19)**((gammac-1)/gammac)))\n",
    "\n",
    "print(\"T19 = %3.2f K\" % (T19))"
   ]
  },
  {
   "cell_type": "code",
   "execution_count": 163,
   "metadata": {},
   "outputs": [
    {
     "name": "stdout",
     "output_type": "stream",
     "text": [
      "The Fan Exit Velocity is 249.36 m/s\n"
     ]
    }
   ],
   "source": [
    "M19 = np.sqrt((((po19/p19)**((gammac-1)/gammac))-1)*(2/(gammac-1)))\n",
    "\n",
    "C19 = M19*np.sqrt(gammac*287*T19)\n",
    "\n",
    "print(\"The Fan Exit Velocity is %3.2f m/s\" % (C19))"
   ]
  },
  {
   "cell_type": "code",
   "execution_count": 164,
   "metadata": {},
   "outputs": [
    {
     "name": "stdout",
     "output_type": "stream",
     "text": [
      "To3 = 881.51 K\n",
      "po3 = 19.48 bar\n"
     ]
    }
   ],
   "source": [
    "# Compressor\n",
    "\n",
    "polyc = 0.90\n",
    "cpr = 36\n",
    "\n",
    "ncompressor = (gammac-1)/(gammac*polyc)\n",
    "\n",
    "To3 = To2*((cpr**ncompressor)-1)+To2\n",
    "\n",
    "print(\"To3 = %3.2f K\" % (To3))\n",
    "\n",
    "po3 = po2*cpr\n",
    "\n",
    "print(\"po3 = %3.2f bar\" % (po3))"
   ]
  },
  {
   "cell_type": "code",
   "execution_count": 165,
   "execution_count": 8,
   "metadata": {},
   "outputs": [
    {
     "name": "stdout",
     "output_type": "stream",
     "text": [
      "po4 = 18.70 bar\n"
     ]
    }
   ],
   "source": [
    "# Burner\n",
    "\n",
    "bpr = 0.96\n",
    "To4 = 1560 # K\n",
    "\n",
    "po4 = po3*bpr\n",
    "\n",
    "print(\"po4 = %3.2f bar\" % (po4))"
   ]
  },
  {
   "cell_type": "code",
   "execution_count": 166,
   "execution_count": 9,
   "metadata": {},
   "outputs": [
    {
     "name": "stdout",
     "output_type": "stream",
     "text": [
      "To5 = 1030.92 K\n",
      "po5 = 17.05 bar\n"
      "To5 = 1030.92\n",
      "po5 = 292632.78\n"
     ]
    }
   ],
   "source": [
    "# HPT\n",
    "\n",
    "cpa = 1.004\n",
    "cpg = 1.148\n",
    "\n",
    "polyt = 0.90\n",
    "gammah = 1.33\n",
    "\n",
    "mecheff = 0.99\n",
    "\n",
    "To5 = To4-((cpa/(mecheff*cpg))*(To3-To2))\n",
    "\n",
    "print(\"To5 = %3.2f K\" % (To5))\n",
    "\n",
    "m = polyt*((gammah-1)/gammah)\n",
    "\n",
    "po5 = po4*((To5/To4)**(1/m))\n",
    "\n",
    "print(\"po5 = %3.2f bar\" % (po5))"
   ]
  },
  {
   "cell_type": "code",
   "execution_count": 167,
   "metadata": {},
   "outputs": [
    {
     "name": "stdout",
     "output_type": "stream",
     "text": [
      "To6 = 1000.45 K\n",
      "po6 = 16.94 bar\n"
     ]
    }
   ],
   "source": [
    "# LPT\n",
    "\n",
    "To6 = To5-((cpa/(mecheff*cpg))*(To2-To1))\n",
    "\n",
    "print(\"To6 = %3.2f K\" % (To6))\n",
    "\n",
    "po6 = po5*((To6/To5)**m)\n",
    "\n",
    "print(\"po6 = %3.2f bar\" % (po6))"
   "outputs": [],
   "source": [
    "# mass flow rates\n",
    "B = 10\n",
    "F = D\n",
    "R = 287\n",
    "C_a = M_0*np.sqrt(gamma*R*T1)\n",
    "C_c = \n",
    "C_h = \n",
    "mdot = F/(B/(B+1)*C_c+1/(B+1)*C_h-C_a)\n",
    "mdot_h = mdot/(B+1)\n",
    "modt_c = mdot*B/(B+1)"
   ]
  },
  {
   "cell_type": "code",
   "execution_count": 168,
   "execution_count": 12,
   "metadata": {},
   "outputs": [
    {
     "name": "stdout",
     "output_type": "stream",
     "text": [
      "74.6266899408778\n",
      "To6 = 1000.45\n",
      "po6 = 255844.85\n"
     ]
    }
   ],
   "source": [
    "# LPT\n",
    "\n",
    "To6 = To5-mdot/mdot_h((cpa/(mecheff*cpg))*(To2-To1))\n",
    "\n",
    "print(\"To6 = %3.2f\" % (To6))\n",
    "\n",
    "po6 = po5*((To6/To5)**(1/m))\n",
    "\n",
    "print(\"po6 = %3.2f\" % (po6))"
   ]
  },
  {
   "cell_type": "code",
   "execution_count": 13,
   "metadata": {},
   "outputs": [
    {
     "name": "stdout",
     "output_type": "stream",
     "text": [
      "11.272287210271267\n",
      "1.863087458290101\n"
     ]
    }
   ],
   "source": [
    "pr = po6/p1\n",
    "prcrit = 1/((1-(1/nj)*((gammah-1)/(gammah+1)))**(gammah/(gammah-1)))\n",
    "\n",
    "print(pr)\n",
    "print(prcrit)"
   ]
  },
  {
   "cell_type": "code",
   "execution_count": 169,
   "metadata": {},
   "outputs": [
    {
     "name": "stdout",
     "output_type": "stream",
     "text": [
      "T7 = 391.14 K\n",
      "po7 = 15.89 bar\n"
     ]
    }
   ],
   "source": [
    "# Turbine Nozzle\n",
    "\n",
    "T7 = To6-(nj*To6*(1-((po1/po6)**((gammah-1)/gammah))))\n",
    "\n",
    "print(\"T7 = %3.2f K\" % (T7))\n",
    "\n",
    "po7 = po1*((To6/T7)**(gammah/(gammah-1)))\n",
    "\n",
    "print(\"po7 = %3.2f bar\" % (po7))"
   ]
  },
  {
   "cell_type": "code",
   "execution_count": 170,
   "metadata": {},
   "outputs": [
    {
     "name": "stdout",
     "output_type": "stream",
     "text": [
      "The Turbine Nozzle Exit Velocity is 370.43 m/s\n"
     ]
    }
   ],
   "source": [
    "M7 = np.sqrt((((po7)**((gammah-1)/gammah))-1)**(2/(gammah-1)))\n",
    "\n",
    "C7 = M7*np.sqrt(gammah*287*T7)\n",
    "\n",
    "print(\"The Turbine Nozzle Exit Velocity is %3.2f m/s\" % (C7))"
   ]
  },
  {
   "cell_type": "code",
   "execution_count": 171,
   "metadata": {},
   "outputs": [
    {
     "name": "stdout",
     "output_type": "stream",
     "text": [
      "The Mass Flow Rate is 269.66 kg/s\n"
     ]
    }
   ],
   "source": [
    "# Thrust Equals Drag\n",
    "\n",
    "F = D\n",
    "mdot = (F)/(((bypass*C19)/(bypass+1))+((C7)/(bypass+1)))\n",
    "\n",
    "print(\"The Mass Flow Rate is %3.2f kg/s\" % (mdot))"
   ]
   "execution_count": null,
   "metadata": {},
   "outputs": [],
   "source": []
  }
 ],
 "metadata": {
  "kernelspec": {
   "display_name": "Python 3",
   "language": "python",
   "name": "python3"
  },
  "language_info": {
   "codemirror_mode": {
    "name": "ipython",
    "version": 3
   },
   "file_extension": ".py",
   "mimetype": "text/x-python",
   "name": "python",
   "nbconvert_exporter": "python",
   "pygments_lexer": "ipython3",
   "version": "3.9.13"
  }
 },
 "nbformat": 4,
 "nbformat_minor": 2
}

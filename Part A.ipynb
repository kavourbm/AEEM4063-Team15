{
 "cells": [
  {
   "cell_type": "code",
   "execution_count": 273,
   "metadata": {},
   "outputs": [],
   "source": [
    "import numpy as np"
   ]
  },
  {
   "cell_type": "markdown",
   "metadata": {},
   "source": [
    "# Project 1\n",
    "# Part a"
   ]
  },
  {
   "cell_type": "markdown",
   "metadata": {},
   "source": [
    "From altitude tables, P/P_std = .2240\n",
    "This gives P = 22696.8 N/m^2\n",
    "$$\n",
    "L =C_L q S_W \\\\\n",
    "C_D =0.056{C_L}^2 -0.004C_L +0.0140 \\\\\n",
    "D =C_D q S_W \\\\\n",
    "q =\\frac{\\rho V^2}{2} =\\frac{\\gamma}{2} P {M_0}^2\n",
    "$$"
   ]
  },
  {
   "cell_type": "code",
   "execution_count": 274,
   "metadata": {},
   "outputs": [
    {
     "name": "stdout",
     "output_type": "stream",
     "text": [
      "q (N/m^2) =  11478.906599999998\n"
     ]
    }
   ],
   "source": [
    "P = 22696.8 # N/m^2\n",
    "gamma = 1.4\n",
    "M_0 = 0.85\n",
    "q = gamma/2*P*M_0**2\n",
    "print('q (N/m^2) = ',q)"
   ]
  },
  {
   "cell_type": "code",
   "execution_count": 275,
   "metadata": {},
   "outputs": [
    {
     "name": "stdout",
     "output_type": "stream",
     "text": [
      "Drag = 70209.70 N\n"
     ]
    }
   ],
   "source": [
    "S_W = 285\n",
    "W_TO = 1645842 #N\n",
    "W = 0.8*W_TO\n",
    "L = W\n",
    "C_L = L/(q*S_W)\n",
    "C_D = 0.056*C_L**2-0.004*C_L+0.014\n",
    "\n",
    "D = C_D*q*S_W\n",
    "print(\"Drag = %3.2f N\" % (D))"
   ]
  },
  {
   "cell_type": "markdown",
   "metadata": {},
   "source": [
    "$$\n",
    "L =W = 0.8 W_{TO} \\\\\n",
    "W_{TO} = 370,000 lbf = 1.646 MN \\\\\n",
    "L = 0.8 * 1,646,000 = 1,316,800 N = 1.317 MN \\\\\n",
    "$$"
   ]
  },
  {
   "cell_type": "markdown",
   "metadata": {},
   "source": [
    "$$\n",
    "L = C_L q S_W\n",
    "q = "
   ]
  },
  {
   "cell_type": "code",
   "execution_count": 276,
   "metadata": {},
   "outputs": [
    {
     "name": "stdout",
     "output_type": "stream",
     "text": [
      "To2 = 248.10 K\n",
      "To13 = 282.60 K\n",
      "po13 = 0.54 bar\n"
     ]
    }
   ],
   "source": [
    "# Fan (Compressor)\n",
    "\n",
    "# Station 2: Fan Inlet\n",
    "# Station 13: Fan Outlet\n",
    "\n",
    "polyf = 0.89\n",
    "fpr = 1.5\n",
    "gammac = 1.4\n",
    "Mo = 0.85\n",
    "intakeefficiency = 0.98\n",
    "\n",
    "nfan = (gammac-1)/(gammac*polyf)\n",
    "\n",
    "# To1 = T1\n",
    "\n",
    "T1 = 216.78 # K\n",
    "\n",
    "To2 = T1*(1+((gammac-1)/2)*Mo**2)\n",
    "\n",
    "To13 = To2*((fpr**nfan)-1)+To2\n",
    "\n",
    "print(\"To2 = %3.2f K\" % (To2))\n",
    "print(\"To13 = %3.2f K\" % (To13))\n",
    "\n",
    "p1 = 22696.8/100000\n",
    "\n",
    "po2 = p1*(1+intakeefficiency*((gammac-1)/2)*Mo**2)**(gammac/(gammac-1))\n",
    "\n",
    "po13 = po2*fpr\n",
    "\n",
    "print(\"po13 = %3.2f bar\" % (po13))"
   ]
  },
  {
   "cell_type": "code",
   "execution_count": 277,
   "metadata": {},
   "outputs": [
    {
     "name": "stdout",
     "output_type": "stream",
     "text": [
      "1.9063745703361377\n"
     ]
    }
   ],
   "source": [
    "bypass = 10\n",
    "nj = 0.99\n",
    "\n",
    "pfancrit = 1/((1-(1/nj)*((gammac-1)/(gammac+1)))**(gammac/(gammac-1)))\n",
    "\n",
    "print(pfancrit)"
   ]
  },
  {
   "cell_type": "code",
   "execution_count": 278,
   "metadata": {},
   "outputs": [],
   "source": [
    "# Fan Nozzle\n",
    "\n",
    "# Station 19: Fan Nozzle Outlet\n",
    "\n",
    "#To19 = To13\n",
    "#po19 = po13\n",
    "#p19 = p1\n",
    "\n",
    "#T19 = To19-(nj*To19*(1-(p19/po19)**((gammac-1)/gammac)))\n",
    "\n",
    "#print(\"T19 = %3.2f K\" % (T19))"
   ]
  },
  {
   "cell_type": "code",
   "execution_count": 279,
   "metadata": {},
   "outputs": [],
   "source": [
    "#M19 = np.sqrt((((po19/p19)**((gammac-1)/gammac))-1)*(2/(gammac-1)))\n",
    "\n",
    "#C19 = M19*np.sqrt(gammac*287*T19)\n",
    "\n",
    "#print(\"The Fan Exit Velocity is %3.2f m/s\" % (C19))"
   ]
  },
  {
   "cell_type": "code",
   "execution_count": 280,
   "metadata": {},
   "outputs": [
    {
     "name": "stdout",
     "output_type": "stream",
     "text": [
      "To3 = 881.51 K\n",
      "po3 = 19.48 bar\n"
     ]
    }
   ],
   "source": [
    "# Compressor\n",
    "\n",
    "# Station 3: Compressor Outlet\n",
    "\n",
    "polyc = 0.90\n",
    "cpr = 36\n",
    "\n",
    "ncompressor = (gammac-1)/(gammac*polyc)\n",
    "\n",
    "To3 = To13*((cpr**ncompressor)-1)+To13\n",
    "\n",
    "print(\"To3 = %3.2f K\" % (To3))\n",
    "\n",
    "po3 = po13*cpr\n",
    "\n",
    "print(\"po3 = %3.2f bar\" % (po3))"
   ]
  },
  {
   "cell_type": "code",
   "execution_count": 281,
   "metadata": {},
   "outputs": [
    {
     "name": "stdout",
     "output_type": "stream",
     "text": [
      "po4 = 18.70 bar\n"
     ]
    }
   ],
   "source": [
    "# Burner\n",
    "\n",
    "# Station 4: Burner Outlet\n",
    "\n",
    "bpr = 0.96\n",
    "To4 = 1560 # K\n",
    "\n",
    "po4 = po3*bpr\n",
    "\n",
    "print(\"po4 = %3.2f bar\" % (po4))"
   ]
  },
  {
   "cell_type": "code",
   "execution_count": 282,
   "metadata": {},
   "outputs": [
    {
     "name": "stdout",
     "output_type": "stream",
     "text": [
      "To45 = 1030.92 K\n"
     ]
    }
   ],
   "source": [
    "# HPT\n",
    "\n",
    "# Station 45: HPT Outlet\n",
    "\n",
    "cpa = 1.004\n",
    "cpg = 1.148\n",
    "\n",
    "polyt = 0.90\n",
    "gammah = 1.33\n",
    "\n",
    "mecheff = 0.99\n",
    "\n",
    "To45 = To4-((cpa/(mecheff*cpg))*(To3-To13))\n",
    "\n",
    "print(\"To45 = %3.2f K\" % (To45))"
   ]
  },
  {
   "cell_type": "code",
   "execution_count": 283,
   "metadata": {},
   "outputs": [],
   "source": [
    "# mass flow rates\n",
    "B = 10\n",
    "F = D\n",
    "R = 287\n",
    "C_a = M_0*np.sqrt(gamma*R*T1)\n",
    "# C_c = \n",
    "# C_h = \n",
    "#mdot = F/(B/(B+1)*C_c+1/(B+1)*C_h-C_a)\n",
    "#mdot_h = mdot/(B+1)\n",
    "#modt_c = mdot*B/(B+1)\n",
    "mdot_mdoth = B+1"
   ]
  },
  {
   "cell_type": "code",
   "execution_count": 284,
   "metadata": {},
   "outputs": [
    {
     "name": "stdout",
     "output_type": "stream",
     "text": [
      "To5 = 699.11 K\n",
      "po5 = 0.51 bar\n"
     ]
    }
   ],
   "source": [
    "# LPT\n",
    "\n",
    "# Station 5: LPT Outlet\n",
    "\n",
    "To5 = To45-mdot_mdoth*cpa/cpg*(To13-To2)\n",
    "\n",
    "#To6 = To5-((cpa/(mecheff*cpg))*(To2-To1))\n",
    "\n",
    "print(\"To5 = %3.2f K\" % (To5))\n",
    "\n",
    "m = polyt*((gammah-1)/gammah)\n",
    "\n",
    "po5 = po4*((To5/To4)**(1/m))\n",
    "\n",
    "print(\"po5 = %3.2f bar\" % (po5))"
   ]
  },
  {
   "cell_type": "code",
   "execution_count": 285,
   "metadata": {},
   "outputs": [
    {
     "name": "stdout",
     "output_type": "stream",
     "text": [
      "2.2646182087799445\n",
      "1.863087458290101\n"
     ]
    }
   ],
   "source": [
    "pr = po5/p1\n",
    "prcrit = 1/((1-(1/nj)*((gammah-1)/(gammah+1)))**(gammah/(gammah-1)))\n",
    "\n",
    "print(pr)\n",
    "print(prcrit)"
   ]
  },
  {
   "cell_type": "code",
   "execution_count": 286,
   "metadata": {},
   "outputs": [
    {
     "name": "stdout",
     "output_type": "stream",
     "text": [
      "T9 = 553.01 K\n",
      "po9 = 2.48 bar\n"
     ]
    }
   ],
   "source": [
    "# Turbine Nozzle\n",
    "\n",
    "# Station 9: Nozzle Outlet\n",
    "\n",
    "T9 = To6-(nj*To6*(1-((p1/po6)**((gammah-1)/gammah))))\n",
    "\n",
    "print(\"T9 = %3.2f K\" % (T9))\n",
    "\n",
    "po9 = p1*((To6/T9)**(gammah/(gammah-1)))\n",
    "\n",
    "print(\"po9 = %3.2f bar\" % (po9))"
   ]
  },
  {
   "cell_type": "code",
   "execution_count": 287,
   "metadata": {},
   "outputs": [
    {
     "name": "stdout",
     "output_type": "stream",
     "text": [
      "The Turbine Nozzle Exit Velocity is 1017.40 m/s\n"
     ]
    }
   ],
   "source": [
    "p9 = p1\n",
    "\n",
    "M9 = np.sqrt((((po9/p9)**((gammah-1)/gammah))-1)*(2/(gammah-1)))\n",
    "\n",
    "C9 = M9*np.sqrt(gammah*287*T9)\n",
    "\n",
    "print(\"The Turbine Nozzle Exit Velocity is %3.2f m/s\" % (C9))"
   ]
  },
  {
   "cell_type": "code",
   "execution_count": 288,
   "metadata": {},
   "outputs": [
    {
     "name": "stdout",
     "output_type": "stream",
     "text": [
      "The Mass Flow Rate = 169.54 kg/s\n"
     ]
    }
   ],
   "source": [
    "# Mass Flow Rate\n",
    "\n",
    "# Thrust = Drag\n",
    "\n",
    "F = D\n",
    "\n",
    "mdot = F/(((bypass*C19)/(bypass+1))+(C9/(bypass+1)))\n",
    "\n",
    "print(\"The Mass Flow Rate = %3.2f kg/s\" % (mdot))"
   ]
  },
  {
   "cell_type": "code",
   "execution_count": null,
   "metadata": {},
   "outputs": [],
   "source": [
    "# Diameter\n",
    "\n",
    "# mdot = rho*V*A\n",
    "# A = mdot/(rho*V)\n",
    "\n",
    "# from atmospheric tables\n",
    "rho = 0.3639\n",
    "A = mdot/(rho*C)\n",
    "\n",
    "print(\"Area = \", A)\n",
    "\n",
    "# d = sqrt(4A/pi)\n",
    "d = np.sqrt(4*A/np.pi)\n",
    "print(\"d = \",d)"
   ]
  }
 ],
 "metadata": {
  "kernelspec": {
   "display_name": "Python 3",
   "language": "python",
   "name": "python3"
  },
  "language_info": {
   "codemirror_mode": {
    "name": "ipython",
    "version": 3
   },
   "file_extension": ".py",
   "mimetype": "text/x-python",
   "name": "python",
   "nbconvert_exporter": "python",
   "pygments_lexer": "ipython3",
   "version": "3.11.3"
  }
 },
 "nbformat": 4,
 "nbformat_minor": 2
}

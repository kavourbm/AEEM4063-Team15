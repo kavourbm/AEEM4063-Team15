{
 "cells": [
  {
   "cell_type": "markdown",
   "metadata": {},
   "source": [
    "# Project 1\n",
    "# Part a"
   ]
  },
  {
   "cell_type": "markdown",
   "metadata": {},
   "source": [
    "$$\n",
    "L =C_L q S_W \\\\\n",
    "C_D =0.056{C_L}^2 -0.004C_L +0.0140 \\\\\n",
    "D =C_D q S_W \\\\\n",
    "q =\\frac{\\rho V^2}{2} =\\frac{\\gamma}{2} P {M_0}^2\n",
    "$$"
   ]
  },
  {
   "cell_type": "markdown",
   "metadata": {},
   "source": [
    "L ="
   ]
  }
 ],
 "metadata": {
  "language_info": {
   "name": "python"
  }
 },
 "nbformat": 4,
 "nbformat_minor": 2
}

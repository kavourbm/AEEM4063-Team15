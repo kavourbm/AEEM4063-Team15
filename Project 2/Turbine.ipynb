{
 "cells": [
  {
   "cell_type": "code",
   "execution_count": 4,
   "metadata": {},
   "outputs": [],
   "source": [
    "import numpy as np\n",
    "import matplotlib.pyplot as plt\n",
    "%matplotlib inline"
   ]
  },
  {
   "cell_type": "code",
   "execution_count": 5,
   "metadata": {},
   "outputs": [],
   "source": [
    "To4 = 2275 # K\n",
    "polyt = 0.92\n",
    "#flowcoeff Greater than 0.78\n",
    "#loadcoeff Cannot Exceed 3.3\n",
    "mfa = 280 # kg/s"
   ]
  },
  {
   "cell_type": "code",
   "execution_count": 6,
   "metadata": {},
   "outputs": [
    {
     "name": "stdout",
     "output_type": "stream",
     "text": [
      "2.263270412326095\n"
     ]
    }
   ],
   "source": [
    "Ca1 = 150 # m/s\n",
    "Ut = 300 # m/s\n",
    "gammac = 1.4\n",
    "gammah = 1.33\n",
    "\n",
    "htratioturbine = 0.5\n",
    "\n",
    "T4 = To4-((Ca1**2)/(2*1.005*1000))\n",
    "\n",
    "po4 = 15 # bar\n",
    "p4 = po4*(T4/To4)**(gammah/(gammah-1))\n",
    "\n",
    "density4 = (p4*100000)/(287*T4)\n",
    "\n",
    "print(density4)\n",
    "\n",
    "rt4 = np.sqrt(mfa/(np.pi(density4*Ca1*(1-((htratioturbine)**2)))))\n",
    "N = 300/(2*np.pi*rt4)\n",
    "\n",
    "print(\"Turbine inlet tip radius = %3.2f m\" % (rt4))\n"
   ]
  }
 ],
 "metadata": {
  "kernelspec": {
   "display_name": "Python 3",
   "language": "python",
   "name": "python3"
  },
  "language_info": {
   "codemirror_mode": {
    "name": "ipython",
    "version": 3
   },
   "file_extension": ".py",
   "mimetype": "text/x-python",
   "name": "python",
   "nbconvert_exporter": "python",
   "pygments_lexer": "ipython3",
   "version": "3.11.3"
  }
 },
 "nbformat": 4,
 "nbformat_minor": 2
}

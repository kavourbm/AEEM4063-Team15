{
 "cells": [
  {
   "cell_type": "code",
   "execution_count": 576,
   "metadata": {},
   "outputs": [],
   "source": [
    "import numpy as np\n",
    "import matplotlib.pyplot as plt\n",
    "%matplotlib inline\n",
    "\n",
    "import pandas as pd"
   ]
  },
  {
   "cell_type": "code",
   "execution_count": 577,
   "metadata": {},
   "outputs": [],
   "source": [
    "CPR = 15\n",
    "FPR = 1.4\n",
    "polyc = 0.90\n",
    "polyf = 0.92\n",
    "\n",
    "BPR = 6\n",
    "mfa = 280 # kg/s, through the fan"
   ]
  },
  {
   "cell_type": "code",
   "execution_count": 578,
   "metadata": {},
   "outputs": [],
   "source": [
    "# blade tip speed should not exceed M 1.2\n",
    "\n",
    "Utfan = 350 # m/s"
   ]
  },
  {
   "cell_type": "markdown",
   "metadata": {},
   "source": [
    "$$\n",
    "\\dot{m}_{a} =\\rho_1 A C_{a1} \\\\\n",
    "A = \\frac{\\dot{m}_{a}}{\\rho_1 C_{a1}}\n",
    "$$"
   ]
  },
  {
   "cell_type": "markdown",
   "metadata": {},
   "source": [
    "$$\n",
    "\\dot{m}_{a} =\\rho_1 A C_{a1} =\\rho_1 \\pi {r_t}^{2} [1-(\\frac{r_r}{r_t})^2] C_{a1} \\\\\n",
    "{r_t}^2 =\\frac{\\dot{m}_{a}}{\\pi \\rho_1 C_{a1} [1-(r_r/r_t)^2]} \\\\\n",
    "$$"
   ]
  },
  {
   "cell_type": "code",
   "execution_count": 579,
   "metadata": {},
   "outputs": [],
   "source": [
    "# Station 1: Fan Inlet\n",
    "\n",
    "# C1 = Ca\n",
    "\n",
    "Ca = 150 # m/s\n",
    "\n",
    "po1= 1.01 # bar\n",
    "To1 = 288 # K\n",
    "\n",
    "gammac = 1.4\n",
    "gammah = 1.33\n",
    "\n",
    "T1 = To1-((Ca**2)/(2*1.005*10**3))\n",
    "p1 = po1*(((T1)/(To1)))**(gammac/(gammac-1))\n",
    "\n",
    "den1 = ((100*p1)/(0.287*T1))"
   ]
  },
  {
   "cell_type": "code",
   "execution_count": 580,
   "metadata": {},
   "outputs": [
    {
     "name": "stdout",
     "output_type": "stream",
     "text": [
      "Fan inlet area = 1.69 m^2\n",
      "Fan tip radius = 0.76 m\n",
      "Rotational velocity = 73.61 rev/s\n"
     ]
    }
   ],
   "source": [
    "Afan = mfa/(den1*Ca)\n",
    "\n",
    "htratio = 0.25\n",
    "\n",
    "rtfan = np.sqrt(mfa/(np.pi*den1*Ca*(1-(htratio**2))))\n",
    "\n",
    "Nfan = Utfan/(2*np.pi*rtfan)\n",
    "\n",
    "print(\"Fan inlet area = %3.2f m^2\" % (Afan))\n",
    "print(\"Fan tip radius = %3.2f m\" % (rtfan))\n",
    "print(\"Rotational velocity = %3.2f rev/s\" % (Nfan))"
   ]
  },
  {
   "cell_type": "code",
   "execution_count": 581,
   "metadata": {},
   "outputs": [
    {
     "name": "stdout",
     "output_type": "stream",
     "text": [
      "The Fan blade tip mach number is 1.14\n",
      "This satisfies the requirement\n"
     ]
    }
   ],
   "source": [
    "V1t = np.sqrt((Utfan**2)+(Ca**2))\n",
    "\n",
    "M1t = V1t/(np.sqrt(gammac*287*T1))\n",
    "\n",
    "print(\"The Fan blade tip mach number is %3.2f\" % (M1t))\n",
    "\n",
    "if M1t > 1.2:\n",
    "    print(\"This does not satify the requirement\")\n",
    "else:\n",
    "    print(\"This satisfies the requirement\")"
   ]
  },
  {
   "cell_type": "code",
   "execution_count": 582,
   "metadata": {},
   "outputs": [
    {
     "name": "stdout",
     "output_type": "stream",
     "text": [
      "To2 = 319.72 K\n",
      "po2 = 1.41 bar\n"
     ]
    }
   ],
   "source": [
    "# Station 2: Compressor Inlet / Fan Outlet\n",
    "\n",
    "nfan = (1/polyf)*((gammac-1)/gammac)\n",
    "To2 = To1*(FPR**nfan)\n",
    "\n",
    "print(\"To2 = %3.2f K\" % (To2))\n",
    "\n",
    "po2 = po1*FPR\n",
    "\n",
    "print(\"po2 = %3.2f bar\" % (po2))"
   ]
  },
  {
   "cell_type": "markdown",
   "metadata": {},
   "source": [
    "$$\n",
    "\\Delta C_w =\\frac{c_p \\Delta T_0}{\\lambda U}\n",
    "$$"
   ]
  },
  {
   "cell_type": "code",
   "execution_count": 583,
   "metadata": {},
   "outputs": [
    {
     "name": "stdout",
     "output_type": "stream",
     "text": [
      "The increase in whirl velocity across the fan is 92.95 m/s\n"
     ]
    }
   ],
   "source": [
    "lamb = 0.98\n",
    "fanwvelup = ((1.005*(10**3)*(To2-To1))/(lamb*Utfan))\n",
    "print(\"The increase in whirl velocity across the fan is %3.2f m/s\" % (fanwvelup))"
   ]
  },
  {
   "cell_type": "code",
   "execution_count": 584,
   "metadata": {},
   "outputs": [
    {
     "name": "stdout",
     "output_type": "stream",
     "text": [
      "Fan Tip Angles:\n",
      "Beta 1 = 66.80°\n",
      "Beta 2 = 59.73°\n",
      "Alpha 2 = 31.78°\n"
     ]
    }
   ],
   "source": [
    "# Fan Angles\n",
    "\n",
    "fanbeta1tip = np.degrees(np.arctan(Utfan/Ca))\n",
    "fanbeta2tip = np.degrees(np.arctan((Utfan-fanwvelup)/Ca))\n",
    "fanalpha2tip = np.degrees(np.arctan((fanwvelup)/Ca))\n",
    "\n",
    "print(\"Fan Tip Angles:\")\n",
    "print(\"Beta 1 = %3.2f°\" % (fanbeta1tip))\n",
    "print(\"Beta 2 = %3.2f°\" % (fanbeta2tip))\n",
    "print(\"Alpha 2 = %3.2f°\" % (fanalpha2tip))"
   ]
  },
  {
   "cell_type": "markdown",
   "metadata": {},
   "source": [
    "$$\n",
    "\\dot{m}_{c} =\\frac{\\dot{m} BPR}{BPR+1} \\\\\n",
    "\\dot{m}_{h} =\\frac{\\dot{m}}{BPR+1} \\\\\n",
    "$$"
   ]
  },
  {
   "cell_type": "code",
   "execution_count": 585,
   "metadata": {},
   "outputs": [
    {
     "name": "stdout",
     "output_type": "stream",
     "text": [
      "Mass Flow Rate of Air through the Compressor = 40.00 kg/s\n",
      "Compressor inlet area = 0.189 m^2\n"
     ]
    }
   ],
   "source": [
    "mfcold = (mfa*BPR)/(BPR+1)\n",
    "mfhot = (mfa)/(BPR+1)\n",
    "\n",
    "print(\"Mass Flow Rate of Air through the Compressor = %3.2f kg/s\" % (mfhot))\n",
    "\n",
    "T2 = To2-((Ca**2)/(2*1.005*10**3))\n",
    "\n",
    "p2 = po2*(((T2)/(To2)))**(gammac/(gammac-1))\n",
    "\n",
    "den2 = ((100*p2)/(0.287*T2))\n",
    "\n",
    "compinarea = mfhot/(den2*Ca)\n",
    "\n",
    "print(\"Compressor inlet area = %3.3f m^2\" % (compinarea))"
   ]
  },
  {
   "cell_type": "markdown",
   "metadata": {},
   "source": [
    "Additional Info: \\\n",
    "Compressor is a separate spool, do not exceed $ M = 1 $ for the largest compressor blade. \\\n",
    "Minimum blade height for last stage is 1 inch (0.0254 m). \\\n",
    "We should land somewhere around 15-17 compressor stages. \\\n",
    "This is open ended, so a lot will be assumed. Assumptions will be clearly stated in markdown + in comments of code."
   ]
  },
  {
   "cell_type": "code",
   "execution_count": 586,
   "metadata": {},
   "outputs": [
    {
     "name": "stdout",
     "output_type": "stream",
     "text": [
      "Compressor inlet tip radius = 0.268 m\n",
      "Compressor inlet hub radius = 0.107 m\n",
      "Compressor mean radius = 0.187 m\n",
      "Compressor rotational velocity = 208.05 rev/s\n"
     ]
    }
   ],
   "source": [
    "Utcomp = 350 # m/s\n",
    "\n",
    "htratiocomp = 0.4\n",
    "\n",
    "r2t = np.sqrt(mfhot/(np.pi*den2*Ca*(1-(htratiocomp**2))))\n",
    "\n",
    "r2h = r2t*htratiocomp\n",
    "\n",
    "# Constant Mean Radius\n",
    "\n",
    "rm = (r2t+r2h)/2\n",
    "\n",
    "print(\"Compressor inlet tip radius = %3.3f m\" % (r2t))\n",
    "print(\"Compressor inlet hub radius = %3.3f m\" % (r2h))\n",
    "print(\"Compressor mean radius = %3.3f m\" % (rm))\n",
    "\n",
    "Nmain = Utcomp/(2*np.pi*r2t)\n",
    "\n",
    "print(\"Compressor rotational velocity = %3.2f rev/s\" % (Nmain))"
   ]
  },
  {
   "cell_type": "code",
   "execution_count": 587,
   "metadata": {},
   "outputs": [
    {
     "name": "stdout",
     "output_type": "stream",
     "text": [
      "The Fan blade tip mach number is 1.08\n",
      "This satisfies the requirement\n"
     ]
    }
   ],
   "source": [
    "V2t = np.sqrt((Utcomp**2)+(Ca**2))\n",
    "\n",
    "M2t = V2t/(np.sqrt(gammac*287*T2))\n",
    "\n",
    "print(\"The Fan blade tip mach number is %3.2f\" % (M2t))\n",
    "\n",
    "if M2t > 1.2:\n",
    "    print(\"This does not satify the requirement\")\n",
    "else:\n",
    "    print(\"This satisfies the requirement\")"
   ]
  },
  {
   "cell_type": "code",
   "execution_count": 588,
   "metadata": {},
   "outputs": [
    {
     "name": "stdout",
     "output_type": "stream",
     "text": [
      "To3 = 755.33 K\n",
      "po3 = 21.21 bar\n"
     ]
    }
   ],
   "source": [
    "# Station 3: Compressor Outlet\n",
    "\n",
    "ncompressor = (1/polyc)*((gammac-1)/gammac)\n",
    "\n",
    "To3 = To2*(CPR**ncompressor)\n",
    "\n",
    "print(\"To3 = %3.2f K\" % (To3))\n",
    "\n",
    "po3 = po2*CPR\n",
    "\n",
    "print(\"po3 = %3.2f bar\" % (po3))"
   ]
  },
  {
   "cell_type": "code",
   "execution_count": 589,
   "metadata": {},
   "outputs": [
    {
     "name": "stdout",
     "output_type": "stream",
     "text": [
      "T3 = 744.13 K\n",
      "p3 = 20.13 bar\n",
      "Compressor outlet area = 0.028 m^2\n"
     ]
    }
   ],
   "source": [
    "T3 = To3-((Ca**2)/(2*1.005*10**3))\n",
    "\n",
    "print(\"T3 = %3.2f K\" % (T3))\n",
    "\n",
    "p3 = po3*(((T3)/(To3)))**(gammac/(gammac-1))\n",
    "\n",
    "print(\"p3 = %3.2f bar\" % (p3))\n",
    "\n",
    "den3 = ((100*p3)/(0.287*T3))\n",
    "\n",
    "compoutarea = mfhot/(den3*Ca)\n",
    "\n",
    "print('Compressor outlet area = %3.3f m^2' % (compoutarea))"
   ]
  },
  {
   "cell_type": "code",
   "execution_count": 590,
   "metadata": {},
   "outputs": [
    {
     "name": "stdout",
     "output_type": "stream",
     "text": [
      "The outlet blade height is 0.0240 m\n",
      "The minimum blade height is 0.0254 m\n",
      "This does not satisfy the requirement\n"
     ]
    }
   ],
   "source": [
    "compoutbladeheight = compoutarea/(2*np.pi*rm)\n",
    "\n",
    "print(\"The outlet blade height is %3.4f m\" % (compoutbladeheight))\n",
    "print(\"The minimum blade height is 0.0254 m\")\n",
    "if compoutbladeheight >= 0.0254:\n",
    "    print(\"This satisfies the requirement\")\n",
    "else:\n",
    "    print(\"This does not satisfy the requirement\")"
   ]
  },
  {
   "cell_type": "code",
   "execution_count": 591,
   "metadata": {},
   "outputs": [
    {
     "name": "stdout",
     "output_type": "stream",
     "text": [
      "Compressor outlet tip radius = 0.199 m\n",
      "Compressor outlet hub radius = 0.175 m\n"
     ]
    }
   ],
   "source": [
    "r3t = rm + (compoutbladeheight/2)\n",
    "\n",
    "r3h = rm - (compoutbladeheight/2)\n",
    "\n",
    "print(\"Compressor outlet tip radius = %3.3f m\" % (r3t))\n",
    "print(\"Compressor outlet hub radius = %3.3f m\" % (r3h))"
   ]
  },
  {
   "cell_type": "code",
   "execution_count": 592,
   "metadata": {},
   "outputs": [
    {
     "name": "stdout",
     "output_type": "stream",
     "text": [
      "Compressor mean blade speed = 245.00 m/s\n",
      "Compressor Stage 1 Beta 1 = 58.52°\n",
      "V1 = 287.27 m/s\n",
      "V2 = 186.73 m/s\n",
      "Compressor Stage 1 Beta 2 = 36.55°\n",
      "The average stage temperature rise is 31.96 K\n"
     ]
    }
   ],
   "source": [
    "# Stage Estimation\n",
    "\n",
    "Umcomp = 2*np.pi*rm*Nmain\n",
    "Uhcomp = 2*np.pi*r2h*Nmain\n",
    "\n",
    "print(\"Compressor mean blade speed = %3.2f m/s\" % (Umcomp))\n",
    "\n",
    "c1beta1mean = np.degrees(np.arctan(Umcomp/Ca))\n",
    "\n",
    "print(\"Compressor Stage 1 Beta 1 = %3.2f°\" % (c1beta1mean))\n",
    "\n",
    "V1c1 = Ca/np.cos(np.radians(c1beta1mean))\n",
    "\n",
    "print(\"V1 = %3.2f m/s\" % (V1c1))\n",
    "\n",
    "deHaller = 0.65 # V2/V1 cannot be less than 0.65\n",
    "\n",
    "V2c1 = V1c1*deHaller\n",
    "\n",
    "print(\"V2 = %3.2f m/s\" % (V2c1))\n",
    "\n",
    "c1beta2mean = np.degrees(np.arccos(Ca/V2c1))\n",
    "\n",
    "print(\"Compressor Stage 1 Beta 2 = %3.2f°\" % (c1beta2mean))\n",
    "\n",
    "deltaTos = (lamb*Umcomp*Ca*(np.tan(np.radians(c1beta1mean))-np.tan(np.radians(c1beta2mean))))/(1.005*10**3)\n",
    "\n",
    "print(\"The average stage temperature rise is %3.2f K\" % (deltaTos))"
   ]
  },
  {
   "cell_type": "code",
   "execution_count": 593,
   "metadata": {},
   "outputs": [
    {
     "name": "stdout",
     "output_type": "stream",
     "text": [
      "The Compressor Temperature rise is 435.61 K\n",
      "Estimation of 13.6 Stages\n"
     ]
    }
   ],
   "source": [
    "compstagrise = To3 - To2\n",
    "\n",
    "print(\"The Compressor Temperature rise is %3.2f K\" % (compstagrise))\n",
    "\n",
    "stageest = compstagrise/deltaTos\n",
    "\n",
    "print(\"Estimation of %3.1f Stages\" % (stageest))"
   ]
  },
  {
   "cell_type": "code",
   "execution_count": 594,
   "metadata": {},
   "outputs": [],
   "source": [
    "stageactual = 15\n",
    "# Values per stage: alpha1, alpha2, beta1, beta2, r, U, Cw, V, Vw\n",
    "stagevals = np.zeros((stageactual,3,9))"
   ]
  },
  {
   "cell_type": "code",
   "execution_count": 595,
   "metadata": {},
   "outputs": [],
   "source": [
    "i = 0\n",
    "\n",
    "deltadiff = 15\n",
    "\n",
    "deltato1 = 25\n",
    "# for 4 stages\n",
    "deltato2 = (compstagrise-(deltato1*4))/(stageactual-4)\n",
    "# for stageactual - 4 stages\n",
    "\n",
    "lambcomp = 0.98\n",
    "\n",
    "Cwtprev = 0 # m/s\n",
    "Cwmprev = 0 # m/s\n",
    "Cwhprev = 0 # m/s\n",
    "\n",
    "while i < stageactual:\n",
    "    if i < 2 or i > (stageactual-3):\n",
    "        stagedeltaTo = deltato1\n",
    "    else:\n",
    "        stagedeltaTo = deltato2\n",
    "    deltawhirlt = ((1.005*(10**3)*(stagedeltaTo))/(lambcomp*Utcomp))\n",
    "\n",
    "    rtstage = ((r3t-r2t)/(stageactual-1))*i+r2t \n",
    "    rhstage = ((r3h-r2h)/(stageactual-1))*i+r2h\n",
    "\n",
    "    Utstage = 2*np.pi*rtstage*Nmain\n",
    "    Uhstage = 2*np.pi*rhstage*Nmain\n",
    "\n",
    "    Cwt = deltawhirlt - Cwtprev\n",
    "\n",
    "    stagebeta1tip = np.degrees(np.arctan(Utcomp/Ca))\n",
    "    stagebeta2tip = np.degrees(np.arctan((Utcomp-Cwt)/Ca))\n",
    "    stagealpha1tip = np.degrees(np.arctan((Utstage/Ca)-np.tan(np.radians(stagebeta1tip))))\n",
    "    stagealpha2tip = np.degrees(np.arctan((Cwt)/Ca))\n",
    "\n",
    "    dehallert = (np.cos(np.radians(stagebeta1tip)))/(np.cos(np.radians(stagebeta2tip)))\n",
    "\n",
    "    deltawhirlm = ((1.005*(10**3)*(stagedeltaTo))/(lambcomp*Umcomp))\n",
    "\n",
    "    Cwm = deltawhirlm - Cwmprev\n",
    "\n",
    "    stagebeta1mean = np.degrees(np.arctan(Umcomp/Ca))\n",
    "    stagebeta2mean = np.degrees(np.arctan((Umcomp-Cwm)/Ca))\n",
    "    stagealpha1mean = np.degrees(np.arctan((Umcomp/Ca)-np.tan(np.radians(stagebeta1mean))))\n",
    "    stagealpha2mean = np.degrees(np.arctan((Cwm)/Ca))    \n",
    "\n",
    "    deltawhirlh = ((1.005*(10**3)*(stagedeltaTo))/(lambcomp*Uhcomp))\n",
    "\n",
    "    Cwh = deltawhirlh - Cwhprev\n",
    "\n",
    "    stagebeta1hub = np.degrees(np.arctan(Uhcomp/Ca))\n",
    "    stagebeta2hub = np.degrees(np.arctan((Uhcomp-Cwh)/Ca))\n",
    "    stagealpha1hub = np.degrees(np.arctan((Uhstage/Ca)-np.tan(np.radians(stagebeta1hub))))\n",
    "    stagealpha2hub = np.degrees(np.arctan((Cwh)/Ca))\n",
    "\n",
    "    stagevals[i,:,:] = np.array([[stagealpha1hub,stagealpha2hub,stagebeta1hub,stagebeta2hub,rtstage,Utstage,Cwh,0,0],[stagealpha1mean,stagealpha2mean,stagebeta1mean,stagebeta2mean,rm,Umcomp,Cwm,0,0],[stagealpha1tip,stagealpha2tip,stagebeta1tip,stagebeta2tip,rhstage,Uhstage,Cwt,0,0]])\n",
    "\n",
    "    Cwtprev = Cwt\n",
    "    Cwmprev = Cwm\n",
    "    Cwhprev = Cwh\n",
    "\n",
    "    i += 1"
   ]
  },
  {
   "cell_type": "code",
   "execution_count": 596,
   "metadata": {},
   "outputs": [
    {
     "data": {
      "text/html": [
       "<style type=\"text/css\">\n",
       "</style>\n",
       "<table id=\"T_c733b\">\n",
       "  <thead>\n",
       "    <tr>\n",
       "      <th class=\"blank level0\" >&nbsp;</th>\n",
       "      <th id=\"T_c733b_level0_col0\" class=\"col_heading level0 col0\" >alpha1tip</th>\n",
       "      <th id=\"T_c733b_level0_col1\" class=\"col_heading level0 col1\" >alpha2tip</th>\n",
       "      <th id=\"T_c733b_level0_col2\" class=\"col_heading level0 col2\" >beta1tip</th>\n",
       "      <th id=\"T_c733b_level0_col3\" class=\"col_heading level0 col3\" >beta2tip</th>\n",
       "    </tr>\n",
       "  </thead>\n",
       "  <tbody>\n",
       "    <tr>\n",
       "      <th id=\"T_c733b_level0_row0\" class=\"row_heading level0 row0\" >Stage 1</th>\n",
       "      <td id=\"T_c733b_row0_col0\" class=\"data row0 col0\" >0.0000</td>\n",
       "      <td id=\"T_c733b_row0_col1\" class=\"data row0 col1\" >50.6789</td>\n",
       "      <td id=\"T_c733b_row0_col2\" class=\"data row0 col2\" >43.0251</td>\n",
       "      <td id=\"T_c733b_row0_col3\" class=\"data row0 col3\" >-16.0406</td>\n",
       "    </tr>\n",
       "    <tr>\n",
       "      <th id=\"T_c733b_level0_row1\" class=\"row_heading level0 row1\" >Stage 2</th>\n",
       "      <td id=\"T_c733b_row1_col0\" class=\"data row1 col0\" >2.4349</td>\n",
       "      <td id=\"T_c733b_row1_col1\" class=\"data row1 col1\" >0.0000</td>\n",
       "      <td id=\"T_c733b_row1_col2\" class=\"data row1 col2\" >43.0251</td>\n",
       "      <td id=\"T_c733b_row1_col3\" class=\"data row1 col3\" >43.0251</td>\n",
       "    </tr>\n",
       "    <tr>\n",
       "      <th id=\"T_c733b_level0_row2\" class=\"row_heading level0 row2\" >Stage 3</th>\n",
       "      <td id=\"T_c733b_row2_col0\" class=\"data row2 col0\" >4.8610</td>\n",
       "      <td id=\"T_c733b_row2_col1\" class=\"data row2 col1\" >56.1311</td>\n",
       "      <td id=\"T_c733b_row2_col2\" class=\"data row2 col2\" >43.0251</td>\n",
       "      <td id=\"T_c733b_row2_col3\" class=\"data row2 col3\" >-29.0990</td>\n",
       "    </tr>\n",
       "    <tr>\n",
       "      <th id=\"T_c733b_level0_row3\" class=\"row_heading level0 row3\" >Stage 4</th>\n",
       "      <td id=\"T_c733b_row3_col0\" class=\"data row3 col0\" >7.2698</td>\n",
       "      <td id=\"T_c733b_row3_col1\" class=\"data row3 col1\" >0.0000</td>\n",
       "      <td id=\"T_c733b_row3_col2\" class=\"data row3 col2\" >43.0251</td>\n",
       "      <td id=\"T_c733b_row3_col3\" class=\"data row3 col3\" >43.0251</td>\n",
       "    </tr>\n",
       "    <tr>\n",
       "      <th id=\"T_c733b_level0_row4\" class=\"row_heading level0 row4\" >Stage 5</th>\n",
       "      <td id=\"T_c733b_row4_col0\" class=\"data row4 col0\" >9.6531</td>\n",
       "      <td id=\"T_c733b_row4_col1\" class=\"data row4 col1\" >56.1311</td>\n",
       "      <td id=\"T_c733b_row4_col2\" class=\"data row4 col2\" >43.0251</td>\n",
       "      <td id=\"T_c733b_row4_col3\" class=\"data row4 col3\" >-29.0990</td>\n",
       "    </tr>\n",
       "    <tr>\n",
       "      <th id=\"T_c733b_level0_row5\" class=\"row_heading level0 row5\" >Stage 6</th>\n",
       "      <td id=\"T_c733b_row5_col0\" class=\"data row5 col0\" >12.0031</td>\n",
       "      <td id=\"T_c733b_row5_col1\" class=\"data row5 col1\" >0.0000</td>\n",
       "      <td id=\"T_c733b_row5_col2\" class=\"data row5 col2\" >43.0251</td>\n",
       "      <td id=\"T_c733b_row5_col3\" class=\"data row5 col3\" >43.0251</td>\n",
       "    </tr>\n",
       "    <tr>\n",
       "      <th id=\"T_c733b_level0_row6\" class=\"row_heading level0 row6\" >Stage 7</th>\n",
       "      <td id=\"T_c733b_row6_col0\" class=\"data row6 col0\" >14.3128</td>\n",
       "      <td id=\"T_c733b_row6_col1\" class=\"data row6 col1\" >56.1311</td>\n",
       "      <td id=\"T_c733b_row6_col2\" class=\"data row6 col2\" >43.0251</td>\n",
       "      <td id=\"T_c733b_row6_col3\" class=\"data row6 col3\" >-29.0990</td>\n",
       "    </tr>\n",
       "    <tr>\n",
       "      <th id=\"T_c733b_level0_row7\" class=\"row_heading level0 row7\" >Stage 8</th>\n",
       "      <td id=\"T_c733b_row7_col0\" class=\"data row7 col0\" >16.5760</td>\n",
       "      <td id=\"T_c733b_row7_col1\" class=\"data row7 col1\" >0.0000</td>\n",
       "      <td id=\"T_c733b_row7_col2\" class=\"data row7 col2\" >43.0251</td>\n",
       "      <td id=\"T_c733b_row7_col3\" class=\"data row7 col3\" >43.0251</td>\n",
       "    </tr>\n",
       "    <tr>\n",
       "      <th id=\"T_c733b_level0_row8\" class=\"row_heading level0 row8\" >Stage 9</th>\n",
       "      <td id=\"T_c733b_row8_col0\" class=\"data row8 col0\" >18.7873</td>\n",
       "      <td id=\"T_c733b_row8_col1\" class=\"data row8 col1\" >56.1311</td>\n",
       "      <td id=\"T_c733b_row8_col2\" class=\"data row8 col2\" >43.0251</td>\n",
       "      <td id=\"T_c733b_row8_col3\" class=\"data row8 col3\" >-29.0990</td>\n",
       "    </tr>\n",
       "    <tr>\n",
       "      <th id=\"T_c733b_level0_row9\" class=\"row_heading level0 row9\" >Stage 10</th>\n",
       "      <td id=\"T_c733b_row9_col0\" class=\"data row9 col0\" >20.9420</td>\n",
       "      <td id=\"T_c733b_row9_col1\" class=\"data row9 col1\" >0.0000</td>\n",
       "      <td id=\"T_c733b_row9_col2\" class=\"data row9 col2\" >43.0251</td>\n",
       "      <td id=\"T_c733b_row9_col3\" class=\"data row9 col3\" >43.0251</td>\n",
       "    </tr>\n",
       "    <tr>\n",
       "      <th id=\"T_c733b_level0_row10\" class=\"row_heading level0 row10\" >Stage 11</th>\n",
       "      <td id=\"T_c733b_row10_col0\" class=\"data row10 col0\" >23.0364</td>\n",
       "      <td id=\"T_c733b_row10_col1\" class=\"data row10 col1\" >56.1311</td>\n",
       "      <td id=\"T_c733b_row10_col2\" class=\"data row10 col2\" >43.0251</td>\n",
       "      <td id=\"T_c733b_row10_col3\" class=\"data row10 col3\" >-29.0990</td>\n",
       "    </tr>\n",
       "    <tr>\n",
       "      <th id=\"T_c733b_level0_row11\" class=\"row_heading level0 row11\" >Stage 12</th>\n",
       "      <td id=\"T_c733b_row11_col0\" class=\"data row11 col0\" >25.0677</td>\n",
       "      <td id=\"T_c733b_row11_col1\" class=\"data row11 col1\" >0.0000</td>\n",
       "      <td id=\"T_c733b_row11_col2\" class=\"data row11 col2\" >43.0251</td>\n",
       "      <td id=\"T_c733b_row11_col3\" class=\"data row11 col3\" >43.0251</td>\n",
       "    </tr>\n",
       "    <tr>\n",
       "      <th id=\"T_c733b_level0_row12\" class=\"row_heading level0 row12\" >Stage 13</th>\n",
       "      <td id=\"T_c733b_row12_col0\" class=\"data row12 col0\" >27.0338</td>\n",
       "      <td id=\"T_c733b_row12_col1\" class=\"data row12 col1\" >56.1311</td>\n",
       "      <td id=\"T_c733b_row12_col2\" class=\"data row12 col2\" >43.0251</td>\n",
       "      <td id=\"T_c733b_row12_col3\" class=\"data row12 col3\" >-29.0990</td>\n",
       "    </tr>\n",
       "    <tr>\n",
       "      <th id=\"T_c733b_level0_row13\" class=\"row_heading level0 row13\" >Stage 14</th>\n",
       "      <td id=\"T_c733b_row13_col0\" class=\"data row13 col0\" >28.9335</td>\n",
       "      <td id=\"T_c733b_row13_col1\" class=\"data row13 col1\" >-15.0592</td>\n",
       "      <td id=\"T_c733b_row13_col2\" class=\"data row13 col2\" >43.0251</td>\n",
       "      <td id=\"T_c733b_row13_col3\" class=\"data row13 col3\" >50.2505</td>\n",
       "    </tr>\n",
       "    <tr>\n",
       "      <th id=\"T_c733b_level0_row14\" class=\"row_heading level0 row14\" >Stage 15</th>\n",
       "      <td id=\"T_c733b_row14_col0\" class=\"data row14 col0\" >30.7660</td>\n",
       "      <td id=\"T_c733b_row14_col1\" class=\"data row14 col1\" >56.1311</td>\n",
       "      <td id=\"T_c733b_row14_col2\" class=\"data row14 col2\" >43.0251</td>\n",
       "      <td id=\"T_c733b_row14_col3\" class=\"data row14 col3\" >-29.0990</td>\n",
       "    </tr>\n",
       "  </tbody>\n",
       "</table>\n"
      ],
      "text/plain": [
       "<pandas.io.formats.style.Styler at 0x20efab635d0>"
      ]
     },
     "execution_count": 596,
     "metadata": {},
     "output_type": "execute_result"
    }
   ],
   "source": [
    "tabletry = pd.DataFrame({\"alpha1tip\": stagevals[:,0,0],\"alpha2tip\": stagevals[:,0,1],\"beta1tip\": stagevals[:,0,2],\"beta2tip\": stagevals[:,0,3]})\n",
    "\n",
    "tabletry.style \\\n",
    "    .format(precision=4) \\\n",
    "    .relabel_index([\"Stage 1\",\"Stage 2\",\"Stage 3\",\"Stage 4\",\"Stage 5\",\"Stage 6\",\"Stage 7\",\"Stage 8\",\"Stage 9\",\"Stage 10\",\"Stage 11\",\"Stage 12\",\"Stage 13\",\"Stage 14\",\"Stage 15\"],axis=0)\n"
   ]
  },
  {
   "cell_type": "code",
   "execution_count": 597,
   "metadata": {},
   "outputs": [
    {
     "name": "stdout",
     "output_type": "stream",
     "text": [
      "The increase in whirl velocity across the first compressor stage at the tip is 82.04 m/s\n"
     ]
    }
   ],
   "source": [
    "# Stage by stage\n",
    "# Stage 1\n",
    "# Assumption: Since the first few and last few stages will have a\n",
    "# slightly lower temperature rise, temperature rise across stage 1 =\n",
    "# 30 K\n",
    "\n",
    "stage1deltaTo = 28 # K\n",
    "lambcomp = 0.98\n",
    "\n",
    "stage1wvelupt = ((1.005*(10**3)*(stage1deltaTo))/(lambcomp*Utcomp))\n",
    "\n",
    "print(\"The increase in whirl velocity across the first compressor stage at the tip is %3.2f m/s\" % (stage1wvelupt))"
   ]
  },
  {
   "cell_type": "code",
   "execution_count": 598,
   "metadata": {},
   "outputs": [
    {
     "name": "stdout",
     "output_type": "stream",
     "text": [
      "r2t 0.27 m\n",
      "r2m 0.19 m\n",
      "r2h 0.11 m\n",
      "Stage 1 Tip Angles:\n",
      "Beta 1 = 66.80°\n",
      "Beta 2 = 60.76°\n",
      "Alpha 2 = 28.68°\n"
     ]
    }
   ],
   "source": [
    "# Stage 1 Tip Angles\n",
    "\n",
    "stage1beta1tip = np.degrees(np.arctan(Utcomp/Ca))\n",
    "stage1beta2tip = np.degrees(np.arctan((Utcomp-stage1wvelupt)/Ca))\n",
    "stage1alpha2tip = np.degrees(np.arctan((stage1wvelupt)/Ca))\n",
    "\n",
    "print(\"r2t %3.2f m\" % (r2t))\n",
    "print(\"r2m %3.2f m\" % (rm))\n",
    "print(\"r2h %3.2f m\" % (r2h))\n",
    "\n",
    "print(\"Stage 1 Tip Angles:\")\n",
    "print(\"Beta 1 = %3.2f°\" % (stage1beta1tip))\n",
    "print(\"Beta 2 = %3.2f°\" % (stage1beta2tip))\n",
    "print(\"Alpha 2 = %3.2f°\" % (stage1alpha2tip))"
   ]
  },
  {
   "cell_type": "code",
   "execution_count": 599,
   "metadata": {},
   "outputs": [
    {
     "name": "stdout",
     "output_type": "stream",
     "text": [
      "Stage 1 Mean Angles:\n",
      "Beta 1 = 58.52°\n",
      "Beta 2 = 40.43°\n",
      "Alpha 2 = 38.00°\n"
     ]
    }
   ],
   "source": [
    "# Stage 1 Mean Angles\n",
    "\n",
    "stage1wvelupm = ((1.005*(10**3)*(stage1deltaTo))/(lambcomp*Umcomp))\n",
    "\n",
    "stage1beta1mean = np.degrees(np.arctan(Umcomp/Ca))\n",
    "stage1beta2mean = np.degrees(np.arctan((Umcomp-stage1wvelupm)/Ca))\n",
    "stage1alpha2mean = np.degrees(np.arctan((stage1wvelupm)/Ca))\n",
    "\n",
    "print(\"Stage 1 Mean Angles:\")\n",
    "print(\"Beta 1 = %3.2f°\" % (stage1beta1mean))\n",
    "print(\"Beta 2 = %3.2f°\" % (stage1beta2mean))\n",
    "print(\"Alpha 2 = %3.2f°\" % (stage1alpha2mean))"
   ]
  },
  {
   "cell_type": "code",
   "execution_count": 600,
   "metadata": {},
   "outputs": [
    {
     "name": "stdout",
     "output_type": "stream",
     "text": [
      "Stage 1 Hub Angles:\n",
      "Beta 1 = 43.03°\n",
      "Beta 2 = -23.46°\n",
      "Alpha 2 = 53.82°\n"
     ]
    }
   ],
   "source": [
    "# Stage 1 Hub Angles\n",
    "\n",
    "stage1wveluph = ((1.005*(10**3)*(stage1deltaTo))/(lambcomp*Uhcomp))\n",
    "\n",
    "stage1beta1hub = np.degrees(np.arctan(Uhcomp/Ca))\n",
    "stage1beta2hub = np.degrees(np.arctan((Uhcomp-stage1wveluph)/Ca))\n",
    "stage1alpha2hub = np.degrees(np.arctan((stage1wveluph)/Ca))\n",
    "\n",
    "print(\"Stage 1 Hub Angles:\")\n",
    "print(\"Beta 1 = %3.2f°\" % (stage1beta1hub))\n",
    "print(\"Beta 2 = %3.2f°\" % (stage1beta2hub))\n",
    "print(\"Alpha 2 = %3.2f°\" % (stage1alpha2hub))"
   ]
  }
 ],
 "metadata": {
  "kernelspec": {
   "display_name": "Python 3 (ipykernel)",
   "language": "python",
   "name": "python3"
  },
  "language_info": {
   "codemirror_mode": {
    "name": "ipython",
    "version": 3
   },
   "file_extension": ".py",
   "mimetype": "text/x-python",
   "name": "python",
   "nbconvert_exporter": "python",
   "pygments_lexer": "ipython3",
   "version": "3.11.3"
  }
 },
 "nbformat": 4,
 "nbformat_minor": 2
}

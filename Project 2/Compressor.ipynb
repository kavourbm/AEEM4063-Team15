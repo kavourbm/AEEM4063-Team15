{
 "cells": [
  {
   "cell_type": "code",
   "execution_count": 74,
   "metadata": {},
   "outputs": [],
   "source": [
    "import numpy as np\n",
    "import matplotlib.pyplot as plt\n",
    "%matplotlib inline"
   ]
  },
  {
   "cell_type": "code",
   "execution_count": 75,
   "metadata": {},
   "outputs": [],
   "source": [
    "CPR = 15\n",
    "FPR = 1.4\n",
    "polyc = 0.90\n",
    "polyf = 0.92\n",
    "\n",
    "BPR = 6\n",
    "mfa = 280 # kg/s, through the fan"
   ]
  },
  {
   "cell_type": "code",
   "execution_count": 76,
   "metadata": {},
   "outputs": [],
   "source": [
    "# blade tip speed should not exceed M1 = 340.3 m/s\n",
    "# Fan is the largest radius compressor stage\n",
    "\n",
    "Ut = 340.3 # m/s"
   ]
  },
  {
   "cell_type": "markdown",
   "metadata": {},
   "source": [
    "$$\n",
    "\\dot{m}_{a} =\\rho_1 A C_{a1} \\\\\n",
    "A = \\frac{\\dot{m}_{a}}{\\rho_1 C_{a1}}\n",
    "$$"
   ]
  },
  {
   "cell_type": "markdown",
   "metadata": {},
   "source": [
    "$$\n",
    "\\dot{m}_{a} =\\rho_1 A C_{a1} =\\rho_1 \\pi {r_t}^{2} [1-(\\frac{r_r}{r_t})^2] C_{a1} \\\\\n",
    "{r_t}^2 =\\frac{\\dot{m}_{a}}{\\pi \\rho_1 C_{a1} [1-(r_r/r_t)^2]} \\\\\n",
    "$$"
   ]
  },
  {
   "cell_type": "code",
   "execution_count": 77,
   "metadata": {},
   "outputs": [],
   "source": [
    "# C1 = Ca\n",
    "\n",
    "Ca = 150 # m/s\n",
    "\n",
    "po1= 1.01 # bar\n",
    "To1 = 288 # K\n",
    "\n",
    "gammac = 1.4\n",
    "gammah = 1.33\n",
    "\n",
    "T1 = To1-((Ca1**2)/(2*1.005*10**3))\n",
    "p1 = po1*(((T1)/(To1)))**(gammac/(gammac-1))\n",
    "\n",
    "den1 = ((100*p1)/(0.287*T1))"
   ]
  },
  {
   "cell_type": "code",
   "execution_count": 78,
   "metadata": {},
   "outputs": [
    {
     "name": "stdout",
     "output_type": "stream",
     "text": [
      "Fan inlet area = 1.69 m^2\n",
      "Fan tip radius = 0.85 m\n"
     ]
    }
   ],
   "source": [
    "Afan = mfa/(den1*Ca)\n",
    "\n",
    "# Assuming a random hub/tip ratio\n",
    "\n",
    "htratio = 0.5\n",
    "\n",
    "rtfan = np.sqrt(mfa/(np.pi*den1*Ca*(1-(htratio**2))))\n",
    "\n",
    "print(\"Fan inlet area = %3.2f m^2\" % (Afan))\n",
    "print(\"Fan tip radius = %3.2f m\" % (rtfan))"
   ]
  },
  {
   "cell_type": "code",
   "execution_count": 79,
   "metadata": {},
   "outputs": [
    {
     "name": "stdout",
     "output_type": "stream",
     "text": [
      "To2 = 319.72 K\n",
      "po2 = 1.41 bar\n"
     ]
    }
   ],
   "source": [
    "nfan = (1/polyf)*((gammac-1)/gammac)\n",
    "To2 = To1*(FPR**nfan)\n",
    "\n",
    "print(\"To2 = %3.2f K\" % (To2))\n",
    "\n",
    "po2 = po1*FPR\n",
    "\n",
    "print(\"po2 = %3.2f bar\" % (po2))"
   ]
  },
  {
   "cell_type": "markdown",
   "metadata": {},
   "source": [
    "$$\n",
    "\\Delta C_w =\\frac{c_p \\Delta T_0}{\\lambda U}\n",
    "$$"
   ]
  },
  {
   "cell_type": "code",
   "execution_count": 80,
   "metadata": {},
   "outputs": [],
   "source": [
    "lamb = 0.98\n",
    "fanwvelup = ((1.005*(10**3)*(To2-To1))/(lamb*Ut))\n",
    "print()"
   ]
  },
  {
   "cell_type": "markdown",
   "metadata": {},
   "source": [
    "$$\n",
    "\\dot{m}_{c} =\\frac{\\dot{m} BPR}{BPR+1} \\\\\n",
    "\\dot{m}_{h} =\\frac{\\dot{m}}{BPR+1} \\\\\n",
    "$$"
   ]
  },
  {
   "cell_type": "code",
   "execution_count": 81,
   "metadata": {},
   "outputs": [
    {
     "name": "stdout",
     "output_type": "stream",
     "text": [
      "Compressor inlet area = 0.19 m^2\n"
     ]
    }
   ],
   "source": [
    "mfcold = (mfa*BPR)/(BPR+1)\n",
    "mfhot = (mfa)/(BPR+1)\n",
    "\n",
    "T2 = To2-((Ca**2)/(2*1.005*10**3))\n",
    "\n",
    "p2 = po2*(((T2)/(To2)))**(gammac/(gammac-1))\n",
    "\n",
    "den2 = ((100*p2)/(0.287*T2))\n",
    "\n",
    "compinarea = mfhot/(den2*Ca)\n",
    "\n",
    "print(\"Compressor inlet area = %3.2f m^2\" % (compinarea))"
   ]
  }
 ],
 "metadata": {
  "kernelspec": {
   "display_name": "Python 3",
   "language": "python",
   "name": "python3"
  },
  "language_info": {
   "codemirror_mode": {
    "name": "ipython",
    "version": 3
   },
   "file_extension": ".py",
   "mimetype": "text/x-python",
   "name": "python",
   "nbconvert_exporter": "python",
   "pygments_lexer": "ipython3",
   "version": "3.11.3"
  }
 },
 "nbformat": 4,
 "nbformat_minor": 2
}

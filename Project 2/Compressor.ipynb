{
 "cells": [
  {
   "cell_type": "code",
   "execution_count": 332,
   "metadata": {},
   "outputs": [],
   "source": [
    "import numpy as np\n",
    "import matplotlib.pyplot as plt\n",
    "%matplotlib inline\n",
    "\n",
    "import pandas as pd"
   ]
  },
  {
   "cell_type": "code",
   "execution_count": 333,
   "metadata": {},
   "outputs": [],
   "source": [
    "CPR = 15\n",
    "FPR = 1.4\n",
    "polyc = 0.90\n",
    "polyf = 0.92\n",
    "\n",
    "BPR = 6\n",
    "mfa = 280 # kg/s, through the fan"
   ]
  },
  {
   "cell_type": "code",
   "execution_count": 334,
   "metadata": {},
   "outputs": [],
   "source": [
    "# blade tip speed should not exceed M 1.2\n",
    "\n",
    "Utfan = 350 # m/s"
   ]
  },
  {
   "cell_type": "markdown",
   "metadata": {},
   "source": [
    "$$\n",
    "\\dot{m}_{a} =\\rho_1 A C_{a1} \\\\\n",
    "A = \\frac{\\dot{m}_{a}}{\\rho_1 C_{a1}}\n",
    "$$"
   ]
  },
  {
   "cell_type": "markdown",
   "metadata": {},
   "source": [
    "$$\n",
    "\\dot{m}_{a} =\\rho_1 A C_{a1} =\\rho_1 \\pi {r_t}^{2} [1-(\\frac{r_r}{r_t})^2] C_{a1} \\\\\n",
    "{r_t}^2 =\\frac{\\dot{m}_{a}}{\\pi \\rho_1 C_{a1} [1-(r_r/r_t)^2]} \\\\\n",
    "$$"
   ]
  },
  {
   "cell_type": "code",
   "execution_count": 335,
   "metadata": {},
   "outputs": [],
   "source": [
    "# Station 1: Fan Inlet\n",
    "\n",
    "# C1 = Ca\n",
    "\n",
    "Ca = 150 # m/s\n",
    "\n",
    "po1= 1.01 # bar\n",
    "To1 = 288 # K\n",
    "\n",
    "gammac = 1.4\n",
    "gammah = 1.33\n",
    "\n",
    "T1 = To1-((Ca**2)/(2*1.005*10**3))\n",
    "p1 = po1*(((T1)/(To1)))**(gammac/(gammac-1))\n",
    "\n",
    "den1 = ((100*p1)/(0.287*T1))"
   ]
  },
  {
   "cell_type": "code",
   "execution_count": 336,
   "metadata": {},
   "outputs": [
    {
     "name": "stdout",
     "output_type": "stream",
     "text": [
      "Fan inlet area = 1.69 m^2\n",
      "Fan tip radius = 0.76 m\n",
      "Rotational velocity = 73.61 rev/s\n"
     ]
    }
   ],
   "source": [
    "Afan = mfa/(den1*Ca)\n",
    "\n",
    "htratio = 0.25\n",
    "\n",
    "rtfan = np.sqrt(mfa/(np.pi*den1*Ca*(1-(htratio**2))))\n",
    "\n",
    "Nfan = Utfan/(2*np.pi*rtfan)\n",
    "\n",
    "print(\"Fan inlet area = %3.2f m^2\" % (Afan))\n",
    "print(\"Fan tip radius = %3.2f m\" % (rtfan))\n",
    "print(\"Rotational velocity = %3.2f rev/s\" % (Nfan))"
   ]
  },
  {
   "cell_type": "code",
   "execution_count": 337,
   "metadata": {},
   "outputs": [
    {
     "name": "stdout",
     "output_type": "stream",
     "text": [
      "The Fan blade tip mach number is 1.14\n",
      "This satisfies the requirement\n"
     ]
    }
   ],
   "source": [
    "V1t = np.sqrt((Utfan**2)+(Ca**2))\n",
    "\n",
    "M1t = V1t/(np.sqrt(gammac*287*T1))\n",
    "\n",
    "print(\"The Fan blade tip mach number is %3.2f\" % (M1t))\n",
    "\n",
    "if M1t > 1.2:\n",
    "    print(\"This does not satify the requirement\")\n",
    "else:\n",
    "    print(\"This satisfies the requirement\")"
   ]
  },
  {
   "cell_type": "code",
   "execution_count": 338,
   "metadata": {},
   "outputs": [
    {
     "name": "stdout",
     "output_type": "stream",
     "text": [
      "To2 = 319.72 K\n",
      "po2 = 1.41 bar\n"
     ]
    }
   ],
   "source": [
    "# Station 2: Compressor Inlet / Fan Outlet\n",
    "\n",
    "nfan = (1/polyf)*((gammac-1)/gammac)\n",
    "To2 = To1*(FPR**nfan)\n",
    "\n",
    "print(\"To2 = %3.2f K\" % (To2))\n",
    "\n",
    "po2 = po1*FPR\n",
    "\n",
    "print(\"po2 = %3.2f bar\" % (po2))"
   ]
  },
  {
   "cell_type": "markdown",
   "metadata": {},
   "source": [
    "$$\n",
    "\\Delta C_w =\\frac{c_p \\Delta T_0}{\\lambda U}\n",
    "$$"
   ]
  },
  {
   "cell_type": "code",
   "execution_count": 339,
   "metadata": {},
   "outputs": [
    {
     "name": "stdout",
     "output_type": "stream",
     "text": [
      "The increase in whirl velocity across the fan is 92.95 m/s\n"
     ]
    }
   ],
   "source": [
    "lamb = 0.98\n",
    "fanwvelup = ((1.005*(10**3)*(To2-To1))/(lamb*Utfan))\n",
    "print(\"The increase in whirl velocity across the fan is %3.2f m/s\" % (fanwvelup))"
   ]
  },
  {
   "cell_type": "code",
   "execution_count": 340,
   "metadata": {},
   "outputs": [
    {
     "name": "stdout",
     "output_type": "stream",
     "text": [
      "Fan Tip Angles:\n",
      "Beta 1 = 66.80°\n",
      "Beta 2 = 59.73°\n",
      "Alpha 2 = 31.78°\n"
     ]
    }
   ],
   "source": [
    "# Fan Angles\n",
    "\n",
    "fanbeta1tip = np.degrees(np.arctan(Utfan/Ca))\n",
    "fanbeta2tip = np.degrees(np.arctan((Utfan-fanwvelup)/Ca))\n",
    "fanalpha2tip = np.degrees(np.arctan((fanwvelup)/Ca))\n",
    "\n",
    "print(\"Fan Tip Angles:\")\n",
    "print(\"Beta 1 = %3.2f°\" % (fanbeta1tip))\n",
    "print(\"Beta 2 = %3.2f°\" % (fanbeta2tip))\n",
    "print(\"Alpha 2 = %3.2f°\" % (fanalpha2tip))"
   ]
  },
  {
   "cell_type": "markdown",
   "metadata": {},
   "source": [
    "$$\n",
    "\\dot{m}_{c} =\\frac{\\dot{m} BPR}{BPR+1} \\\\\n",
    "\\dot{m}_{h} =\\frac{\\dot{m}}{BPR+1} \\\\\n",
    "$$"
   ]
  },
  {
   "cell_type": "code",
   "execution_count": 341,
   "metadata": {},
   "outputs": [
    {
     "name": "stdout",
     "output_type": "stream",
     "text": [
      "Mass Flow Rate of Air through the Compressor = 40.00 kg/s\n",
      "Compressor inlet area = 0.189 m^2\n"
     ]
    }
   ],
   "source": [
    "mfcold = (mfa*BPR)/(BPR+1)\n",
    "mfhot = (mfa)/(BPR+1)\n",
    "\n",
    "print(\"Mass Flow Rate of Air through the Compressor = %3.2f kg/s\" % (mfhot))\n",
    "\n",
    "T2 = To2-((Ca**2)/(2*1.005*10**3))\n",
    "\n",
    "p2 = po2*(((T2)/(To2)))**(gammac/(gammac-1))\n",
    "\n",
    "den2 = ((100*p2)/(0.287*T2))\n",
    "\n",
    "compinarea = mfhot/(den2*Ca)\n",
    "\n",
    "print(\"Compressor inlet area = %3.3f m^2\" % (compinarea))"
   ]
  },
  {
   "cell_type": "markdown",
   "metadata": {},
   "source": [
    "Additional Info: \\\n",
    "Compressor is a separate spool, do not exceed $ M = 1 $ for the largest compressor blade. \\\n",
    "Minimum blade height for last stage is 1 inch (0.0254 m). \\\n",
    "We should land somewhere around 15-17 compressor stages. \\\n",
    "This is open ended, so a lot will be assumed. Assumptions will be clearly stated in markdown + in comments of code."
   ]
  },
  {
   "cell_type": "code",
   "execution_count": 342,
   "metadata": {},
   "outputs": [
    {
     "name": "stdout",
     "output_type": "stream",
     "text": [
      "Compressor inlet tip radius = 0.268 m\n",
      "Compressor inlet hub radius = 0.107 m\n",
      "Compressor mean radius = 0.187 m\n",
      "Compressor rotational velocity = 208.05 rev/s\n"
     ]
    }
   ],
   "source": [
    "Utcomp = 350 # m/s\n",
    "\n",
    "htratiocomp = 0.4\n",
    "\n",
    "r2t = np.sqrt(mfhot/(np.pi*den2*Ca*(1-(htratiocomp**2))))\n",
    "\n",
    "r2h = r2t*htratiocomp\n",
    "\n",
    "# Constant Mean Radius\n",
    "\n",
    "rm = (r2t+r2h)/2\n",
    "\n",
    "print(\"Compressor inlet tip radius = %3.3f m\" % (r2t))\n",
    "print(\"Compressor inlet hub radius = %3.3f m\" % (r2h))\n",
    "print(\"Compressor mean radius = %3.3f m\" % (rm))\n",
    "\n",
    "Nmain = Utcomp/(2*np.pi*r2t)\n",
    "\n",
    "print(\"Compressor rotational velocity = %3.2f rev/s\" % (Nmain))"
   ]
  },
  {
   "cell_type": "code",
   "execution_count": 343,
   "metadata": {},
   "outputs": [
    {
     "name": "stdout",
     "output_type": "stream",
     "text": [
      "The Fan blade tip mach number is 1.08\n",
      "This satisfies the requirement\n"
     ]
    }
   ],
   "source": [
    "V2t = np.sqrt((Utcomp**2)+(Ca**2))\n",
    "\n",
    "M2t = V2t/(np.sqrt(gammac*287*T2))\n",
    "\n",
    "print(\"The Fan blade tip mach number is %3.2f\" % (M2t))\n",
    "\n",
    "if M2t > 1.2:\n",
    "    print(\"This does not satify the requirement\")\n",
    "else:\n",
    "    print(\"This satisfies the requirement\")"
   ]
  },
  {
   "cell_type": "code",
   "execution_count": 344,
   "metadata": {},
   "outputs": [
    {
     "name": "stdout",
     "output_type": "stream",
     "text": [
      "To3 = 755.33 K\n",
      "po3 = 21.21 bar\n"
     ]
    }
   ],
   "source": [
    "# Station 3: Compressor Outlet\n",
    "\n",
    "ncompressor = (1/polyc)*((gammac-1)/gammac)\n",
    "\n",
    "To3 = To2*(CPR**ncompressor)\n",
    "\n",
    "print(\"To3 = %3.2f K\" % (To3))\n",
    "\n",
    "po3 = po2*CPR\n",
    "\n",
    "print(\"po3 = %3.2f bar\" % (po3))"
   ]
  },
  {
   "cell_type": "code",
   "execution_count": 345,
   "metadata": {},
   "outputs": [
    {
     "name": "stdout",
     "output_type": "stream",
     "text": [
      "T3 = 744.13 K\n",
      "p3 = 20.13 bar\n",
      "Compressor outlet area = 0.028 m^2\n"
     ]
    }
   ],
   "source": [
    "T3 = To3-((Ca**2)/(2*1.005*10**3))\n",
    "\n",
    "print(\"T3 = %3.2f K\" % (T3))\n",
    "\n",
    "p3 = po3*(((T3)/(To3)))**(gammac/(gammac-1))\n",
    "\n",
    "print(\"p3 = %3.2f bar\" % (p3))\n",
    "\n",
    "den3 = ((100*p3)/(0.287*T3))\n",
    "\n",
    "compoutarea = mfhot/(den3*Ca)\n",
    "\n",
    "print('Compressor outlet area = %3.3f m^2' % (compoutarea))"
   ]
  },
  {
   "cell_type": "code",
   "execution_count": 346,
   "metadata": {},
   "outputs": [
    {
     "name": "stdout",
     "output_type": "stream",
     "text": [
      "The outlet blade height is 0.0240 m\n",
      "The minimum blade height is 0.0254 m\n",
      "This does not satisfy the requirement\n"
     ]
    }
   ],
   "source": [
    "compoutbladeheight = compoutarea/(2*np.pi*rm)\n",
    "\n",
    "print(\"The outlet blade height is %3.4f m\" % (compoutbladeheight))\n",
    "print(\"The minimum blade height is 0.0254 m\")\n",
    "if compoutbladeheight >= 0.0254:\n",
    "    print(\"This satisfies the requirement\")\n",
    "else:\n",
    "    print(\"This does not satisfy the requirement\")"
   ]
  },
  {
   "cell_type": "code",
   "execution_count": 347,
   "metadata": {},
   "outputs": [
    {
     "name": "stdout",
     "output_type": "stream",
     "text": [
      "Compressor outlet tip radius = 0.1994 m\n",
      "Compressor outlet hub radius = 0.1754 m\n"
     ]
    }
   ],
   "source": [
    "r3t = rm + (compoutbladeheight/2)\n",
    "\n",
    "r3h = rm - (compoutbladeheight/2)\n",
    "\n",
    "print(\"Compressor outlet tip radius = %3.4f m\" % (r3t))\n",
    "print(\"Compressor outlet hub radius = %3.4f m\" % (r3h))"
   ]
  },
  {
   "cell_type": "code",
   "execution_count": 348,
   "metadata": {},
   "outputs": [
    {
     "name": "stdout",
     "output_type": "stream",
     "text": [
      "Compressor mean blade speed = 245.00 m/s\n",
      "Compressor Stage 1 Beta 1 = 58.52°\n",
      "V1 = 287.27 m/s\n",
      "V2 = 186.73 m/s\n",
      "Compressor Stage 1 Beta 2 = 36.55°\n",
      "The average stage temperature rise is 31.96 K\n"
     ]
    }
   ],
   "source": [
    "# Stage Estimation\n",
    "\n",
    "Umcomp = 2*np.pi*rm*Nmain\n",
    "Uhcomp = 2*np.pi*r2h*Nmain\n",
    "\n",
    "print(\"Compressor mean blade speed = %3.2f m/s\" % (Umcomp))\n",
    "\n",
    "c1beta1mean = np.degrees(np.arctan(Umcomp/Ca))\n",
    "\n",
    "print(\"Compressor Stage 1 Beta 1 = %3.2f°\" % (c1beta1mean))\n",
    "\n",
    "V1c1 = Ca/np.cos(np.radians(c1beta1mean))\n",
    "\n",
    "print(\"V1 = %3.2f m/s\" % (V1c1))\n",
    "\n",
    "deHaller = 0.65 # V2/V1 cannot be less than 0.65\n",
    "\n",
    "V2c1 = V1c1*deHaller\n",
    "\n",
    "print(\"V2 = %3.2f m/s\" % (V2c1))\n",
    "\n",
    "c1beta2mean = np.degrees(np.arccos(Ca/V2c1))\n",
    "\n",
    "print(\"Compressor Stage 1 Beta 2 = %3.2f°\" % (c1beta2mean))\n",
    "\n",
    "deltaTos = (lamb*Umcomp*Ca*(np.tan(np.radians(c1beta1mean))-np.tan(np.radians(c1beta2mean))))/(1.005*10**3)\n",
    "\n",
    "print(\"The average stage temperature rise is %3.2f K\" % (deltaTos))"
   ]
  },
  {
   "cell_type": "code",
   "execution_count": 349,
   "metadata": {},
   "outputs": [
    {
     "name": "stdout",
     "output_type": "stream",
     "text": [
      "The Compressor Temperature rise is 435.61 K\n",
      "Estimation of 13.6 Stages\n"
     ]
    }
   ],
   "source": [
    "compstagrise = To3 - To2\n",
    "\n",
    "print(\"The Compressor Temperature rise is %3.2f K\" % (compstagrise))\n",
    "\n",
    "stageest = compstagrise/deltaTos\n",
    "\n",
    "print(\"Estimation of %3.1f Stages\" % (stageest))"
   ]
  },
  {
   "cell_type": "code",
   "execution_count": 350,
   "metadata": {},
   "outputs": [],
   "source": [
    "stageactual = 15\n",
    "# Values per stage: alpha1, alpha2, beta1, beta2, r, U, Cw, V, Vw\n",
    "stagevals = np.zeros((stageactual,3,9))"
   ]
  },
  {
   "cell_type": "markdown",
   "metadata": {},
   "source": [
    "$$\n",
    "\\frac{1}{2}(\\frac{T_{0S}c_p}{\\lambda U C_a} +\\frac{2U \\Lambda}{C_a})=tan(\\beta_1) \\\\\n",
    "\\frac{2U \\Lambda}{C_a} -tan(\\beta_1) = tan(\\beta_2)\n",
    "$$"
   ]
  },
  {
   "cell_type": "code",
   "execution_count": 351,
   "metadata": {},
   "outputs": [],
   "source": [
    "i = 0\n",
    "\n",
    "deltadiff = 15\n",
    "\n",
    "deltato1 = 25\n",
    "# for 4 stages\n",
    "deltato2 = (compstagrise-(deltato1*4))/(stageactual-4)\n",
    "# for stageactual - 4 stages\n",
    "\n",
    "lambcomp = 0.98\n",
    "\n",
    "Cw1t = 0 # m/s\n",
    "Cw1m = 0 # m/s\n",
    "Cw1h = 0 # m/s\n",
    "\n",
    "while i < stageactual:\n",
    "    if i < 2 or i > (stageactual-3):\n",
    "        stagedeltaTo = deltato1\n",
    "    else:\n",
    "        stagedeltaTo = deltato2\n",
    "\n",
    "    if i == 0:\n",
    "        DOR = 0.8\n",
    "    if i == 1:\n",
    "        DOR = 0.7\n",
    "    if i == 2:\n",
    "        DOR = 0.6\n",
    "    if i == 3:\n",
    "        DOR = 0.55\n",
    "    else:\n",
    "        DOR = 0.5\n",
    "\n",
    "    rtstage = ((r3t-r2t)/(stageactual-1))*i+r2t \n",
    "    rhstage = ((r3h-r2h)/(stageactual-1))*i+r2h\n",
    "\n",
    "    Utstage = 2*np.pi*rtstage*Nmain\n",
    "    Uhstage = 2*np.pi*rhstage*Nmain\n",
    "\n",
    "    if i == 0:\n",
    "        deltawhirlt = ((1.005*(10**3)*(stagedeltaTo))/(lambcomp*Utcomp))\n",
    "        Cw2t = deltawhirlt - Cw1t\n",
    "        stagebeta1tip = np.degrees(np.arctan(Utcomp/Ca))\n",
    "        stagebeta2tip = np.degrees(np.arctan((Utcomp-Cw2t)/Ca))\n",
    "        stagealpha1tip = 0\n",
    "        stagealpha2tip = np.degrees(np.arctan((Cw2t)/Ca))\n",
    "    else:\n",
    "        stagebeta1tip = np.degrees(np.arctan(0.5*(((stagedeltaTo*1.005*1000)/(lambcomp*Utstage*Ca))+((2*Utstage*DOR)/(Ca)))))\n",
    "        stagebeta2tip = np.degrees(np.arctan(((2*Utstage*DOR)/(Ca))-np.tan(np.radians(stagebeta1tip))))\n",
    "        stagealpha1tip = np.degrees(np.arctan((Utstage/Ca)-np.tan(np.radians(stagebeta1tip))))\n",
    "        stagealpha2tip = np.degrees(np.arctan((Utstage/Ca)-np.tan(np.radians(stagebeta2tip))))\n",
    "        Cw1t = Ca*np.tan(np.radians(stagealpha1tip))\n",
    "        Cw2t = Ca*np.tan(np.radians(stagealpha2tip))\n",
    "    \n",
    "    dehallert = (np.cos(np.radians(stagebeta1tip)))/(np.cos(np.radians(stagebeta2tip)))\n",
    "\n",
    "    if i == 0:\n",
    "        deltawhirlm = ((1.005*(10**3)*(stagedeltaTo))/(lambcomp*Umcomp))\n",
    "        Cw2m = deltawhirlm - Cw1m\n",
    "        stagebeta1mean = np.degrees(np.arctan(Umcomp/Ca))\n",
    "        stagebeta2mean = np.degrees(np.arctan((Umcomp-Cw2m)/Ca))\n",
    "        stagealpha1mean = 0\n",
    "        stagealpha2mean = np.degrees(np.arctan((Cw2m)/Ca))\n",
    "    else:\n",
    "        stagebeta1mean = np.degrees(np.arctan(0.5*(((stagedeltaTo*1.005*1000)/(lambcomp*Umcomp*Ca))+((2*Umcomp*DOR)/(Ca)))))\n",
    "        stagebeta2mean = np.degrees(np.arctan(((2*Umcomp*DOR)/(Ca))-np.tan(np.radians(stagebeta1mean))))\n",
    "        stagealpha1mean = np.degrees(np.arctan((Umcomp/Ca)-np.tan(np.radians(stagebeta1mean))))\n",
    "        stagealpha2mean = np.degrees(np.arctan((Umcomp/Ca)-np.tan(np.radians(stagebeta2mean))))\n",
    "        Cw1m = Ca*np.tan(np.radians(stagealpha1mean))\n",
    "        Cw2m = Ca*np.tan(np.radians(stagealpha2mean))\n",
    "    \n",
    "    if i == 0:\n",
    "        deltawhirlh = ((1.005*(10**3)*(stagedeltaTo))/(lambcomp*Uhcomp))\n",
    "        Cw2h = deltawhirlh - Cw1h\n",
    "        stagebeta1hub = np.degrees(np.arctan(Uhcomp/Ca))\n",
    "        stagebeta2hub = np.degrees(np.arctan((Uhcomp-Cw2h)/Ca))\n",
    "        stagealpha1hub = 0\n",
    "        stagealpha2hub = np.degrees(np.arctan((Cw2h)/Ca))\n",
    "    else:\n",
    "        stagebeta1hub = np.degrees(np.arctan(0.5*(((stagedeltaTo*1.005*1000)/(lambcomp*Uhstage*Ca))+((2*Uhstage*DOR)/(Ca)))))\n",
    "        stagebeta2hub = np.degrees(np.arctan(((2*Uhstage*DOR)/(Ca))-np.tan(np.radians(stagebeta1hub))))\n",
    "        stagealpha1hub = np.degrees(np.arctan((Uhstage/Ca)-np.tan(np.radians(stagebeta1hub))))\n",
    "        stagealpha2hub = np.degrees(np.arctan((Uhstage/Ca)-np.tan(np.radians(stagebeta2hub)))) \n",
    "        Cw1h = Ca*np.tan(np.radians(stagealpha1hub))\n",
    "        Cw2h = Ca*np.tan(np.radians(stagealpha2hub))\n",
    "    \n",
    "    stagevals[i,:,:] = np.array([[stagealpha1hub,stagealpha2hub,stagebeta1hub,stagebeta2hub,rhstage,Uhstage,Cw1h,Cw2h,0],[stagealpha1mean,stagealpha2mean,stagebeta1mean,stagebeta2mean,rm,Umcomp,Cw1m,Cw2m,0],[stagealpha1tip,stagealpha2tip,stagebeta1tip,stagebeta2tip,rtstage,Utstage,Cw1t,Cw2t,0]])\n",
    "\n",
    "    i += 1"
   ]
  },
  {
   "cell_type": "code",
   "execution_count": 352,
   "metadata": {},
   "outputs": [
    {
     "name": "stdout",
     "output_type": "stream",
     "text": [
      "Hub Values:\n"
     ]
    },
    {
     "data": {
      "text/html": [
       "<style type=\"text/css\">\n",
       "</style>\n",
       "<table id=\"T_396a0\">\n",
       "  <thead>\n",
       "    <tr>\n",
       "      <th class=\"blank level0\" >&nbsp;</th>\n",
       "      <th id=\"T_396a0_level0_col0\" class=\"col_heading level0 col0\" >Alpha 1</th>\n",
       "      <th id=\"T_396a0_level0_col1\" class=\"col_heading level0 col1\" >Alpha 2</th>\n",
       "      <th id=\"T_396a0_level0_col2\" class=\"col_heading level0 col2\" >Beta 1</th>\n",
       "      <th id=\"T_396a0_level0_col3\" class=\"col_heading level0 col3\" >Beta 2</th>\n",
       "      <th id=\"T_396a0_level0_col4\" class=\"col_heading level0 col4\" >Radius</th>\n",
       "      <th id=\"T_396a0_level0_col5\" class=\"col_heading level0 col5\" >U</th>\n",
       "      <th id=\"T_396a0_level0_col6\" class=\"col_heading level0 col6\" >Whirl 1</th>\n",
       "      <th id=\"T_396a0_level0_col7\" class=\"col_heading level0 col7\" >Whirl 2</th>\n",
       "    </tr>\n",
       "  </thead>\n",
       "  <tbody>\n",
       "    <tr>\n",
       "      <th id=\"T_396a0_level0_row0\" class=\"row_heading level0 row0\" >Stage 1</th>\n",
       "      <td id=\"T_396a0_row0_col0\" class=\"data row0 col0\" >0.0000</td>\n",
       "      <td id=\"T_396a0_row0_col1\" class=\"data row0 col1\" >50.6789</td>\n",
       "      <td id=\"T_396a0_row0_col2\" class=\"data row0 col2\" >43.0251</td>\n",
       "      <td id=\"T_396a0_row0_col3\" class=\"data row0 col3\" >-16.0406</td>\n",
       "      <td id=\"T_396a0_row0_col4\" class=\"data row0 col4\" >0.1071</td>\n",
       "      <td id=\"T_396a0_row0_col5\" class=\"data row0 col5\" >140.0000</td>\n",
       "      <td id=\"T_396a0_row0_col6\" class=\"data row0 col6\" >0.0000</td>\n",
       "      <td id=\"T_396a0_row0_col7\" class=\"data row0 col7\" >183.1268</td>\n",
       "    </tr>\n",
       "    <tr>\n",
       "      <th id=\"T_396a0_level0_row1\" class=\"row_heading level0 row1\" >Stage 2</th>\n",
       "      <td id=\"T_396a0_row1_col0\" class=\"data row1 col0\" >-5.4777</td>\n",
       "      <td id=\"T_396a0_row1_col1\" class=\"data row1 col1\" >46.9836</td>\n",
       "      <td id=\"T_396a0_row1_col2\" class=\"data row1 col2\" >46.9836</td>\n",
       "      <td id=\"T_396a0_row1_col3\" class=\"data row1 col3\" >-5.4777</td>\n",
       "      <td id=\"T_396a0_row1_col4\" class=\"data row1 col4\" >0.1120</td>\n",
       "      <td id=\"T_396a0_row1_col5\" class=\"data row1 col5\" >146.3784</td>\n",
       "      <td id=\"T_396a0_row1_col6\" class=\"data row1 col6\" >-14.3844</td>\n",
       "      <td id=\"T_396a0_row1_col7\" class=\"data row1 col7\" >160.7628</td>\n",
       "    </tr>\n",
       "    <tr>\n",
       "      <th id=\"T_396a0_level0_row2\" class=\"row_heading level0 row2\" >Stage 3</th>\n",
       "      <td id=\"T_396a0_row2_col0\" class=\"data row2 col0\" >-9.8457</td>\n",
       "      <td id=\"T_396a0_row2_col1\" class=\"data row2 col1\" >50.0042</td>\n",
       "      <td id=\"T_396a0_row2_col2\" class=\"data row2 col2\" >50.0042</td>\n",
       "      <td id=\"T_396a0_row2_col3\" class=\"data row2 col3\" >-9.8457</td>\n",
       "      <td id=\"T_396a0_row2_col4\" class=\"data row2 col4\" >0.1169</td>\n",
       "      <td id=\"T_396a0_row2_col5\" class=\"data row2 col5\" >152.7567</td>\n",
       "      <td id=\"T_396a0_row2_col6\" class=\"data row2 col6\" >-26.0326</td>\n",
       "      <td id=\"T_396a0_row2_col7\" class=\"data row2 col7\" >178.7894</td>\n",
       "    </tr>\n",
       "    <tr>\n",
       "      <th id=\"T_396a0_level0_row3\" class=\"row_heading level0 row3\" >Stage 4</th>\n",
       "      <td id=\"T_396a0_row3_col0\" class=\"data row3 col0\" >-10.0912</td>\n",
       "      <td id=\"T_396a0_row3_col1\" class=\"data row3 col1\" >48.5625</td>\n",
       "      <td id=\"T_396a0_row3_col2\" class=\"data row3 col2\" >51.0900</td>\n",
       "      <td id=\"T_396a0_row3_col3\" class=\"data row3 col3\" >-4.1113</td>\n",
       "      <td id=\"T_396a0_row3_col4\" class=\"data row3 col4\" >0.1217</td>\n",
       "      <td id=\"T_396a0_row3_col5\" class=\"data row3 col5\" >159.1351</td>\n",
       "      <td id=\"T_396a0_row3_col6\" class=\"data row3 col6\" >-26.6954</td>\n",
       "      <td id=\"T_396a0_row3_col7\" class=\"data row3 col7\" >169.9170</td>\n",
       "    </tr>\n",
       "    <tr>\n",
       "      <th id=\"T_396a0_level0_row4\" class=\"row_heading level0 row4\" >Stage 5</th>\n",
       "      <td id=\"T_396a0_row4_col0\" class=\"data row4 col0\" >-4.4832</td>\n",
       "      <td id=\"T_396a0_row4_col1\" class=\"data row4 col1\" >49.7639</td>\n",
       "      <td id=\"T_396a0_row4_col2\" class=\"data row4 col2\" >49.7639</td>\n",
       "      <td id=\"T_396a0_row4_col3\" class=\"data row4 col3\" >-4.4832</td>\n",
       "      <td id=\"T_396a0_row4_col4\" class=\"data row4 col4\" >0.1266</td>\n",
       "      <td id=\"T_396a0_row4_col5\" class=\"data row4 col5\" >165.5135</td>\n",
       "      <td id=\"T_396a0_row4_col6\" class=\"data row4 col6\" >-11.7611</td>\n",
       "      <td id=\"T_396a0_row4_col7\" class=\"data row4 col7\" >177.2746</td>\n",
       "    </tr>\n",
       "    <tr>\n",
       "      <th id=\"T_396a0_level0_row5\" class=\"row_heading level0 row5\" >Stage 6</th>\n",
       "      <td id=\"T_396a0_row5_col0\" class=\"data row5 col0\" >-1.9338</td>\n",
       "      <td id=\"T_396a0_row5_col1\" class=\"data row5 col1\" >49.7132</td>\n",
       "      <td id=\"T_396a0_row5_col2\" class=\"data row5 col2\" >49.7132</td>\n",
       "      <td id=\"T_396a0_row5_col3\" class=\"data row5 col3\" >-1.9338</td>\n",
       "      <td id=\"T_396a0_row5_col4\" class=\"data row5 col4\" >0.1315</td>\n",
       "      <td id=\"T_396a0_row5_col5\" class=\"data row5 col5\" >171.8919</td>\n",
       "      <td id=\"T_396a0_row5_col6\" class=\"data row5 col6\" >-5.0646</td>\n",
       "      <td id=\"T_396a0_row5_col7\" class=\"data row5 col7\" >176.9565</td>\n",
       "    </tr>\n",
       "    <tr>\n",
       "      <th id=\"T_396a0_level0_row6\" class=\"row_heading level0 row6\" >Stage 7</th>\n",
       "      <td id=\"T_396a0_row6_col0\" class=\"data row6 col0\" >0.5274</td>\n",
       "      <td id=\"T_396a0_row6_col1\" class=\"data row6 col1\" >49.7025</td>\n",
       "      <td id=\"T_396a0_row6_col2\" class=\"data row6 col2\" >49.7025</td>\n",
       "      <td id=\"T_396a0_row6_col3\" class=\"data row6 col3\" >0.5274</td>\n",
       "      <td id=\"T_396a0_row6_col4\" class=\"data row6 col4\" >0.1364</td>\n",
       "      <td id=\"T_396a0_row6_col5\" class=\"data row6 col5\" >178.2702</td>\n",
       "      <td id=\"T_396a0_row6_col6\" class=\"data row6 col6\" >1.3809</td>\n",
       "      <td id=\"T_396a0_row6_col7\" class=\"data row6 col7\" >176.8894</td>\n",
       "    </tr>\n",
       "    <tr>\n",
       "      <th id=\"T_396a0_level0_row7\" class=\"row_heading level0 row7\" >Stage 8</th>\n",
       "      <td id=\"T_396a0_row7_col0\" class=\"data row7 col0\" >2.9010</td>\n",
       "      <td id=\"T_396a0_row7_col1\" class=\"data row7 col1\" >49.7277</td>\n",
       "      <td id=\"T_396a0_row7_col2\" class=\"data row7 col2\" >49.7277</td>\n",
       "      <td id=\"T_396a0_row7_col3\" class=\"data row7 col3\" >2.9010</td>\n",
       "      <td id=\"T_396a0_row7_col4\" class=\"data row7 col4\" >0.1413</td>\n",
       "      <td id=\"T_396a0_row7_col5\" class=\"data row7 col5\" >184.6486</td>\n",
       "      <td id=\"T_396a0_row7_col6\" class=\"data row7 col6\" >7.6014</td>\n",
       "      <td id=\"T_396a0_row7_col7\" class=\"data row7 col7\" >177.0472</td>\n",
       "    </tr>\n",
       "    <tr>\n",
       "      <th id=\"T_396a0_level0_row8\" class=\"row_heading level0 row8\" >Stage 9</th>\n",
       "      <td id=\"T_396a0_row8_col0\" class=\"data row8 col0\" >5.1880</td>\n",
       "      <td id=\"T_396a0_row8_col1\" class=\"data row8 col1\" >49.7851</td>\n",
       "      <td id=\"T_396a0_row8_col2\" class=\"data row8 col2\" >49.7851</td>\n",
       "      <td id=\"T_396a0_row8_col3\" class=\"data row8 col3\" >5.1880</td>\n",
       "      <td id=\"T_396a0_row8_col4\" class=\"data row8 col4\" >0.1461</td>\n",
       "      <td id=\"T_396a0_row8_col5\" class=\"data row8 col5\" >191.0270</td>\n",
       "      <td id=\"T_396a0_row8_col6\" class=\"data row8 col6\" >13.6194</td>\n",
       "      <td id=\"T_396a0_row8_col7\" class=\"data row8 col7\" >177.4075</td>\n",
       "    </tr>\n",
       "    <tr>\n",
       "      <th id=\"T_396a0_level0_row9\" class=\"row_heading level0 row9\" >Stage 10</th>\n",
       "      <td id=\"T_396a0_row9_col0\" class=\"data row9 col0\" >7.3899</td>\n",
       "      <td id=\"T_396a0_row9_col1\" class=\"data row9 col1\" >49.8714</td>\n",
       "      <td id=\"T_396a0_row9_col2\" class=\"data row9 col2\" >49.8714</td>\n",
       "      <td id=\"T_396a0_row9_col3\" class=\"data row9 col3\" >7.3899</td>\n",
       "      <td id=\"T_396a0_row9_col4\" class=\"data row9 col4\" >0.1510</td>\n",
       "      <td id=\"T_396a0_row9_col5\" class=\"data row9 col5\" >197.4054</td>\n",
       "      <td id=\"T_396a0_row9_col6\" class=\"data row9 col6\" >19.4547</td>\n",
       "      <td id=\"T_396a0_row9_col7\" class=\"data row9 col7\" >177.9506</td>\n",
       "    </tr>\n",
       "    <tr>\n",
       "      <th id=\"T_396a0_level0_row10\" class=\"row_heading level0 row10\" >Stage 11</th>\n",
       "      <td id=\"T_396a0_row10_col0\" class=\"data row10 col0\" >9.5085</td>\n",
       "      <td id=\"T_396a0_row10_col1\" class=\"data row10 col1\" >49.9836</td>\n",
       "      <td id=\"T_396a0_row10_col2\" class=\"data row10 col2\" >49.9836</td>\n",
       "      <td id=\"T_396a0_row10_col3\" class=\"data row10 col3\" >9.5085</td>\n",
       "      <td id=\"T_396a0_row10_col4\" class=\"data row10 col4\" >0.1559</td>\n",
       "      <td id=\"T_396a0_row10_col5\" class=\"data row10 col5\" >203.7837</td>\n",
       "      <td id=\"T_396a0_row10_col6\" class=\"data row10 col6\" >25.1243</td>\n",
       "      <td id=\"T_396a0_row10_col7\" class=\"data row10 col7\" >178.6594</td>\n",
       "    </tr>\n",
       "    <tr>\n",
       "      <th id=\"T_396a0_level0_row11\" class=\"row_heading level0 row11\" >Stage 12</th>\n",
       "      <td id=\"T_396a0_row11_col0\" class=\"data row11 col0\" >11.5460</td>\n",
       "      <td id=\"T_396a0_row11_col1\" class=\"data row11 col1\" >50.1190</td>\n",
       "      <td id=\"T_396a0_row11_col2\" class=\"data row11 col2\" >50.1190</td>\n",
       "      <td id=\"T_396a0_row11_col3\" class=\"data row11 col3\" >11.5460</td>\n",
       "      <td id=\"T_396a0_row11_col4\" class=\"data row11 col4\" >0.1608</td>\n",
       "      <td id=\"T_396a0_row11_col5\" class=\"data row11 col5\" >210.1621</td>\n",
       "      <td id=\"T_396a0_row11_col6\" class=\"data row11 col6\" >30.6434</td>\n",
       "      <td id=\"T_396a0_row11_col7\" class=\"data row11 col7\" >179.5187</td>\n",
       "    </tr>\n",
       "    <tr>\n",
       "      <th id=\"T_396a0_level0_row12\" class=\"row_heading level0 row12\" >Stage 13</th>\n",
       "      <td id=\"T_396a0_row12_col0\" class=\"data row12 col0\" >13.5048</td>\n",
       "      <td id=\"T_396a0_row12_col1\" class=\"data row12 col1\" >50.2750</td>\n",
       "      <td id=\"T_396a0_row12_col2\" class=\"data row12 col2\" >50.2750</td>\n",
       "      <td id=\"T_396a0_row12_col3\" class=\"data row12 col3\" >13.5048</td>\n",
       "      <td id=\"T_396a0_row12_col4\" class=\"data row12 col4\" >0.1656</td>\n",
       "      <td id=\"T_396a0_row12_col5\" class=\"data row12 col5\" >216.5405</td>\n",
       "      <td id=\"T_396a0_row12_col6\" class=\"data row12 col6\" >36.0252</td>\n",
       "      <td id=\"T_396a0_row12_col7\" class=\"data row12 col7\" >180.5153</td>\n",
       "    </tr>\n",
       "    <tr>\n",
       "      <th id=\"T_396a0_level0_row13\" class=\"row_heading level0 row13\" >Stage 14</th>\n",
       "      <td id=\"T_396a0_row13_col0\" class=\"data row13 col0\" >19.7836</td>\n",
       "      <td id=\"T_396a0_row13_col1\" class=\"data row13 col1\" >48.4025</td>\n",
       "      <td id=\"T_396a0_row13_col2\" class=\"data row13 col2\" >48.4025</td>\n",
       "      <td id=\"T_396a0_row13_col3\" class=\"data row13 col3\" >19.7836</td>\n",
       "      <td id=\"T_396a0_row13_col4\" class=\"data row13 col4\" >0.1705</td>\n",
       "      <td id=\"T_396a0_row13_col5\" class=\"data row13 col5\" >222.9188</td>\n",
       "      <td id=\"T_396a0_row13_col6\" class=\"data row13 col6\" >53.9547</td>\n",
       "      <td id=\"T_396a0_row13_col7\" class=\"data row13 col7\" >168.9641</td>\n",
       "    </tr>\n",
       "    <tr>\n",
       "      <th id=\"T_396a0_level0_row14\" class=\"row_heading level0 row14\" >Stage 15</th>\n",
       "      <td id=\"T_396a0_row14_col0\" class=\"data row14 col0\" >21.3865</td>\n",
       "      <td id=\"T_396a0_row14_col1\" class=\"data row14 col1\" >48.6687</td>\n",
       "      <td id=\"T_396a0_row14_col2\" class=\"data row14 col2\" >48.6687</td>\n",
       "      <td id=\"T_396a0_row14_col3\" class=\"data row14 col3\" >21.3865</td>\n",
       "      <td id=\"T_396a0_row14_col4\" class=\"data row14 col4\" >0.1754</td>\n",
       "      <td id=\"T_396a0_row14_col5\" class=\"data row14 col5\" >229.2972</td>\n",
       "      <td id=\"T_396a0_row14_col6\" class=\"data row14 col6\" >58.7435</td>\n",
       "      <td id=\"T_396a0_row14_col7\" class=\"data row14 col7\" >170.5537</td>\n",
       "    </tr>\n",
       "  </tbody>\n",
       "</table>\n"
      ],
      "text/plain": [
       "<pandas.io.formats.style.Styler at 0x1ec8970f110>"
      ]
     },
     "execution_count": 352,
     "metadata": {},
     "output_type": "execute_result"
    }
   ],
   "source": [
    "print(\"Hub Values:\")\n",
    "\n",
    "tabletry = pd.DataFrame({\"Alpha 1\": stagevals[:,0,0],\"Alpha 2\": stagevals[:,0,1],\"Beta 1\": stagevals[:,0,2],\"Beta 2\": stagevals[:,0,3],\"Radius\": stagevals[:,0,4],\"U\": stagevals[:,0,5],\"Whirl 1\": stagevals[:,0,6],\"Whirl 2\": stagevals[:,0,7]})\n",
    "\n",
    "tabletry.style \\\n",
    "    .format(precision=4) \\\n",
    "    .relabel_index([\"Stage 1\",\"Stage 2\",\"Stage 3\",\"Stage 4\",\"Stage 5\",\"Stage 6\",\"Stage 7\",\"Stage 8\",\"Stage 9\",\"Stage 10\",\"Stage 11\",\"Stage 12\",\"Stage 13\",\"Stage 14\",\"Stage 15\"],axis=0)\n"
   ]
  },
  {
   "cell_type": "code",
   "execution_count": 353,
   "metadata": {},
   "outputs": [
    {
     "name": "stdout",
     "output_type": "stream",
     "text": [
      "Mean Values:\n"
     ]
    },
    {
     "data": {
      "text/html": [
       "<style type=\"text/css\">\n",
       "</style>\n",
       "<table id=\"T_4de04\">\n",
       "  <thead>\n",
       "    <tr>\n",
       "      <th class=\"blank level0\" >&nbsp;</th>\n",
       "      <th id=\"T_4de04_level0_col0\" class=\"col_heading level0 col0\" >Alpha 1</th>\n",
       "      <th id=\"T_4de04_level0_col1\" class=\"col_heading level0 col1\" >Alpha 2</th>\n",
       "      <th id=\"T_4de04_level0_col2\" class=\"col_heading level0 col2\" >Beta 1</th>\n",
       "      <th id=\"T_4de04_level0_col3\" class=\"col_heading level0 col3\" >Beta 2</th>\n",
       "      <th id=\"T_4de04_level0_col4\" class=\"col_heading level0 col4\" >Radius</th>\n",
       "      <th id=\"T_4de04_level0_col5\" class=\"col_heading level0 col5\" >U</th>\n",
       "      <th id=\"T_4de04_level0_col6\" class=\"col_heading level0 col6\" >Whirl 1</th>\n",
       "      <th id=\"T_4de04_level0_col7\" class=\"col_heading level0 col7\" >Whirl 2</th>\n",
       "    </tr>\n",
       "  </thead>\n",
       "  <tbody>\n",
       "    <tr>\n",
       "      <th id=\"T_4de04_level0_row0\" class=\"row_heading level0 row0\" >Stage 1</th>\n",
       "      <td id=\"T_4de04_row0_col0\" class=\"data row0 col0\" >0.0000</td>\n",
       "      <td id=\"T_4de04_row0_col1\" class=\"data row0 col1\" >34.9006</td>\n",
       "      <td id=\"T_4de04_row0_col2\" class=\"data row0 col2\" >58.5232</td>\n",
       "      <td id=\"T_4de04_row0_col3\" class=\"data row0 col3\" >43.0977</td>\n",
       "      <td id=\"T_4de04_row0_col4\" class=\"data row0 col4\" >0.1874</td>\n",
       "      <td id=\"T_4de04_row0_col5\" class=\"data row0 col5\" >140.0000</td>\n",
       "      <td id=\"T_4de04_row0_col6\" class=\"data row0 col6\" >0.0000</td>\n",
       "      <td id=\"T_4de04_row0_col7\" class=\"data row0 col7\" >183.1268</td>\n",
       "    </tr>\n",
       "    <tr>\n",
       "      <th id=\"T_4de04_level0_row1\" class=\"row_heading level0 row1\" >Stage 2</th>\n",
       "      <td id=\"T_4de04_row1_col0\" class=\"data row1 col0\" >25.0727</td>\n",
       "      <td id=\"T_4de04_row1_col1\" class=\"data row1 col1\" >49.3699</td>\n",
       "      <td id=\"T_4de04_row1_col2\" class=\"data row1 col2\" >49.3699</td>\n",
       "      <td id=\"T_4de04_row1_col3\" class=\"data row1 col3\" >25.0727</td>\n",
       "      <td id=\"T_4de04_row1_col4\" class=\"data row1 col4\" >0.1874</td>\n",
       "      <td id=\"T_4de04_row1_col5\" class=\"data row1 col5\" >146.3784</td>\n",
       "      <td id=\"T_4de04_row1_col6\" class=\"data row1 col6\" >-14.3844</td>\n",
       "      <td id=\"T_4de04_row1_col7\" class=\"data row1 col7\" >160.7628</td>\n",
       "    </tr>\n",
       "    <tr>\n",
       "      <th id=\"T_4de04_level0_row2\" class=\"row_heading level0 row2\" >Stage 3</th>\n",
       "      <td id=\"T_4de04_row2_col0\" class=\"data row2 col0\" >21.3545</td>\n",
       "      <td id=\"T_4de04_row2_col1\" class=\"data row2 col1\" >51.1686</td>\n",
       "      <td id=\"T_4de04_row2_col2\" class=\"data row2 col2\" >51.1686</td>\n",
       "      <td id=\"T_4de04_row2_col3\" class=\"data row2 col3\" >21.3545</td>\n",
       "      <td id=\"T_4de04_row2_col4\" class=\"data row2 col4\" >0.1874</td>\n",
       "      <td id=\"T_4de04_row2_col5\" class=\"data row2 col5\" >152.7567</td>\n",
       "      <td id=\"T_4de04_row2_col6\" class=\"data row2 col6\" >-26.0326</td>\n",
       "      <td id=\"T_4de04_row2_col7\" class=\"data row2 col7\" >178.7894</td>\n",
       "    </tr>\n",
       "    <tr>\n",
       "      <th id=\"T_4de04_level0_row3\" class=\"row_heading level0 row3\" >Stage 4</th>\n",
       "      <td id=\"T_4de04_row3_col0\" class=\"data row3 col0\" >17.1876</td>\n",
       "      <td id=\"T_4de04_row3_col1\" class=\"data row3 col1\" >49.2532</td>\n",
       "      <td id=\"T_4de04_row3_col2\" class=\"data row3 col2\" >52.9371</td>\n",
       "      <td id=\"T_4de04_row3_col3\" class=\"data row3 col3\" >25.2976</td>\n",
       "      <td id=\"T_4de04_row3_col4\" class=\"data row3 col4\" >0.1874</td>\n",
       "      <td id=\"T_4de04_row3_col5\" class=\"data row3 col5\" >159.1351</td>\n",
       "      <td id=\"T_4de04_row3_col6\" class=\"data row3 col6\" >-26.6954</td>\n",
       "      <td id=\"T_4de04_row3_col7\" class=\"data row3 col7\" >169.9170</td>\n",
       "    </tr>\n",
       "    <tr>\n",
       "      <th id=\"T_4de04_level0_row4\" class=\"row_heading level0 row4\" >Stage 5</th>\n",
       "      <td id=\"T_4de04_row4_col0\" class=\"data row4 col0\" >21.3545</td>\n",
       "      <td id=\"T_4de04_row4_col1\" class=\"data row4 col1\" >51.1686</td>\n",
       "      <td id=\"T_4de04_row4_col2\" class=\"data row4 col2\" >51.1686</td>\n",
       "      <td id=\"T_4de04_row4_col3\" class=\"data row4 col3\" >21.3545</td>\n",
       "      <td id=\"T_4de04_row4_col4\" class=\"data row4 col4\" >0.1874</td>\n",
       "      <td id=\"T_4de04_row4_col5\" class=\"data row4 col5\" >165.5135</td>\n",
       "      <td id=\"T_4de04_row4_col6\" class=\"data row4 col6\" >-11.7611</td>\n",
       "      <td id=\"T_4de04_row4_col7\" class=\"data row4 col7\" >177.2746</td>\n",
       "    </tr>\n",
       "    <tr>\n",
       "      <th id=\"T_4de04_level0_row5\" class=\"row_heading level0 row5\" >Stage 6</th>\n",
       "      <td id=\"T_4de04_row5_col0\" class=\"data row5 col0\" >21.3545</td>\n",
       "      <td id=\"T_4de04_row5_col1\" class=\"data row5 col1\" >51.1686</td>\n",
       "      <td id=\"T_4de04_row5_col2\" class=\"data row5 col2\" >51.1686</td>\n",
       "      <td id=\"T_4de04_row5_col3\" class=\"data row5 col3\" >21.3545</td>\n",
       "      <td id=\"T_4de04_row5_col4\" class=\"data row5 col4\" >0.1874</td>\n",
       "      <td id=\"T_4de04_row5_col5\" class=\"data row5 col5\" >171.8919</td>\n",
       "      <td id=\"T_4de04_row5_col6\" class=\"data row5 col6\" >-5.0646</td>\n",
       "      <td id=\"T_4de04_row5_col7\" class=\"data row5 col7\" >176.9565</td>\n",
       "    </tr>\n",
       "    <tr>\n",
       "      <th id=\"T_4de04_level0_row6\" class=\"row_heading level0 row6\" >Stage 7</th>\n",
       "      <td id=\"T_4de04_row6_col0\" class=\"data row6 col0\" >21.3545</td>\n",
       "      <td id=\"T_4de04_row6_col1\" class=\"data row6 col1\" >51.1686</td>\n",
       "      <td id=\"T_4de04_row6_col2\" class=\"data row6 col2\" >51.1686</td>\n",
       "      <td id=\"T_4de04_row6_col3\" class=\"data row6 col3\" >21.3545</td>\n",
       "      <td id=\"T_4de04_row6_col4\" class=\"data row6 col4\" >0.1874</td>\n",
       "      <td id=\"T_4de04_row6_col5\" class=\"data row6 col5\" >178.2702</td>\n",
       "      <td id=\"T_4de04_row6_col6\" class=\"data row6 col6\" >1.3809</td>\n",
       "      <td id=\"T_4de04_row6_col7\" class=\"data row6 col7\" >176.8894</td>\n",
       "    </tr>\n",
       "    <tr>\n",
       "      <th id=\"T_4de04_level0_row7\" class=\"row_heading level0 row7\" >Stage 8</th>\n",
       "      <td id=\"T_4de04_row7_col0\" class=\"data row7 col0\" >21.3545</td>\n",
       "      <td id=\"T_4de04_row7_col1\" class=\"data row7 col1\" >51.1686</td>\n",
       "      <td id=\"T_4de04_row7_col2\" class=\"data row7 col2\" >51.1686</td>\n",
       "      <td id=\"T_4de04_row7_col3\" class=\"data row7 col3\" >21.3545</td>\n",
       "      <td id=\"T_4de04_row7_col4\" class=\"data row7 col4\" >0.1874</td>\n",
       "      <td id=\"T_4de04_row7_col5\" class=\"data row7 col5\" >184.6486</td>\n",
       "      <td id=\"T_4de04_row7_col6\" class=\"data row7 col6\" >7.6014</td>\n",
       "      <td id=\"T_4de04_row7_col7\" class=\"data row7 col7\" >177.0472</td>\n",
       "    </tr>\n",
       "    <tr>\n",
       "      <th id=\"T_4de04_level0_row8\" class=\"row_heading level0 row8\" >Stage 9</th>\n",
       "      <td id=\"T_4de04_row8_col0\" class=\"data row8 col0\" >21.3545</td>\n",
       "      <td id=\"T_4de04_row8_col1\" class=\"data row8 col1\" >51.1686</td>\n",
       "      <td id=\"T_4de04_row8_col2\" class=\"data row8 col2\" >51.1686</td>\n",
       "      <td id=\"T_4de04_row8_col3\" class=\"data row8 col3\" >21.3545</td>\n",
       "      <td id=\"T_4de04_row8_col4\" class=\"data row8 col4\" >0.1874</td>\n",
       "      <td id=\"T_4de04_row8_col5\" class=\"data row8 col5\" >191.0270</td>\n",
       "      <td id=\"T_4de04_row8_col6\" class=\"data row8 col6\" >13.6194</td>\n",
       "      <td id=\"T_4de04_row8_col7\" class=\"data row8 col7\" >177.4075</td>\n",
       "    </tr>\n",
       "    <tr>\n",
       "      <th id=\"T_4de04_level0_row9\" class=\"row_heading level0 row9\" >Stage 10</th>\n",
       "      <td id=\"T_4de04_row9_col0\" class=\"data row9 col0\" >21.3545</td>\n",
       "      <td id=\"T_4de04_row9_col1\" class=\"data row9 col1\" >51.1686</td>\n",
       "      <td id=\"T_4de04_row9_col2\" class=\"data row9 col2\" >51.1686</td>\n",
       "      <td id=\"T_4de04_row9_col3\" class=\"data row9 col3\" >21.3545</td>\n",
       "      <td id=\"T_4de04_row9_col4\" class=\"data row9 col4\" >0.1874</td>\n",
       "      <td id=\"T_4de04_row9_col5\" class=\"data row9 col5\" >197.4054</td>\n",
       "      <td id=\"T_4de04_row9_col6\" class=\"data row9 col6\" >19.4547</td>\n",
       "      <td id=\"T_4de04_row9_col7\" class=\"data row9 col7\" >177.9506</td>\n",
       "    </tr>\n",
       "    <tr>\n",
       "      <th id=\"T_4de04_level0_row10\" class=\"row_heading level0 row10\" >Stage 11</th>\n",
       "      <td id=\"T_4de04_row10_col0\" class=\"data row10 col0\" >21.3545</td>\n",
       "      <td id=\"T_4de04_row10_col1\" class=\"data row10 col1\" >51.1686</td>\n",
       "      <td id=\"T_4de04_row10_col2\" class=\"data row10 col2\" >51.1686</td>\n",
       "      <td id=\"T_4de04_row10_col3\" class=\"data row10 col3\" >21.3545</td>\n",
       "      <td id=\"T_4de04_row10_col4\" class=\"data row10 col4\" >0.1874</td>\n",
       "      <td id=\"T_4de04_row10_col5\" class=\"data row10 col5\" >203.7837</td>\n",
       "      <td id=\"T_4de04_row10_col6\" class=\"data row10 col6\" >25.1243</td>\n",
       "      <td id=\"T_4de04_row10_col7\" class=\"data row10 col7\" >178.6594</td>\n",
       "    </tr>\n",
       "    <tr>\n",
       "      <th id=\"T_4de04_level0_row11\" class=\"row_heading level0 row11\" >Stage 12</th>\n",
       "      <td id=\"T_4de04_row11_col0\" class=\"data row11 col0\" >21.3545</td>\n",
       "      <td id=\"T_4de04_row11_col1\" class=\"data row11 col1\" >51.1686</td>\n",
       "      <td id=\"T_4de04_row11_col2\" class=\"data row11 col2\" >51.1686</td>\n",
       "      <td id=\"T_4de04_row11_col3\" class=\"data row11 col3\" >21.3545</td>\n",
       "      <td id=\"T_4de04_row11_col4\" class=\"data row11 col4\" >0.1874</td>\n",
       "      <td id=\"T_4de04_row11_col5\" class=\"data row11 col5\" >210.1621</td>\n",
       "      <td id=\"T_4de04_row11_col6\" class=\"data row11 col6\" >30.6434</td>\n",
       "      <td id=\"T_4de04_row11_col7\" class=\"data row11 col7\" >179.5187</td>\n",
       "    </tr>\n",
       "    <tr>\n",
       "      <th id=\"T_4de04_level0_row12\" class=\"row_heading level0 row12\" >Stage 13</th>\n",
       "      <td id=\"T_4de04_row12_col0\" class=\"data row12 col0\" >21.3545</td>\n",
       "      <td id=\"T_4de04_row12_col1\" class=\"data row12 col1\" >51.1686</td>\n",
       "      <td id=\"T_4de04_row12_col2\" class=\"data row12 col2\" >51.1686</td>\n",
       "      <td id=\"T_4de04_row12_col3\" class=\"data row12 col3\" >21.3545</td>\n",
       "      <td id=\"T_4de04_row12_col4\" class=\"data row12 col4\" >0.1874</td>\n",
       "      <td id=\"T_4de04_row12_col5\" class=\"data row12 col5\" >216.5405</td>\n",
       "      <td id=\"T_4de04_row12_col6\" class=\"data row12 col6\" >36.0252</td>\n",
       "      <td id=\"T_4de04_row12_col7\" class=\"data row12 col7\" >180.5153</td>\n",
       "    </tr>\n",
       "    <tr>\n",
       "      <th id=\"T_4de04_level0_row13\" class=\"row_heading level0 row13\" >Stage 14</th>\n",
       "      <td id=\"T_4de04_row13_col0\" class=\"data row13 col0\" >25.0727</td>\n",
       "      <td id=\"T_4de04_row13_col1\" class=\"data row13 col1\" >49.3699</td>\n",
       "      <td id=\"T_4de04_row13_col2\" class=\"data row13 col2\" >49.3699</td>\n",
       "      <td id=\"T_4de04_row13_col3\" class=\"data row13 col3\" >25.0727</td>\n",
       "      <td id=\"T_4de04_row13_col4\" class=\"data row13 col4\" >0.1874</td>\n",
       "      <td id=\"T_4de04_row13_col5\" class=\"data row13 col5\" >222.9188</td>\n",
       "      <td id=\"T_4de04_row13_col6\" class=\"data row13 col6\" >53.9547</td>\n",
       "      <td id=\"T_4de04_row13_col7\" class=\"data row13 col7\" >168.9641</td>\n",
       "    </tr>\n",
       "    <tr>\n",
       "      <th id=\"T_4de04_level0_row14\" class=\"row_heading level0 row14\" >Stage 15</th>\n",
       "      <td id=\"T_4de04_row14_col0\" class=\"data row14 col0\" >25.0727</td>\n",
       "      <td id=\"T_4de04_row14_col1\" class=\"data row14 col1\" >49.3699</td>\n",
       "      <td id=\"T_4de04_row14_col2\" class=\"data row14 col2\" >49.3699</td>\n",
       "      <td id=\"T_4de04_row14_col3\" class=\"data row14 col3\" >25.0727</td>\n",
       "      <td id=\"T_4de04_row14_col4\" class=\"data row14 col4\" >0.1874</td>\n",
       "      <td id=\"T_4de04_row14_col5\" class=\"data row14 col5\" >229.2972</td>\n",
       "      <td id=\"T_4de04_row14_col6\" class=\"data row14 col6\" >58.7435</td>\n",
       "      <td id=\"T_4de04_row14_col7\" class=\"data row14 col7\" >170.5537</td>\n",
       "    </tr>\n",
       "  </tbody>\n",
       "</table>\n"
      ],
      "text/plain": [
       "<pandas.io.formats.style.Styler at 0x1ec89e8b250>"
      ]
     },
     "execution_count": 353,
     "metadata": {},
     "output_type": "execute_result"
    }
   ],
   "source": [
    "print(\"Mean Values:\")\n",
    "\n",
    "tabletry = pd.DataFrame({\"Alpha 1\": stagevals[:,1,0],\"Alpha 2\": stagevals[:,1,1],\"Beta 1\": stagevals[:,1,2],\"Beta 2\": stagevals[:,1,3],\"Radius\": stagevals[:,1,4],\"U\": stagevals[:,0,5],\"Whirl 1\": stagevals[:,0,6],\"Whirl 2\": stagevals[:,0,7]})\n",
    "\n",
    "tabletry.style \\\n",
    "    .format(precision=4) \\\n",
    "    .relabel_index([\"Stage 1\",\"Stage 2\",\"Stage 3\",\"Stage 4\",\"Stage 5\",\"Stage 6\",\"Stage 7\",\"Stage 8\",\"Stage 9\",\"Stage 10\",\"Stage 11\",\"Stage 12\",\"Stage 13\",\"Stage 14\",\"Stage 15\"],axis=0)"
   ]
  },
  {
   "cell_type": "code",
   "execution_count": 354,
   "metadata": {},
   "outputs": [
    {
     "name": "stdout",
     "output_type": "stream",
     "text": [
      "Tip Values:\n"
     ]
    },
    {
     "data": {
      "text/html": [
       "<style type=\"text/css\">\n",
       "</style>\n",
       "<table id=\"T_3b581\">\n",
       "  <thead>\n",
       "    <tr>\n",
       "      <th class=\"blank level0\" >&nbsp;</th>\n",
       "      <th id=\"T_3b581_level0_col0\" class=\"col_heading level0 col0\" >Alpha 1</th>\n",
       "      <th id=\"T_3b581_level0_col1\" class=\"col_heading level0 col1\" >Alpha 2</th>\n",
       "      <th id=\"T_3b581_level0_col2\" class=\"col_heading level0 col2\" >Beta 1</th>\n",
       "      <th id=\"T_3b581_level0_col3\" class=\"col_heading level0 col3\" >Beta 2</th>\n",
       "      <th id=\"T_3b581_level0_col4\" class=\"col_heading level0 col4\" >Radius</th>\n",
       "      <th id=\"T_3b581_level0_col5\" class=\"col_heading level0 col5\" >U</th>\n",
       "      <th id=\"T_3b581_level0_col6\" class=\"col_heading level0 col6\" >Whirl 1</th>\n",
       "      <th id=\"T_3b581_level0_col7\" class=\"col_heading level0 col7\" >Whirl 2</th>\n",
       "    </tr>\n",
       "  </thead>\n",
       "  <tbody>\n",
       "    <tr>\n",
       "      <th id=\"T_3b581_level0_row0\" class=\"row_heading level0 row0\" >Stage 1</th>\n",
       "      <td id=\"T_3b581_row0_col0\" class=\"data row0 col0\" >0.0000</td>\n",
       "      <td id=\"T_3b581_row0_col1\" class=\"data row0 col1\" >26.0280</td>\n",
       "      <td id=\"T_3b581_row0_col2\" class=\"data row0 col2\" >66.8014</td>\n",
       "      <td id=\"T_3b581_row0_col3\" class=\"data row0 col3\" >61.5420</td>\n",
       "      <td id=\"T_3b581_row0_col4\" class=\"data row0 col4\" >0.2677</td>\n",
       "      <td id=\"T_3b581_row0_col5\" class=\"data row0 col5\" >140.0000</td>\n",
       "      <td id=\"T_3b581_row0_col6\" class=\"data row0 col6\" >0.0000</td>\n",
       "      <td id=\"T_3b581_row0_col7\" class=\"data row0 col7\" >183.1268</td>\n",
       "    </tr>\n",
       "    <tr>\n",
       "      <th id=\"T_3b581_level0_row1\" class=\"row_heading level0 row1\" >Stage 2</th>\n",
       "      <td id=\"T_3b581_row1_col0\" class=\"data row1 col0\" >41.8827</td>\n",
       "      <td id=\"T_3b581_row1_col1\" class=\"data row1 col1\" >54.3479</td>\n",
       "      <td id=\"T_3b581_row1_col2\" class=\"data row1 col2\" >54.3479</td>\n",
       "      <td id=\"T_3b581_row1_col3\" class=\"data row1 col3\" >41.8827</td>\n",
       "      <td id=\"T_3b581_row1_col4\" class=\"data row1 col4\" >0.2629</td>\n",
       "      <td id=\"T_3b581_row1_col5\" class=\"data row1 col5\" >146.3784</td>\n",
       "      <td id=\"T_3b581_row1_col6\" class=\"data row1 col6\" >-14.3844</td>\n",
       "      <td id=\"T_3b581_row1_col7\" class=\"data row1 col7\" >160.7628</td>\n",
       "    </tr>\n",
       "    <tr>\n",
       "      <th id=\"T_3b581_level0_row2\" class=\"row_heading level0 row2\" >Stage 3</th>\n",
       "      <td id=\"T_3b581_row2_col0\" class=\"data row2 col0\" >39.1763</td>\n",
       "      <td id=\"T_3b581_row2_col1\" class=\"data row2 col1\" >55.0987</td>\n",
       "      <td id=\"T_3b581_row2_col2\" class=\"data row2 col2\" >55.0987</td>\n",
       "      <td id=\"T_3b581_row2_col3\" class=\"data row2 col3\" >39.1763</td>\n",
       "      <td id=\"T_3b581_row2_col4\" class=\"data row2 col4\" >0.2580</td>\n",
       "      <td id=\"T_3b581_row2_col5\" class=\"data row2 col5\" >152.7567</td>\n",
       "      <td id=\"T_3b581_row2_col6\" class=\"data row2 col6\" >-26.0326</td>\n",
       "      <td id=\"T_3b581_row2_col7\" class=\"data row2 col7\" >178.7894</td>\n",
       "    </tr>\n",
       "    <tr>\n",
       "      <th id=\"T_3b581_level0_row3\" class=\"row_heading level0 row3\" >Stage 4</th>\n",
       "      <td id=\"T_3b581_row3_col0\" class=\"data row3 col0\" >34.1130</td>\n",
       "      <td id=\"T_3b581_row3_col1\" class=\"data row3 col1\" >52.5971</td>\n",
       "      <td id=\"T_3b581_row3_col2\" class=\"data row3 col2\" >56.8039</td>\n",
       "      <td id=\"T_3b581_row3_col3\" class=\"data row3 col3\" >41.9225</td>\n",
       "      <td id=\"T_3b581_row3_col4\" class=\"data row3 col4\" >0.2531</td>\n",
       "      <td id=\"T_3b581_row3_col5\" class=\"data row3 col5\" >159.1351</td>\n",
       "      <td id=\"T_3b581_row3_col6\" class=\"data row3 col6\" >-26.6954</td>\n",
       "      <td id=\"T_3b581_row3_col7\" class=\"data row3 col7\" >169.9170</td>\n",
       "    </tr>\n",
       "    <tr>\n",
       "      <th id=\"T_3b581_level0_row4\" class=\"row_heading level0 row4\" >Stage 5</th>\n",
       "      <td id=\"T_3b581_row4_col0\" class=\"data row4 col0\" >37.2425</td>\n",
       "      <td id=\"T_3b581_row4_col1\" class=\"data row4 col1\" >54.5209</td>\n",
       "      <td id=\"T_3b581_row4_col2\" class=\"data row4 col2\" >54.5209</td>\n",
       "      <td id=\"T_3b581_row4_col3\" class=\"data row4 col3\" >37.2425</td>\n",
       "      <td id=\"T_3b581_row4_col4\" class=\"data row4 col4\" >0.2482</td>\n",
       "      <td id=\"T_3b581_row4_col5\" class=\"data row4 col5\" >165.5135</td>\n",
       "      <td id=\"T_3b581_row4_col6\" class=\"data row4 col6\" >-11.7611</td>\n",
       "      <td id=\"T_3b581_row4_col7\" class=\"data row4 col7\" >177.2746</td>\n",
       "    </tr>\n",
       "    <tr>\n",
       "      <th id=\"T_3b581_level0_row5\" class=\"row_heading level0 row5\" >Stage 6</th>\n",
       "      <td id=\"T_3b581_row5_col0\" class=\"data row5 col0\" >36.2230</td>\n",
       "      <td id=\"T_3b581_row5_col1\" class=\"data row5 col1\" >54.2329</td>\n",
       "      <td id=\"T_3b581_row5_col2\" class=\"data row5 col2\" >54.2329</td>\n",
       "      <td id=\"T_3b581_row5_col3\" class=\"data row5 col3\" >36.2230</td>\n",
       "      <td id=\"T_3b581_row5_col4\" class=\"data row5 col4\" >0.2433</td>\n",
       "      <td id=\"T_3b581_row5_col5\" class=\"data row5 col5\" >171.8919</td>\n",
       "      <td id=\"T_3b581_row5_col6\" class=\"data row5 col6\" >-5.0646</td>\n",
       "      <td id=\"T_3b581_row5_col7\" class=\"data row5 col7\" >176.9565</td>\n",
       "    </tr>\n",
       "    <tr>\n",
       "      <th id=\"T_3b581_level0_row6\" class=\"row_heading level0 row6\" >Stage 7</th>\n",
       "      <td id=\"T_3b581_row6_col0\" class=\"data row6 col0\" >35.1661</td>\n",
       "      <td id=\"T_3b581_row6_col1\" class=\"data row6 col1\" >53.9461</td>\n",
       "      <td id=\"T_3b581_row6_col2\" class=\"data row6 col2\" >53.9461</td>\n",
       "      <td id=\"T_3b581_row6_col3\" class=\"data row6 col3\" >35.1661</td>\n",
       "      <td id=\"T_3b581_row6_col4\" class=\"data row6 col4\" >0.2385</td>\n",
       "      <td id=\"T_3b581_row6_col5\" class=\"data row6 col5\" >178.2702</td>\n",
       "      <td id=\"T_3b581_row6_col6\" class=\"data row6 col6\" >1.3809</td>\n",
       "      <td id=\"T_3b581_row6_col7\" class=\"data row6 col7\" >176.8894</td>\n",
       "    </tr>\n",
       "    <tr>\n",
       "      <th id=\"T_3b581_level0_row7\" class=\"row_heading level0 row7\" >Stage 8</th>\n",
       "      <td id=\"T_3b581_row7_col0\" class=\"data row7 col0\" >34.0700</td>\n",
       "      <td id=\"T_3b581_row7_col1\" class=\"data row7 col1\" >53.6609</td>\n",
       "      <td id=\"T_3b581_row7_col2\" class=\"data row7 col2\" >53.6609</td>\n",
       "      <td id=\"T_3b581_row7_col3\" class=\"data row7 col3\" >34.0700</td>\n",
       "      <td id=\"T_3b581_row7_col4\" class=\"data row7 col4\" >0.2336</td>\n",
       "      <td id=\"T_3b581_row7_col5\" class=\"data row7 col5\" >184.6486</td>\n",
       "      <td id=\"T_3b581_row7_col6\" class=\"data row7 col6\" >7.6014</td>\n",
       "      <td id=\"T_3b581_row7_col7\" class=\"data row7 col7\" >177.0472</td>\n",
       "    </tr>\n",
       "    <tr>\n",
       "      <th id=\"T_3b581_level0_row8\" class=\"row_heading level0 row8\" >Stage 9</th>\n",
       "      <td id=\"T_3b581_row8_col0\" class=\"data row8 col0\" >32.9327</td>\n",
       "      <td id=\"T_3b581_row8_col1\" class=\"data row8 col1\" >53.3779</td>\n",
       "      <td id=\"T_3b581_row8_col2\" class=\"data row8 col2\" >53.3779</td>\n",
       "      <td id=\"T_3b581_row8_col3\" class=\"data row8 col3\" >32.9327</td>\n",
       "      <td id=\"T_3b581_row8_col4\" class=\"data row8 col4\" >0.2287</td>\n",
       "      <td id=\"T_3b581_row8_col5\" class=\"data row8 col5\" >191.0270</td>\n",
       "      <td id=\"T_3b581_row8_col6\" class=\"data row8 col6\" >13.6194</td>\n",
       "      <td id=\"T_3b581_row8_col7\" class=\"data row8 col7\" >177.4075</td>\n",
       "    </tr>\n",
       "    <tr>\n",
       "      <th id=\"T_3b581_level0_row9\" class=\"row_heading level0 row9\" >Stage 10</th>\n",
       "      <td id=\"T_3b581_row9_col0\" class=\"data row9 col0\" >31.7522</td>\n",
       "      <td id=\"T_3b581_row9_col1\" class=\"data row9 col1\" >53.0976</td>\n",
       "      <td id=\"T_3b581_row9_col2\" class=\"data row9 col2\" >53.0976</td>\n",
       "      <td id=\"T_3b581_row9_col3\" class=\"data row9 col3\" >31.7522</td>\n",
       "      <td id=\"T_3b581_row9_col4\" class=\"data row9 col4\" >0.2238</td>\n",
       "      <td id=\"T_3b581_row9_col5\" class=\"data row9 col5\" >197.4054</td>\n",
       "      <td id=\"T_3b581_row9_col6\" class=\"data row9 col6\" >19.4547</td>\n",
       "      <td id=\"T_3b581_row9_col7\" class=\"data row9 col7\" >177.9506</td>\n",
       "    </tr>\n",
       "    <tr>\n",
       "      <th id=\"T_3b581_level0_row10\" class=\"row_heading level0 row10\" >Stage 11</th>\n",
       "      <td id=\"T_3b581_row10_col0\" class=\"data row10 col0\" >30.5265</td>\n",
       "      <td id=\"T_3b581_row10_col1\" class=\"data row10 col1\" >52.8207</td>\n",
       "      <td id=\"T_3b581_row10_col2\" class=\"data row10 col2\" >52.8207</td>\n",
       "      <td id=\"T_3b581_row10_col3\" class=\"data row10 col3\" >30.5265</td>\n",
       "      <td id=\"T_3b581_row10_col4\" class=\"data row10 col4\" >0.2190</td>\n",
       "      <td id=\"T_3b581_row10_col5\" class=\"data row10 col5\" >203.7837</td>\n",
       "      <td id=\"T_3b581_row10_col6\" class=\"data row10 col6\" >25.1243</td>\n",
       "      <td id=\"T_3b581_row10_col7\" class=\"data row10 col7\" >178.6594</td>\n",
       "    </tr>\n",
       "    <tr>\n",
       "      <th id=\"T_3b581_level0_row11\" class=\"row_heading level0 row11\" >Stage 12</th>\n",
       "      <td id=\"T_3b581_row11_col0\" class=\"data row11 col0\" >29.2533</td>\n",
       "      <td id=\"T_3b581_row11_col1\" class=\"data row11 col1\" >52.5479</td>\n",
       "      <td id=\"T_3b581_row11_col2\" class=\"data row11 col2\" >52.5479</td>\n",
       "      <td id=\"T_3b581_row11_col3\" class=\"data row11 col3\" >29.2533</td>\n",
       "      <td id=\"T_3b581_row11_col4\" class=\"data row11 col4\" >0.2141</td>\n",
       "      <td id=\"T_3b581_row11_col5\" class=\"data row11 col5\" >210.1621</td>\n",
       "      <td id=\"T_3b581_row11_col6\" class=\"data row11 col6\" >30.6434</td>\n",
       "      <td id=\"T_3b581_row11_col7\" class=\"data row11 col7\" >179.5187</td>\n",
       "    </tr>\n",
       "    <tr>\n",
       "      <th id=\"T_3b581_level0_row12\" class=\"row_heading level0 row12\" >Stage 13</th>\n",
       "      <td id=\"T_3b581_row12_col0\" class=\"data row12 col0\" >27.9302</td>\n",
       "      <td id=\"T_3b581_row12_col1\" class=\"data row12 col1\" >52.2800</td>\n",
       "      <td id=\"T_3b581_row12_col2\" class=\"data row12 col2\" >52.2800</td>\n",
       "      <td id=\"T_3b581_row12_col3\" class=\"data row12 col3\" >27.9302</td>\n",
       "      <td id=\"T_3b581_row12_col4\" class=\"data row12 col4\" >0.2092</td>\n",
       "      <td id=\"T_3b581_row12_col5\" class=\"data row12 col5\" >216.5405</td>\n",
       "      <td id=\"T_3b581_row12_col6\" class=\"data row12 col6\" >36.0252</td>\n",
       "      <td id=\"T_3b581_row12_col7\" class=\"data row12 col7\" >180.5153</td>\n",
       "    </tr>\n",
       "    <tr>\n",
       "      <th id=\"T_3b581_level0_row13\" class=\"row_heading level0 row13\" >Stage 14</th>\n",
       "      <td id=\"T_3b581_row13_col0\" class=\"data row13 col0\" >29.6959</td>\n",
       "      <td id=\"T_3b581_row13_col1\" class=\"data row13 col1\" >50.4338</td>\n",
       "      <td id=\"T_3b581_row13_col2\" class=\"data row13 col2\" >50.4338</td>\n",
       "      <td id=\"T_3b581_row13_col3\" class=\"data row13 col3\" >29.6959</td>\n",
       "      <td id=\"T_3b581_row13_col4\" class=\"data row13 col4\" >0.2043</td>\n",
       "      <td id=\"T_3b581_row13_col5\" class=\"data row13 col5\" >222.9188</td>\n",
       "      <td id=\"T_3b581_row13_col6\" class=\"data row13 col6\" >53.9547</td>\n",
       "      <td id=\"T_3b581_row13_col7\" class=\"data row13 col7\" >168.9641</td>\n",
       "    </tr>\n",
       "    <tr>\n",
       "      <th id=\"T_3b581_level0_row14\" class=\"row_heading level0 row14\" >Stage 15</th>\n",
       "      <td id=\"T_3b581_row14_col0\" class=\"data row14 col0\" >28.4225</td>\n",
       "      <td id=\"T_3b581_row14_col1\" class=\"data row14 col1\" >50.1195</td>\n",
       "      <td id=\"T_3b581_row14_col2\" class=\"data row14 col2\" >50.1195</td>\n",
       "      <td id=\"T_3b581_row14_col3\" class=\"data row14 col3\" >28.4225</td>\n",
       "      <td id=\"T_3b581_row14_col4\" class=\"data row14 col4\" >0.1994</td>\n",
       "      <td id=\"T_3b581_row14_col5\" class=\"data row14 col5\" >229.2972</td>\n",
       "      <td id=\"T_3b581_row14_col6\" class=\"data row14 col6\" >58.7435</td>\n",
       "      <td id=\"T_3b581_row14_col7\" class=\"data row14 col7\" >170.5537</td>\n",
       "    </tr>\n",
       "  </tbody>\n",
       "</table>\n"
      ],
      "text/plain": [
       "<pandas.io.formats.style.Styler at 0x1ec897d8e50>"
      ]
     },
     "execution_count": 354,
     "metadata": {},
     "output_type": "execute_result"
    }
   ],
   "source": [
    "print(\"Tip Values:\")\n",
    "\n",
    "tabletry = pd.DataFrame({\"Alpha 1\": stagevals[:,2,0],\"Alpha 2\": stagevals[:,2,1],\"Beta 1\": stagevals[:,2,2],\"Beta 2\": stagevals[:,2,3],\"Radius\": stagevals[:,2,4],\"U\": stagevals[:,0,5],\"Whirl 1\": stagevals[:,0,6],\"Whirl 2\": stagevals[:,0,7]})\n",
    "\n",
    "tabletry.style \\\n",
    "    .format(precision=4) \\\n",
    "    .relabel_index([\"Stage 1\",\"Stage 2\",\"Stage 3\",\"Stage 4\",\"Stage 5\",\"Stage 6\",\"Stage 7\",\"Stage 8\",\"Stage 9\",\"Stage 10\",\"Stage 11\",\"Stage 12\",\"Stage 13\",\"Stage 14\",\"Stage 15\"],axis=0)"
   ]
  },
  {
   "cell_type": "code",
   "execution_count": 355,
   "metadata": {},
   "outputs": [
    {
     "name": "stdout",
     "output_type": "stream",
     "text": [
      "The increase in whirl velocity across the first compressor stage at the tip is 82.04 m/s\n"
     ]
    }
   ],
   "source": [
    "# Stage by stage\n",
    "# Stage 1\n",
    "# Assumption: Since the first few and last few stages will have a\n",
    "# slightly lower temperature rise, temperature rise across stage 1 =\n",
    "# 30 K\n",
    "\n",
    "stage1deltaTo = 28 # K\n",
    "lambcomp = 0.98\n",
    "\n",
    "stage1wvelupt = ((1.005*(10**3)*(stage1deltaTo))/(lambcomp*Utcomp))\n",
    "\n",
    "print(\"The increase in whirl velocity across the first compressor stage at the tip is %3.2f m/s\" % (stage1wvelupt))"
   ]
  },
  {
   "cell_type": "code",
   "execution_count": 356,
   "metadata": {},
   "outputs": [
    {
     "name": "stdout",
     "output_type": "stream",
     "text": [
      "r2t 0.27 m\n",
      "r2m 0.19 m\n",
      "r2h 0.11 m\n",
      "Stage 1 Tip Angles:\n",
      "Beta 1 = 66.80°\n",
      "Beta 2 = 60.76°\n",
      "Alpha 2 = 28.68°\n"
     ]
    }
   ],
   "source": [
    "# Stage 1 Tip Angles\n",
    "\n",
    "stage1beta1tip = np.degrees(np.arctan(Utcomp/Ca))\n",
    "stage1beta2tip = np.degrees(np.arctan((Utcomp-stage1wvelupt)/Ca))\n",
    "stage1alpha2tip = np.degrees(np.arctan((stage1wvelupt)/Ca))\n",
    "\n",
    "print(\"r2t %3.2f m\" % (r2t))\n",
    "print(\"r2m %3.2f m\" % (rm))\n",
    "print(\"r2h %3.2f m\" % (r2h))\n",
    "\n",
    "print(\"Stage 1 Tip Angles:\")\n",
    "print(\"Beta 1 = %3.2f°\" % (stage1beta1tip))\n",
    "print(\"Beta 2 = %3.2f°\" % (stage1beta2tip))\n",
    "print(\"Alpha 2 = %3.2f°\" % (stage1alpha2tip))"
   ]
  },
  {
   "cell_type": "code",
   "execution_count": 357,
   "metadata": {},
   "outputs": [
    {
     "name": "stdout",
     "output_type": "stream",
     "text": [
      "Stage 1 Mean Angles:\n",
      "Beta 1 = 58.52°\n",
      "Beta 2 = 40.43°\n",
      "Alpha 2 = 38.00°\n"
     ]
    }
   ],
   "source": [
    "# Stage 1 Mean Angles\n",
    "\n",
    "stage1wvelupm = ((1.005*(10**3)*(stage1deltaTo))/(lambcomp*Umcomp))\n",
    "\n",
    "stage1beta1mean = np.degrees(np.arctan(Umcomp/Ca))\n",
    "stage1beta2mean = np.degrees(np.arctan((Umcomp-stage1wvelupm)/Ca))\n",
    "stage1alpha2mean = np.degrees(np.arctan((stage1wvelupm)/Ca))\n",
    "\n",
    "print(\"Stage 1 Mean Angles:\")\n",
    "print(\"Beta 1 = %3.2f°\" % (stage1beta1mean))\n",
    "print(\"Beta 2 = %3.2f°\" % (stage1beta2mean))\n",
    "print(\"Alpha 2 = %3.2f°\" % (stage1alpha2mean))"
   ]
  },
  {
   "cell_type": "code",
   "execution_count": 358,
   "metadata": {},
   "outputs": [
    {
     "name": "stdout",
     "output_type": "stream",
     "text": [
      "Stage 1 Hub Angles:\n",
      "Beta 1 = 43.03°\n",
      "Beta 2 = -23.46°\n",
      "Alpha 2 = 53.82°\n"
     ]
    }
   ],
   "source": [
    "# Stage 1 Hub Angles\n",
    "\n",
    "stage1wveluph = ((1.005*(10**3)*(stage1deltaTo))/(lambcomp*Uhcomp))\n",
    "\n",
    "stage1beta1hub = np.degrees(np.arctan(Uhcomp/Ca))\n",
    "stage1beta2hub = np.degrees(np.arctan((Uhcomp-stage1wveluph)/Ca))\n",
    "stage1alpha2hub = np.degrees(np.arctan((stage1wveluph)/Ca))\n",
    "\n",
    "print(\"Stage 1 Hub Angles:\")\n",
    "print(\"Beta 1 = %3.2f°\" % (stage1beta1hub))\n",
    "print(\"Beta 2 = %3.2f°\" % (stage1beta2hub))\n",
    "print(\"Alpha 2 = %3.2f°\" % (stage1alpha2hub))"
   ]
  }
 ],
 "metadata": {
  "kernelspec": {
   "display_name": "Python 3 (ipykernel)",
   "language": "python",
   "name": "python3"
  },
  "language_info": {
   "codemirror_mode": {
    "name": "ipython",
    "version": 3
   },
   "file_extension": ".py",
   "mimetype": "text/x-python",
   "name": "python",
   "nbconvert_exporter": "python",
   "pygments_lexer": "ipython3",
   "version": "3.11.3"
  }
 },
 "nbformat": 4,
 "nbformat_minor": 2
}

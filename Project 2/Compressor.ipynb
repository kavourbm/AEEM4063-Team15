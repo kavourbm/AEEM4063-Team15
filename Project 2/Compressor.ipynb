{
 "cells": [
  {
   "cell_type": "code",
   "execution_count": 231,
   "metadata": {},
   "outputs": [],
   "source": [
    "import numpy as np\n",
    "import matplotlib.pyplot as plt\n",
    "%matplotlib inline\n",
    "\n",
    "import pandas as pd"
   ]
  },
  {
   "cell_type": "code",
   "execution_count": 232,
   "metadata": {},
   "outputs": [],
   "source": [
    "CPR = 15\n",
    "FPR = 1.4\n",
    "polyc = 0.90\n",
    "polyf = 0.92\n",
    "\n",
    "BPR = 6\n",
    "mfa = 280 # kg/s, through the fan"
   ]
  },
  {
   "cell_type": "code",
   "execution_count": 233,
   "metadata": {},
   "outputs": [],
   "source": [
    "# blade tip speed should not exceed M 1.2\n",
    "\n",
    "Utfan = 350 # m/s"
   ]
  },
  {
   "cell_type": "markdown",
   "metadata": {},
   "source": [
    "$$\n",
    "\\dot{m}_{a} =\\rho_1 A C_{a1} \\\\\n",
    "A = \\frac{\\dot{m}_{a}}{\\rho_1 C_{a1}}\n",
    "$$"
   ]
  },
  {
   "cell_type": "markdown",
   "metadata": {},
   "source": [
    "$$\n",
    "\\dot{m}_{a} =\\rho_1 A C_{a1} =\\rho_1 \\pi {r_t}^{2} [1-(\\frac{r_r}{r_t})^2] C_{a1} \\\\\n",
    "{r_t}^2 =\\frac{\\dot{m}_{a}}{\\pi \\rho_1 C_{a1} [1-(r_r/r_t)^2]} \\\\\n",
    "$$"
   ]
  },
  {
   "cell_type": "code",
   "execution_count": 234,
   "metadata": {},
   "outputs": [],
   "source": [
    "# Station 1: Fan Inlet\n",
    "\n",
    "# C1 = Ca\n",
    "\n",
    "Ca = 150 # m/s\n",
    "\n",
    "po1= 1.01 # bar\n",
    "To1 = 288 # K\n",
    "\n",
    "gammac = 1.4\n",
    "gammah = 1.33\n",
    "\n",
    "T1 = To1-((Ca**2)/(2*1.005*10**3))\n",
    "p1 = po1*(((T1)/(To1)))**(gammac/(gammac-1))\n",
    "\n",
    "den1 = ((100*p1)/(0.287*T1))"
   ]
  },
  {
   "cell_type": "code",
   "execution_count": 235,
   "metadata": {},
   "outputs": [
    {
     "name": "stdout",
     "output_type": "stream",
     "text": [
      "Fan inlet area = 1.69 m^2\n",
      "Fan tip radius = 0.76 m\n",
      "Rotational velocity = 73.61 rev/s\n"
     ]
    }
   ],
   "source": [
    "Afan = mfa/(den1*Ca)\n",
    "\n",
    "htratio = 0.25\n",
    "\n",
    "rtfan = np.sqrt(mfa/(np.pi*den1*Ca*(1-(htratio**2))))\n",
    "\n",
    "Nfan = Utfan/(2*np.pi*rtfan)\n",
    "\n",
    "print(\"Fan inlet area = %3.2f m^2\" % (Afan))\n",
    "print(\"Fan tip radius = %3.2f m\" % (rtfan))\n",
    "print(\"Rotational velocity = %3.2f rev/s\" % (Nfan))"
   ]
  },
  {
   "cell_type": "code",
   "execution_count": 236,
   "metadata": {},
   "outputs": [
    {
     "name": "stdout",
     "output_type": "stream",
     "text": [
      "The Fan blade tip mach number is 1.14\n",
      "This satisfies the requirement\n"
     ]
    }
   ],
   "source": [
    "V1t = np.sqrt((Utfan**2)+(Ca**2))\n",
    "\n",
    "M1t = V1t/(np.sqrt(gammac*287*T1))\n",
    "\n",
    "print(\"The Fan blade tip mach number is %3.2f\" % (M1t))\n",
    "\n",
    "if M1t > 1.2:\n",
    "    print(\"This does not satify the requirement\")\n",
    "else:\n",
    "    print(\"This satisfies the requirement\")"
   ]
  },
  {
   "cell_type": "code",
   "execution_count": 237,
   "metadata": {},
   "outputs": [
    {
     "name": "stdout",
     "output_type": "stream",
     "text": [
      "To2 = 319.72 K\n",
      "po2 = 1.41 bar\n"
     ]
    }
   ],
   "source": [
    "# Station 2: Compressor Inlet / Fan Outlet\n",
    "\n",
    "nfan = (1/polyf)*((gammac-1)/gammac)\n",
    "To2 = To1*(FPR**nfan)\n",
    "\n",
    "print(\"To2 = %3.2f K\" % (To2))\n",
    "\n",
    "po2 = po1*FPR\n",
    "\n",
    "print(\"po2 = %3.2f bar\" % (po2))"
   ]
  },
  {
   "cell_type": "markdown",
   "metadata": {},
   "source": [
    "$$\n",
    "\\Delta C_w =\\frac{c_p \\Delta T_0}{\\lambda U}\n",
    "$$"
   ]
  },
  {
   "cell_type": "code",
   "execution_count": 238,
   "metadata": {},
   "outputs": [
    {
     "name": "stdout",
     "output_type": "stream",
     "text": [
      "The increase in whirl velocity across the fan is 92.95 m/s\n"
     ]
    }
   ],
   "source": [
    "lamb = 0.98\n",
    "fanwvelup = ((1.005*(10**3)*(To2-To1))/(lamb*Utfan))\n",
    "print(\"The increase in whirl velocity across the fan is %3.2f m/s\" % (fanwvelup))"
   ]
  },
  {
   "cell_type": "code",
   "execution_count": 239,
   "metadata": {},
   "outputs": [
    {
     "name": "stdout",
     "output_type": "stream",
     "text": [
      "Fan Tip Angles:\n",
      "Beta 1 = 66.80°\n",
      "Beta 2 = 59.73°\n",
      "Alpha 2 = 31.78°\n"
     ]
    }
   ],
   "source": [
    "# Fan Angles\n",
    "\n",
    "fanbeta1tip = np.degrees(np.arctan(Utfan/Ca))\n",
    "fanbeta2tip = np.degrees(np.arctan((Utfan-fanwvelup)/Ca))\n",
    "fanalpha2tip = np.degrees(np.arctan((fanwvelup)/Ca))\n",
    "\n",
    "print(\"Fan Tip Angles:\")\n",
    "print(\"Beta 1 = %3.2f°\" % (fanbeta1tip))\n",
    "print(\"Beta 2 = %3.2f°\" % (fanbeta2tip))\n",
    "print(\"Alpha 2 = %3.2f°\" % (fanalpha2tip))"
   ]
  },
  {
   "cell_type": "markdown",
   "metadata": {},
   "source": [
    "$$\n",
    "\\dot{m}_{c} =\\frac{\\dot{m} BPR}{BPR+1} \\\\\n",
    "\\dot{m}_{h} =\\frac{\\dot{m}}{BPR+1} \\\\\n",
    "$$"
   ]
  },
  {
   "cell_type": "code",
   "execution_count": 240,
   "metadata": {},
   "outputs": [
    {
     "name": "stdout",
     "output_type": "stream",
     "text": [
      "Mass Flow Rate of Air through the Compressor = 40.00 kg/s\n",
      "Compressor inlet area = 0.189 m^2\n"
     ]
    }
   ],
   "source": [
    "mfcold = (mfa*BPR)/(BPR+1)\n",
    "mfhot = (mfa)/(BPR+1)\n",
    "\n",
    "print(\"Mass Flow Rate of Air through the Compressor = %3.2f kg/s\" % (mfhot))\n",
    "\n",
    "T2 = To2-((Ca**2)/(2*1.005*10**3))\n",
    "\n",
    "p2 = po2*(((T2)/(To2)))**(gammac/(gammac-1))\n",
    "\n",
    "den2 = ((100*p2)/(0.287*T2))\n",
    "\n",
    "compinarea = mfhot/(den2*Ca)\n",
    "\n",
    "print(\"Compressor inlet area = %3.3f m^2\" % (compinarea))"
   ]
  },
  {
   "cell_type": "markdown",
   "metadata": {},
   "source": [
    "Additional Info: \\\n",
    "Compressor is a separate spool, do not exceed $ M = 1 $ for the largest compressor blade. \\\n",
    "Minimum blade height for last stage is 1 inch (0.0254 m). \\\n",
    "We should land somewhere around 15-17 compressor stages. \\\n",
    "This is open ended, so a lot will be assumed. Assumptions will be clearly stated in markdown + in comments of code."
   ]
  },
  {
   "cell_type": "code",
   "execution_count": 241,
   "metadata": {},
   "outputs": [
    {
     "name": "stdout",
     "output_type": "stream",
     "text": [
      "Compressor inlet tip radius = 0.268 m\n",
      "Compressor inlet hub radius = 0.107 m\n",
      "Compressor mean radius = 0.187 m\n",
      "Compressor rotational velocity = 208.05 rev/s\n"
     ]
    }
   ],
   "source": [
    "Utcomp = 350 # m/s\n",
    "\n",
    "htratiocomp = 0.4\n",
    "\n",
    "r2t = np.sqrt(mfhot/(np.pi*den2*Ca*(1-(htratiocomp**2))))\n",
    "\n",
    "r2h = r2t*htratiocomp\n",
    "\n",
    "# Constant Mean Radius\n",
    "\n",
    "rm = (r2t+r2h)/2\n",
    "\n",
    "print(\"Compressor inlet tip radius = %3.3f m\" % (r2t))\n",
    "print(\"Compressor inlet hub radius = %3.3f m\" % (r2h))\n",
    "print(\"Compressor mean radius = %3.3f m\" % (rm))\n",
    "\n",
    "Nmain = Utcomp/(2*np.pi*r2t)\n",
    "\n",
    "print(\"Compressor rotational velocity = %3.2f rev/s\" % (Nmain))"
   ]
  },
  {
   "cell_type": "code",
   "execution_count": 242,
   "metadata": {},
   "outputs": [
    {
     "name": "stdout",
     "output_type": "stream",
     "text": [
      "The Fan blade tip mach number is 1.08\n",
      "This satisfies the requirement\n"
     ]
    }
   ],
   "source": [
    "V2t = np.sqrt((Utcomp**2)+(Ca**2))\n",
    "\n",
    "M2t = V2t/(np.sqrt(gammac*287*T2))\n",
    "\n",
    "print(\"The Fan blade tip mach number is %3.2f\" % (M2t))\n",
    "\n",
    "if M2t > 1.2:\n",
    "    print(\"This does not satify the requirement\")\n",
    "else:\n",
    "    print(\"This satisfies the requirement\")"
   ]
  },
  {
   "cell_type": "code",
   "execution_count": 243,
   "metadata": {},
   "outputs": [
    {
     "name": "stdout",
     "output_type": "stream",
     "text": [
      "To3 = 755.33 K\n",
      "po3 = 21.21 bar\n"
     ]
    }
   ],
   "source": [
    "# Station 3: Compressor Outlet\n",
    "\n",
    "ncompressor = (1/polyc)*((gammac-1)/gammac)\n",
    "\n",
    "To3 = To2*(CPR**ncompressor)\n",
    "\n",
    "print(\"To3 = %3.2f K\" % (To3))\n",
    "\n",
    "po3 = po2*CPR\n",
    "\n",
    "print(\"po3 = %3.2f bar\" % (po3))"
   ]
  },
  {
   "cell_type": "code",
   "execution_count": 244,
   "metadata": {},
   "outputs": [
    {
     "name": "stdout",
     "output_type": "stream",
     "text": [
      "T3 = 744.13 K\n",
      "p3 = 20.13 bar\n",
      "Compressor outlet area = 0.028 m^2\n"
     ]
    }
   ],
   "source": [
    "T3 = To3-((Ca**2)/(2*1.005*10**3))\n",
    "\n",
    "print(\"T3 = %3.2f K\" % (T3))\n",
    "\n",
    "p3 = po3*(((T3)/(To3)))**(gammac/(gammac-1))\n",
    "\n",
    "print(\"p3 = %3.2f bar\" % (p3))\n",
    "\n",
    "den3 = ((100*p3)/(0.287*T3))\n",
    "\n",
    "compoutarea = mfhot/(den3*Ca)\n",
    "\n",
    "print('Compressor outlet area = %3.3f m^2' % (compoutarea))"
   ]
  },
  {
   "cell_type": "code",
   "execution_count": 245,
   "metadata": {},
   "outputs": [
    {
     "name": "stdout",
     "output_type": "stream",
     "text": [
      "The outlet blade height is 0.0240 m\n",
      "The minimum blade height is 0.0254 m\n",
      "This does not satisfy the requirement\n"
     ]
    }
   ],
   "source": [
    "compoutbladeheight = compoutarea/(2*np.pi*rm)\n",
    "\n",
    "print(\"The outlet blade height is %3.4f m\" % (compoutbladeheight))\n",
    "print(\"The minimum blade height is 0.0254 m\")\n",
    "if compoutbladeheight >= 0.0254:\n",
    "    print(\"This satisfies the requirement\")\n",
    "else:\n",
    "    print(\"This does not satisfy the requirement\")"
   ]
  },
  {
   "cell_type": "code",
   "execution_count": 246,
   "metadata": {},
   "outputs": [
    {
     "name": "stdout",
     "output_type": "stream",
     "text": [
      "Compressor outlet tip radius = 0.1994 m\n",
      "Compressor outlet hub radius = 0.1754 m\n"
     ]
    }
   ],
   "source": [
    "r3t = rm + (compoutbladeheight/2)\n",
    "\n",
    "r3h = rm - (compoutbladeheight/2)\n",
    "\n",
    "print(\"Compressor outlet tip radius = %3.4f m\" % (r3t))\n",
    "print(\"Compressor outlet hub radius = %3.4f m\" % (r3h))"
   ]
  },
  {
   "cell_type": "code",
   "execution_count": 247,
   "metadata": {},
   "outputs": [
    {
     "name": "stdout",
     "output_type": "stream",
     "text": [
      "Compressor mean blade speed = 245.00 m/s\n",
      "Compressor Stage 1 Beta 1 = 58.52°\n",
      "V1 = 287.27 m/s\n",
      "V2 = 186.73 m/s\n",
      "Compressor Stage 1 Beta 2 = 36.55°\n",
      "The average stage temperature rise is 31.96 K\n"
     ]
    }
   ],
   "source": [
    "# Stage Estimation\n",
    "\n",
    "Umcomp = 2*np.pi*rm*Nmain\n",
    "Uhcomp = 2*np.pi*r2h*Nmain\n",
    "\n",
    "print(\"Compressor mean blade speed = %3.2f m/s\" % (Umcomp))\n",
    "\n",
    "c1beta1mean = np.degrees(np.arctan(Umcomp/Ca))\n",
    "\n",
    "print(\"Compressor Stage 1 Beta 1 = %3.2f°\" % (c1beta1mean))\n",
    "\n",
    "V1c1 = Ca/np.cos(np.radians(c1beta1mean))\n",
    "\n",
    "print(\"V1 = %3.2f m/s\" % (V1c1))\n",
    "\n",
    "deHaller = 0.65 # V2/V1 cannot be less than 0.65\n",
    "\n",
    "V2c1 = V1c1*deHaller\n",
    "\n",
    "print(\"V2 = %3.2f m/s\" % (V2c1))\n",
    "\n",
    "c1beta2mean = np.degrees(np.arccos(Ca/V2c1))\n",
    "\n",
    "print(\"Compressor Stage 1 Beta 2 = %3.2f°\" % (c1beta2mean))\n",
    "\n",
    "deltaTos = (lamb*Umcomp*Ca*(np.tan(np.radians(c1beta1mean))-np.tan(np.radians(c1beta2mean))))/(1.005*10**3)\n",
    "\n",
    "print(\"The average stage temperature rise is %3.2f K\" % (deltaTos))"
   ]
  },
  {
   "cell_type": "code",
   "execution_count": 248,
   "metadata": {},
   "outputs": [
    {
     "name": "stdout",
     "output_type": "stream",
     "text": [
      "The Compressor Temperature rise is 435.61 K\n",
      "Estimation of 13.6 Stages\n"
     ]
    }
   ],
   "source": [
    "compstagrise = To3 - To2\n",
    "\n",
    "print(\"The Compressor Temperature rise is %3.2f K\" % (compstagrise))\n",
    "\n",
    "stageest = compstagrise/deltaTos\n",
    "\n",
    "print(\"Estimation of %3.1f Stages\" % (stageest))"
   ]
  },
  {
   "cell_type": "code",
   "execution_count": 249,
   "metadata": {},
   "outputs": [],
   "source": [
    "stageactual = 15\n",
    "# Values per stage: alpha1, alpha2, beta1, beta2, r, U, Cw, V, Vw\n",
    "stagevals = np.zeros((stageactual,3,9))"
   ]
  },
  {
   "cell_type": "markdown",
   "metadata": {},
   "source": [
    "$$\n",
    "\\frac{1}{2}(\\frac{T_{0S}c_p}{\\lambda U C_a} +\\frac{2U \\Lambda}{C_a})=tan(\\beta_1) \\\\\n",
    "\\frac{2U \\Lambda}{C_a} -tan(\\beta_1) = tan(\\beta_2)\n",
    "$$"
   ]
  },
  {
   "cell_type": "code",
   "execution_count": 250,
   "metadata": {},
   "outputs": [],
   "source": [
    "i = 0\n",
    "\n",
    "deltadiff = 15\n",
    "\n",
    "deltato1 = 25\n",
    "# for 4 stages\n",
    "deltato2 = (compstagrise-(deltato1*4))/(stageactual-4)\n",
    "# for stageactual - 4 stages\n",
    "\n",
    "lambcomp = 0.98\n",
    "\n",
    "DOR = 0.7\n",
    "\n",
    "Cwtprev = 0 # m/s\n",
    "Cwmprev = 0 # m/s\n",
    "Cwhprev = 0 # m/s\n",
    "\n",
    "while i < stageactual:\n",
    "    if i < 2 or i > (stageactual-3):\n",
    "        stagedeltaTo = deltato1\n",
    "    else:\n",
    "        stagedeltaTo = deltato2\n",
    "    deltawhirlt = ((1.005*(10**3)*(stagedeltaTo))/(lambcomp*Utcomp))\n",
    "\n",
    "    rtstage = ((r3t-r2t)/(stageactual-1))*i+r2t \n",
    "    rhstage = ((r3h-r2h)/(stageactual-1))*i+r2h\n",
    "\n",
    "    Utstage = 2*np.pi*rtstage*Nmain\n",
    "    Uhstage = 2*np.pi*rhstage*Nmain\n",
    "\n",
    "    Cwt = deltawhirlt - Cwtprev\n",
    "    if i == 0:\n",
    "        stagebeta1tip = np.degrees(np.arctan(Utcomp/Ca))\n",
    "        stagebeta2tip = np.degrees(np.arctan((Utcomp-Cwt)/Ca))\n",
    "        stagealpha2tip = np.degrees(np.arctan((Cwt)/Ca))\n",
    "    else:\n",
    "        stagebeta1tip = np.degrees(np.arctan(0.5*(((stagedeltaTo*1.005*1000)/(lambcomp*Utstage*Ca))+((2*Utstage*DOR)/(Ca)))))\n",
    "        stagebeta2tip = np.degrees(np.arctan(((2*Utstage*DOR)/(Ca))-np.tan(np.radians(stagebeta1tip))))\n",
    "        stagealpha2tip = np.degrees(np.arctan((Utstage/Ca)-np.tan(np.radians(stagebeta2tip))))\n",
    "    stagealpha1tip = np.degrees(np.arctan((Utstage/Ca)-np.tan(np.radians(stagebeta1tip))))\n",
    "\n",
    "    dehallert = (np.cos(np.radians(stagebeta1tip)))/(np.cos(np.radians(stagebeta2tip)))\n",
    "\n",
    "    deltawhirlm = ((1.005*(10**3)*(stagedeltaTo))/(lambcomp*Umcomp))\n",
    "\n",
    "    Cwm = deltawhirlm - Cwmprev\n",
    "\n",
    "    if i == 0:\n",
    "        stagebeta1mean = np.degrees(np.arctan(Umcomp/Ca))\n",
    "        stagebeta2mean = np.degrees(np.arctan((Umcomp-Cwt)/Ca))\n",
    "        stagealpha2mean = np.degrees(np.arctan((Cwm)/Ca))\n",
    "    else:\n",
    "        stagebeta1mean = np.degrees(np.arctan(0.5*(((stagedeltaTo*1.005*1000)/(lambcomp*Umcomp*Ca))+((2*Umcomp*DOR)/(Ca)))))\n",
    "        stagebeta2mean = np.degrees(np.arctan(((2*Umcomp*DOR)/(Ca))-np.tan(np.radians(stagebeta1mean))))\n",
    "        stagealpha2mean = np.degrees(np.arctan((Umcomp/Ca)-np.tan(np.radians(stagebeta2mean))))\n",
    "    stagealpha1mean = np.degrees(np.arctan((Umcomp/Ca)-np.tan(np.radians(stagebeta1mean))))\n",
    "\n",
    "    deltawhirlh = ((1.005*(10**3)*(stagedeltaTo))/(lambcomp*Uhcomp))\n",
    "\n",
    "    Cwh = deltawhirlh - Cwhprev\n",
    "\n",
    "    if i == 0:\n",
    "        stagebeta1hub = np.degrees(np.arctan(Uhcomp/Ca))\n",
    "        stagebeta2hub = np.degrees(np.arctan((Uhcomp-Cwh)/Ca))\n",
    "        stagealpha2hub = np.degrees(np.arctan((Cwh)/Ca))\n",
    "    else:\n",
    "        stagebeta1hub = np.degrees(np.arctan(0.5*(((stagedeltaTo*1.005*1000)/(lambcomp*Uhstage*Ca))+((2*Uhstage*DOR)/(Ca)))))\n",
    "        stagebeta2hub = np.degrees(np.arctan(((2*Uhstage*DOR)/(Ca))-np.tan(np.radians(stagebeta1hub))))\n",
    "        stagealpha2hub = np.degrees(np.arctan((Uhstage/Ca)-np.tan(np.radians(stagebeta2hub)))) \n",
    "    stagealpha1hub = np.degrees(np.arctan((Uhstage/Ca)-np.tan(np.radians(stagebeta1hub))))\n",
    "\n",
    "\n",
    "    stagevals[i,:,:] = np.array([[stagealpha1hub,stagealpha2hub,stagebeta1hub,stagebeta2hub,rhstage,Uhstage,Cwh,0,0],[stagealpha1mean,stagealpha2mean,stagebeta1mean,stagebeta2mean,rm,Umcomp,Cwm,0,0],[stagealpha1tip,stagealpha2tip,stagebeta1tip,stagebeta2tip,rtstage,Utstage,Cwt,0,0]])\n",
    "\n",
    "    Cwtprev = Cwt\n",
    "    Cwmprev = Cwm\n",
    "    Cwhprev = Cwh\n",
    "\n",
    "    i += 1"
   ]
  },
  {
   "cell_type": "code",
   "execution_count": 251,
   "metadata": {},
   "outputs": [
    {
     "name": "stdout",
     "output_type": "stream",
     "text": [
      "Hub Values:\n"
     ]
    },
    {
     "data": {
      "text/html": [
       "<style type=\"text/css\">\n",
       "</style>\n",
       "<table id=\"T_63825\">\n",
       "  <thead>\n",
       "    <tr>\n",
       "      <th class=\"blank level0\" >&nbsp;</th>\n",
       "      <th id=\"T_63825_level0_col0\" class=\"col_heading level0 col0\" >Alpha 1</th>\n",
       "      <th id=\"T_63825_level0_col1\" class=\"col_heading level0 col1\" >Alpha 2</th>\n",
       "      <th id=\"T_63825_level0_col2\" class=\"col_heading level0 col2\" >Beta 1</th>\n",
       "      <th id=\"T_63825_level0_col3\" class=\"col_heading level0 col3\" >Beta 2</th>\n",
       "      <th id=\"T_63825_level0_col4\" class=\"col_heading level0 col4\" >Radius</th>\n",
       "    </tr>\n",
       "  </thead>\n",
       "  <tbody>\n",
       "    <tr>\n",
       "      <th id=\"T_63825_level0_row0\" class=\"row_heading level0 row0\" >Stage 1</th>\n",
       "      <td id=\"T_63825_row0_col0\" class=\"data row0 col0\" >0.0000</td>\n",
       "      <td id=\"T_63825_row0_col1\" class=\"data row0 col1\" >50.6789</td>\n",
       "      <td id=\"T_63825_row0_col2\" class=\"data row0 col2\" >43.0251</td>\n",
       "      <td id=\"T_63825_row0_col3\" class=\"data row0 col3\" >-16.0406</td>\n",
       "      <td id=\"T_63825_row0_col4\" class=\"data row0 col4\" >0.1071</td>\n",
       "    </tr>\n",
       "    <tr>\n",
       "      <th id=\"T_63825_level0_row1\" class=\"row_heading level0 row1\" >Stage 2</th>\n",
       "      <td id=\"T_63825_row1_col0\" class=\"data row1 col0\" >-16.2285</td>\n",
       "      <td id=\"T_63825_row1_col1\" class=\"data row1 col1\" >41.2372</td>\n",
       "      <td id=\"T_63825_row1_col2\" class=\"data row1 col2\" >51.7155</td>\n",
       "      <td id=\"T_63825_row1_col3\" class=\"data row1 col3\" >5.6695</td>\n",
       "      <td id=\"T_63825_row1_col4\" class=\"data row1 col4\" >0.1120</td>\n",
       "    </tr>\n",
       "    <tr>\n",
       "      <th id=\"T_63825_level0_row2\" class=\"row_heading level0 row2\" >Stage 3</th>\n",
       "      <td id=\"T_63825_row2_col0\" class=\"data row2 col0\" >-20.6678</td>\n",
       "      <td id=\"T_63825_row2_col1\" class=\"data row2 col1\" >44.6615</td>\n",
       "      <td id=\"T_63825_row2_col2\" class=\"data row2 col2\" >54.3771</td>\n",
       "      <td id=\"T_63825_row2_col3\" class=\"data row2 col3\" >1.7255</td>\n",
       "      <td id=\"T_63825_row2_col4\" class=\"data row2 col4\" >0.1169</td>\n",
       "    </tr>\n",
       "    <tr>\n",
       "      <th id=\"T_63825_level0_row3\" class=\"row_heading level0 row3\" >Stage 4</th>\n",
       "      <td id=\"T_63825_row3_col0\" class=\"data row3 col0\" >-18.6292</td>\n",
       "      <td id=\"T_63825_row3_col1\" class=\"data row3 col1\" >44.2350</td>\n",
       "      <td id=\"T_63825_row3_col2\" class=\"data row3 col2\" >54.4237</td>\n",
       "      <td id=\"T_63825_row3_col3\" class=\"data row3 col3\" >4.9868</td>\n",
       "      <td id=\"T_63825_row3_col4\" class=\"data row3 col4\" >0.1217</td>\n",
       "    </tr>\n",
       "    <tr>\n",
       "      <th id=\"T_63825_level0_row4\" class=\"row_heading level0 row4\" >Stage 5</th>\n",
       "      <td id=\"T_63825_row4_col0\" class=\"data row4 col0\" >-16.6515</td>\n",
       "      <td id=\"T_63825_row4_col1\" class=\"data row4 col1\" >43.8650</td>\n",
       "      <td id=\"T_63825_row4_col2\" class=\"data row4 col2\" >54.5109</td>\n",
       "      <td id=\"T_63825_row4_col3\" class=\"data row4 col3\" >8.0976</td>\n",
       "      <td id=\"T_63825_row4_col4\" class=\"data row4 col4\" >0.1266</td>\n",
       "    </tr>\n",
       "    <tr>\n",
       "      <th id=\"T_63825_level0_row5\" class=\"row_heading level0 row5\" >Stage 6</th>\n",
       "      <td id=\"T_63825_row5_col0\" class=\"data row5 col0\" >-14.7326</td>\n",
       "      <td id=\"T_63825_row5_col1\" class=\"data row5 col1\" >43.5469</td>\n",
       "      <td id=\"T_63825_row5_col2\" class=\"data row5 col2\" >54.6339</td>\n",
       "      <td id=\"T_63825_row5_col3\" class=\"data row5 col3\" >11.0577</td>\n",
       "      <td id=\"T_63825_row5_col4\" class=\"data row5 col4\" >0.1315</td>\n",
       "    </tr>\n",
       "    <tr>\n",
       "      <th id=\"T_63825_level0_row6\" class=\"row_heading level0 row6\" >Stage 7</th>\n",
       "      <td id=\"T_63825_row6_col0\" class=\"data row6 col0\" >-12.8705</td>\n",
       "      <td id=\"T_63825_row6_col1\" class=\"data row6 col1\" >43.2762</td>\n",
       "      <td id=\"T_63825_row6_col2\" class=\"data row6 col2\" >54.7879</td>\n",
       "      <td id=\"T_63825_row6_col3\" class=\"data row6 col3\" >13.8689</td>\n",
       "      <td id=\"T_63825_row6_col4\" class=\"data row6 col4\" >0.1364</td>\n",
       "    </tr>\n",
       "    <tr>\n",
       "      <th id=\"T_63825_level0_row7\" class=\"row_heading level0 row7\" >Stage 8</th>\n",
       "      <td id=\"T_63825_row7_col0\" class=\"data row7 col0\" >-11.0630</td>\n",
       "      <td id=\"T_63825_row7_col1\" class=\"data row7 col1\" >43.0490</td>\n",
       "      <td id=\"T_63825_row7_col2\" class=\"data row7 col2\" >54.9692</td>\n",
       "      <td id=\"T_63825_row7_col3\" class=\"data row7 col3\" >16.5348</td>\n",
       "      <td id=\"T_63825_row7_col4\" class=\"data row7 col4\" >0.1413</td>\n",
       "    </tr>\n",
       "    <tr>\n",
       "      <th id=\"T_63825_level0_row8\" class=\"row_heading level0 row8\" >Stage 9</th>\n",
       "      <td id=\"T_63825_row8_col0\" class=\"data row8 col0\" >-9.3084</td>\n",
       "      <td id=\"T_63825_row8_col1\" class=\"data row8 col1\" >42.8618</td>\n",
       "      <td id=\"T_63825_row8_col2\" class=\"data row8 col2\" >55.1740</td>\n",
       "      <td id=\"T_63825_row8_col3\" class=\"data row8 col3\" >19.0600</td>\n",
       "      <td id=\"T_63825_row8_col4\" class=\"data row8 col4\" >0.1461</td>\n",
       "    </tr>\n",
       "    <tr>\n",
       "      <th id=\"T_63825_level0_row9\" class=\"row_heading level0 row9\" >Stage 10</th>\n",
       "      <td id=\"T_63825_row9_col0\" class=\"data row9 col0\" >-7.6045</td>\n",
       "      <td id=\"T_63825_row9_col1\" class=\"data row9 col1\" >42.7110</td>\n",
       "      <td id=\"T_63825_row9_col2\" class=\"data row9 col2\" >55.3993</td>\n",
       "      <td id=\"T_63825_row9_col3\" class=\"data row9 col3\" >21.4501</td>\n",
       "      <td id=\"T_63825_row9_col4\" class=\"data row9 col4\" >0.1510</td>\n",
       "    </tr>\n",
       "    <tr>\n",
       "      <th id=\"T_63825_level0_row10\" class=\"row_heading level0 row10\" >Stage 11</th>\n",
       "      <td id=\"T_63825_row10_col0\" class=\"data row10 col0\" >-5.9497</td>\n",
       "      <td id=\"T_63825_row10_col1\" class=\"data row10 col1\" >42.5939</td>\n",
       "      <td id=\"T_63825_row10_col2\" class=\"data row10 col2\" >55.6422</td>\n",
       "      <td id=\"T_63825_row10_col3\" class=\"data row10 col3\" >23.7114</td>\n",
       "      <td id=\"T_63825_row10_col4\" class=\"data row10 col4\" >0.1559</td>\n",
       "    </tr>\n",
       "    <tr>\n",
       "      <th id=\"T_63825_level0_row11\" class=\"row_heading level0 row11\" >Stage 12</th>\n",
       "      <td id=\"T_63825_row11_col0\" class=\"data row11 col0\" >-4.3420</td>\n",
       "      <td id=\"T_63825_row11_col1\" class=\"data row11 col1\" >42.5076</td>\n",
       "      <td id=\"T_63825_row11_col2\" class=\"data row11 col2\" >55.9002</td>\n",
       "      <td id=\"T_63825_row11_col3\" class=\"data row11 col3\" >25.8504</td>\n",
       "      <td id=\"T_63825_row11_col4\" class=\"data row11 col4\" >0.1608</td>\n",
       "    </tr>\n",
       "    <tr>\n",
       "      <th id=\"T_63825_level0_row12\" class=\"row_heading level0 row12\" >Stage 13</th>\n",
       "      <td id=\"T_63825_row12_col0\" class=\"data row12 col0\" >-2.7797</td>\n",
       "      <td id=\"T_63825_row12_col1\" class=\"data row12 col1\" >42.4496</td>\n",
       "      <td id=\"T_63825_row12_col2\" class=\"data row12 col2\" >56.1711</td>\n",
       "      <td id=\"T_63825_row12_col3\" class=\"data row12 col3\" >27.8739</td>\n",
       "      <td id=\"T_63825_row12_col4\" class=\"data row12 col4\" >0.1656</td>\n",
       "    </tr>\n",
       "    <tr>\n",
       "      <th id=\"T_63825_level0_row13\" class=\"row_heading level0 row13\" >Stage 14</th>\n",
       "      <td id=\"T_63825_row13_col0\" class=\"data row13 col0\" >3.5748</td>\n",
       "      <td id=\"T_63825_row13_col1\" class=\"data row13 col1\" >39.6656</td>\n",
       "      <td id=\"T_63825_row13_col2\" class=\"data row13 col2\" >54.9151</td>\n",
       "      <td id=\"T_63825_row13_col3\" class=\"data row13 col3\" >33.3018</td>\n",
       "      <td id=\"T_63825_row13_col4\" class=\"data row13 col4\" >0.1705</td>\n",
       "    </tr>\n",
       "    <tr>\n",
       "      <th id=\"T_63825_level0_row14\" class=\"row_heading level0 row14\" >Stage 15</th>\n",
       "      <td id=\"T_63825_row14_col0\" class=\"data row14 col0\" >4.9093</td>\n",
       "      <td id=\"T_63825_row14_col1\" class=\"data row14 col1\" >39.7366</td>\n",
       "      <td id=\"T_63825_row14_col2\" class=\"data row14 col2\" >55.2734</td>\n",
       "      <td id=\"T_63825_row14_col3\" class=\"data row14 col3\" >34.8901</td>\n",
       "      <td id=\"T_63825_row14_col4\" class=\"data row14 col4\" >0.1754</td>\n",
       "    </tr>\n",
       "  </tbody>\n",
       "</table>\n"
      ],
      "text/plain": [
       "<pandas.io.formats.style.Styler at 0x1ec8976b1d0>"
      ]
     },
     "execution_count": 251,
     "metadata": {},
     "output_type": "execute_result"
    }
   ],
   "source": [
    "print(\"Hub Values:\")\n",
    "\n",
    "tabletry = pd.DataFrame({\"Alpha 1\": stagevals[:,0,0],\"Alpha 2\": stagevals[:,0,1],\"Beta 1\": stagevals[:,0,2],\"Beta 2\": stagevals[:,0,3],\"Radius\": stagevals[:,0,4]})\n",
    "\n",
    "tabletry.style \\\n",
    "    .format(precision=4) \\\n",
    "    .relabel_index([\"Stage 1\",\"Stage 2\",\"Stage 3\",\"Stage 4\",\"Stage 5\",\"Stage 6\",\"Stage 7\",\"Stage 8\",\"Stage 9\",\"Stage 10\",\"Stage 11\",\"Stage 12\",\"Stage 13\",\"Stage 14\",\"Stage 15\"],axis=0)\n"
   ]
  },
  {
   "cell_type": "code",
   "execution_count": 252,
   "metadata": {},
   "outputs": [
    {
     "name": "stdout",
     "output_type": "stream",
     "text": [
      "Mean Values:\n"
     ]
    },
    {
     "data": {
      "text/html": [
       "<style type=\"text/css\">\n",
       "</style>\n",
       "<table id=\"T_4cbcc\">\n",
       "  <thead>\n",
       "    <tr>\n",
       "      <th class=\"blank level0\" >&nbsp;</th>\n",
       "      <th id=\"T_4cbcc_level0_col0\" class=\"col_heading level0 col0\" >Alpha 1</th>\n",
       "      <th id=\"T_4cbcc_level0_col1\" class=\"col_heading level0 col1\" >Alpha 2</th>\n",
       "      <th id=\"T_4cbcc_level0_col2\" class=\"col_heading level0 col2\" >Beta 1</th>\n",
       "      <th id=\"T_4cbcc_level0_col3\" class=\"col_heading level0 col3\" >Beta 2</th>\n",
       "      <th id=\"T_4cbcc_level0_col4\" class=\"col_heading level0 col4\" >Radius</th>\n",
       "    </tr>\n",
       "  </thead>\n",
       "  <tbody>\n",
       "    <tr>\n",
       "      <th id=\"T_4cbcc_level0_row0\" class=\"row_heading level0 row0\" >Stage 1</th>\n",
       "      <td id=\"T_4cbcc_row0_col0\" class=\"data row0 col0\" >0.0000</td>\n",
       "      <td id=\"T_4cbcc_row0_col1\" class=\"data row0 col1\" >34.9006</td>\n",
       "      <td id=\"T_4cbcc_row0_col2\" class=\"data row0 col2\" >58.5232</td>\n",
       "      <td id=\"T_4cbcc_row0_col3\" class=\"data row0 col3\" >48.8671</td>\n",
       "      <td id=\"T_4cbcc_row0_col4\" class=\"data row0 col4\" >0.1874</td>\n",
       "    </tr>\n",
       "    <tr>\n",
       "      <th id=\"T_4cbcc_level0_row1\" class=\"row_heading level0 row1\" >Stage 2</th>\n",
       "      <td id=\"T_4cbcc_row1_col0\" class=\"data row1 col0\" >8.0363</td>\n",
       "      <td id=\"T_4cbcc_row1_col1\" class=\"data row1 col1\" >39.9904</td>\n",
       "      <td id=\"T_4cbcc_row1_col2\" class=\"data row1 col2\" >56.1710</td>\n",
       "      <td id=\"T_4cbcc_row1_col3\" class=\"data row1 col3\" >38.4679</td>\n",
       "      <td id=\"T_4cbcc_row1_col4\" class=\"data row1 col4\" >0.1874</td>\n",
       "    </tr>\n",
       "    <tr>\n",
       "      <th id=\"T_4cbcc_level0_row2\" class=\"row_heading level0 row2\" >Stage 3</th>\n",
       "      <td id=\"T_4cbcc_row2_col0\" class=\"data row2 col0\" >3.6798</td>\n",
       "      <td id=\"T_4cbcc_row2_col1\" class=\"data row2 col1\" >42.4799</td>\n",
       "      <td id=\"T_4cbcc_row2_col2\" class=\"data row2 col2\" >57.4890</td>\n",
       "      <td id=\"T_4cbcc_row2_col3\" class=\"data row2 col3\" >35.6650</td>\n",
       "      <td id=\"T_4cbcc_row2_col4\" class=\"data row2 col4\" >0.1874</td>\n",
       "    </tr>\n",
       "    <tr>\n",
       "      <th id=\"T_4cbcc_level0_row3\" class=\"row_heading level0 row3\" >Stage 4</th>\n",
       "      <td id=\"T_4cbcc_row3_col0\" class=\"data row3 col0\" >3.6798</td>\n",
       "      <td id=\"T_4cbcc_row3_col1\" class=\"data row3 col1\" >42.4799</td>\n",
       "      <td id=\"T_4cbcc_row3_col2\" class=\"data row3 col2\" >57.4890</td>\n",
       "      <td id=\"T_4cbcc_row3_col3\" class=\"data row3 col3\" >35.6650</td>\n",
       "      <td id=\"T_4cbcc_row3_col4\" class=\"data row3 col4\" >0.1874</td>\n",
       "    </tr>\n",
       "    <tr>\n",
       "      <th id=\"T_4cbcc_level0_row4\" class=\"row_heading level0 row4\" >Stage 5</th>\n",
       "      <td id=\"T_4cbcc_row4_col0\" class=\"data row4 col0\" >3.6798</td>\n",
       "      <td id=\"T_4cbcc_row4_col1\" class=\"data row4 col1\" >42.4799</td>\n",
       "      <td id=\"T_4cbcc_row4_col2\" class=\"data row4 col2\" >57.4890</td>\n",
       "      <td id=\"T_4cbcc_row4_col3\" class=\"data row4 col3\" >35.6650</td>\n",
       "      <td id=\"T_4cbcc_row4_col4\" class=\"data row4 col4\" >0.1874</td>\n",
       "    </tr>\n",
       "    <tr>\n",
       "      <th id=\"T_4cbcc_level0_row5\" class=\"row_heading level0 row5\" >Stage 6</th>\n",
       "      <td id=\"T_4cbcc_row5_col0\" class=\"data row5 col0\" >3.6798</td>\n",
       "      <td id=\"T_4cbcc_row5_col1\" class=\"data row5 col1\" >42.4799</td>\n",
       "      <td id=\"T_4cbcc_row5_col2\" class=\"data row5 col2\" >57.4890</td>\n",
       "      <td id=\"T_4cbcc_row5_col3\" class=\"data row5 col3\" >35.6650</td>\n",
       "      <td id=\"T_4cbcc_row5_col4\" class=\"data row5 col4\" >0.1874</td>\n",
       "    </tr>\n",
       "    <tr>\n",
       "      <th id=\"T_4cbcc_level0_row6\" class=\"row_heading level0 row6\" >Stage 7</th>\n",
       "      <td id=\"T_4cbcc_row6_col0\" class=\"data row6 col0\" >3.6798</td>\n",
       "      <td id=\"T_4cbcc_row6_col1\" class=\"data row6 col1\" >42.4799</td>\n",
       "      <td id=\"T_4cbcc_row6_col2\" class=\"data row6 col2\" >57.4890</td>\n",
       "      <td id=\"T_4cbcc_row6_col3\" class=\"data row6 col3\" >35.6650</td>\n",
       "      <td id=\"T_4cbcc_row6_col4\" class=\"data row6 col4\" >0.1874</td>\n",
       "    </tr>\n",
       "    <tr>\n",
       "      <th id=\"T_4cbcc_level0_row7\" class=\"row_heading level0 row7\" >Stage 8</th>\n",
       "      <td id=\"T_4cbcc_row7_col0\" class=\"data row7 col0\" >3.6798</td>\n",
       "      <td id=\"T_4cbcc_row7_col1\" class=\"data row7 col1\" >42.4799</td>\n",
       "      <td id=\"T_4cbcc_row7_col2\" class=\"data row7 col2\" >57.4890</td>\n",
       "      <td id=\"T_4cbcc_row7_col3\" class=\"data row7 col3\" >35.6650</td>\n",
       "      <td id=\"T_4cbcc_row7_col4\" class=\"data row7 col4\" >0.1874</td>\n",
       "    </tr>\n",
       "    <tr>\n",
       "      <th id=\"T_4cbcc_level0_row8\" class=\"row_heading level0 row8\" >Stage 9</th>\n",
       "      <td id=\"T_4cbcc_row8_col0\" class=\"data row8 col0\" >3.6798</td>\n",
       "      <td id=\"T_4cbcc_row8_col1\" class=\"data row8 col1\" >42.4799</td>\n",
       "      <td id=\"T_4cbcc_row8_col2\" class=\"data row8 col2\" >57.4890</td>\n",
       "      <td id=\"T_4cbcc_row8_col3\" class=\"data row8 col3\" >35.6650</td>\n",
       "      <td id=\"T_4cbcc_row8_col4\" class=\"data row8 col4\" >0.1874</td>\n",
       "    </tr>\n",
       "    <tr>\n",
       "      <th id=\"T_4cbcc_level0_row9\" class=\"row_heading level0 row9\" >Stage 10</th>\n",
       "      <td id=\"T_4cbcc_row9_col0\" class=\"data row9 col0\" >3.6798</td>\n",
       "      <td id=\"T_4cbcc_row9_col1\" class=\"data row9 col1\" >42.4799</td>\n",
       "      <td id=\"T_4cbcc_row9_col2\" class=\"data row9 col2\" >57.4890</td>\n",
       "      <td id=\"T_4cbcc_row9_col3\" class=\"data row9 col3\" >35.6650</td>\n",
       "      <td id=\"T_4cbcc_row9_col4\" class=\"data row9 col4\" >0.1874</td>\n",
       "    </tr>\n",
       "    <tr>\n",
       "      <th id=\"T_4cbcc_level0_row10\" class=\"row_heading level0 row10\" >Stage 11</th>\n",
       "      <td id=\"T_4cbcc_row10_col0\" class=\"data row10 col0\" >3.6798</td>\n",
       "      <td id=\"T_4cbcc_row10_col1\" class=\"data row10 col1\" >42.4799</td>\n",
       "      <td id=\"T_4cbcc_row10_col2\" class=\"data row10 col2\" >57.4890</td>\n",
       "      <td id=\"T_4cbcc_row10_col3\" class=\"data row10 col3\" >35.6650</td>\n",
       "      <td id=\"T_4cbcc_row10_col4\" class=\"data row10 col4\" >0.1874</td>\n",
       "    </tr>\n",
       "    <tr>\n",
       "      <th id=\"T_4cbcc_level0_row11\" class=\"row_heading level0 row11\" >Stage 12</th>\n",
       "      <td id=\"T_4cbcc_row11_col0\" class=\"data row11 col0\" >3.6798</td>\n",
       "      <td id=\"T_4cbcc_row11_col1\" class=\"data row11 col1\" >42.4799</td>\n",
       "      <td id=\"T_4cbcc_row11_col2\" class=\"data row11 col2\" >57.4890</td>\n",
       "      <td id=\"T_4cbcc_row11_col3\" class=\"data row11 col3\" >35.6650</td>\n",
       "      <td id=\"T_4cbcc_row11_col4\" class=\"data row11 col4\" >0.1874</td>\n",
       "    </tr>\n",
       "    <tr>\n",
       "      <th id=\"T_4cbcc_level0_row12\" class=\"row_heading level0 row12\" >Stage 13</th>\n",
       "      <td id=\"T_4cbcc_row12_col0\" class=\"data row12 col0\" >3.6798</td>\n",
       "      <td id=\"T_4cbcc_row12_col1\" class=\"data row12 col1\" >42.4799</td>\n",
       "      <td id=\"T_4cbcc_row12_col2\" class=\"data row12 col2\" >57.4890</td>\n",
       "      <td id=\"T_4cbcc_row12_col3\" class=\"data row12 col3\" >35.6650</td>\n",
       "      <td id=\"T_4cbcc_row12_col4\" class=\"data row12 col4\" >0.1874</td>\n",
       "    </tr>\n",
       "    <tr>\n",
       "      <th id=\"T_4cbcc_level0_row13\" class=\"row_heading level0 row13\" >Stage 14</th>\n",
       "      <td id=\"T_4cbcc_row13_col0\" class=\"data row13 col0\" >8.0363</td>\n",
       "      <td id=\"T_4cbcc_row13_col1\" class=\"data row13 col1\" >39.9904</td>\n",
       "      <td id=\"T_4cbcc_row13_col2\" class=\"data row13 col2\" >56.1710</td>\n",
       "      <td id=\"T_4cbcc_row13_col3\" class=\"data row13 col3\" >38.4679</td>\n",
       "      <td id=\"T_4cbcc_row13_col4\" class=\"data row13 col4\" >0.1874</td>\n",
       "    </tr>\n",
       "    <tr>\n",
       "      <th id=\"T_4cbcc_level0_row14\" class=\"row_heading level0 row14\" >Stage 15</th>\n",
       "      <td id=\"T_4cbcc_row14_col0\" class=\"data row14 col0\" >8.0363</td>\n",
       "      <td id=\"T_4cbcc_row14_col1\" class=\"data row14 col1\" >39.9904</td>\n",
       "      <td id=\"T_4cbcc_row14_col2\" class=\"data row14 col2\" >56.1710</td>\n",
       "      <td id=\"T_4cbcc_row14_col3\" class=\"data row14 col3\" >38.4679</td>\n",
       "      <td id=\"T_4cbcc_row14_col4\" class=\"data row14 col4\" >0.1874</td>\n",
       "    </tr>\n",
       "  </tbody>\n",
       "</table>\n"
      ],
      "text/plain": [
       "<pandas.io.formats.style.Styler at 0x1ec89792a90>"
      ]
     },
     "execution_count": 252,
     "metadata": {},
     "output_type": "execute_result"
    }
   ],
   "source": [
    "print(\"Mean Values:\")\n",
    "\n",
    "tabletry = pd.DataFrame({\"Alpha 1\": stagevals[:,1,0],\"Alpha 2\": stagevals[:,1,1],\"Beta 1\": stagevals[:,1,2],\"Beta 2\": stagevals[:,1,3],\"Radius\": stagevals[:,1,4]})\n",
    "\n",
    "tabletry.style \\\n",
    "    .format(precision=4) \\\n",
    "    .relabel_index([\"Stage 1\",\"Stage 2\",\"Stage 3\",\"Stage 4\",\"Stage 5\",\"Stage 6\",\"Stage 7\",\"Stage 8\",\"Stage 9\",\"Stage 10\",\"Stage 11\",\"Stage 12\",\"Stage 13\",\"Stage 14\",\"Stage 15\"],axis=0)"
   ]
  },
  {
   "cell_type": "code",
   "execution_count": 253,
   "metadata": {},
   "outputs": [
    {
     "name": "stdout",
     "output_type": "stream",
     "text": [
      "Tip Values:\n"
     ]
    },
    {
     "data": {
      "text/html": [
       "<style type=\"text/css\">\n",
       "</style>\n",
       "<table id=\"T_8a834\">\n",
       "  <thead>\n",
       "    <tr>\n",
       "      <th class=\"blank level0\" >&nbsp;</th>\n",
       "      <th id=\"T_8a834_level0_col0\" class=\"col_heading level0 col0\" >Alpha 1</th>\n",
       "      <th id=\"T_8a834_level0_col1\" class=\"col_heading level0 col1\" >Alpha 2</th>\n",
       "      <th id=\"T_8a834_level0_col2\" class=\"col_heading level0 col2\" >Beta 1</th>\n",
       "      <th id=\"T_8a834_level0_col3\" class=\"col_heading level0 col3\" >Beta 2</th>\n",
       "      <th id=\"T_8a834_level0_col4\" class=\"col_heading level0 col4\" >Radius</th>\n",
       "    </tr>\n",
       "  </thead>\n",
       "  <tbody>\n",
       "    <tr>\n",
       "      <th id=\"T_8a834_level0_row0\" class=\"row_heading level0 row0\" >Stage 1</th>\n",
       "      <td id=\"T_8a834_row0_col0\" class=\"data row0 col0\" >0.0000</td>\n",
       "      <td id=\"T_8a834_row0_col1\" class=\"data row0 col1\" >26.0280</td>\n",
       "      <td id=\"T_8a834_row0_col2\" class=\"data row0 col2\" >66.8014</td>\n",
       "      <td id=\"T_8a834_row0_col3\" class=\"data row0 col3\" >61.5420</td>\n",
       "      <td id=\"T_8a834_row0_col4\" class=\"data row0 col4\" >0.2677</td>\n",
       "    </tr>\n",
       "    <tr>\n",
       "      <th id=\"T_8a834_level0_row1\" class=\"row_heading level0 row1\" >Stage 2</th>\n",
       "      <td id=\"T_8a834_row1_col0\" class=\"data row1 col0\" >23.6795</td>\n",
       "      <td id=\"T_8a834_row1_col1\" class=\"data row1 col1\" >43.1049</td>\n",
       "      <td id=\"T_8a834_row1_col2\" class=\"data row1 col2\" >61.6363</td>\n",
       "      <td id=\"T_8a834_row1_col3\" class=\"data row1 col3\" >53.5697</td>\n",
       "      <td id=\"T_8a834_row1_col4\" class=\"data row1 col4\" >0.2629</td>\n",
       "    </tr>\n",
       "    <tr>\n",
       "      <th id=\"T_8a834_level0_row2\" class=\"row_heading level0 row2\" >Stage 3</th>\n",
       "      <td id=\"T_8a834_row2_col0\" class=\"data row2 col0\" >20.0639</td>\n",
       "      <td id=\"T_8a834_row2_col1\" class=\"data row2 col1\" >44.5303</td>\n",
       "      <td id=\"T_8a834_row2_col2\" class=\"data row2 col2\" >62.0294</td>\n",
       "      <td id=\"T_8a834_row2_col3\" class=\"data row2 col3\" >51.6632</td>\n",
       "      <td id=\"T_8a834_row2_col4\" class=\"data row2 col4\" >0.2580</td>\n",
       "    </tr>\n",
       "    <tr>\n",
       "      <th id=\"T_8a834_level0_row3\" class=\"row_heading level0 row3\" >Stage 4</th>\n",
       "      <td id=\"T_8a834_row3_col0\" class=\"data row3 col0\" >19.1120</td>\n",
       "      <td id=\"T_8a834_row3_col1\" class=\"data row3 col1\" >44.3318</td>\n",
       "      <td id=\"T_8a834_row3_col2\" class=\"data row3 col2\" >61.7264</td>\n",
       "      <td id=\"T_8a834_row3_col3\" class=\"data row3 col3\" >50.8617</td>\n",
       "      <td id=\"T_8a834_row3_col4\" class=\"data row3 col4\" >0.2531</td>\n",
       "    </tr>\n",
       "    <tr>\n",
       "      <th id=\"T_8a834_level0_row4\" class=\"row_heading level0 row4\" >Stage 5</th>\n",
       "      <td id=\"T_8a834_row4_col0\" class=\"data row4 col0\" >18.1369</td>\n",
       "      <td id=\"T_8a834_row4_col1\" class=\"data row4 col1\" >44.1388</td>\n",
       "      <td id=\"T_8a834_row4_col2\" class=\"data row4 col2\" >61.4203</td>\n",
       "      <td id=\"T_8a834_row4_col3\" class=\"data row4 col3\" >50.0262</td>\n",
       "      <td id=\"T_8a834_row4_col4\" class=\"data row4 col4\" >0.2482</td>\n",
       "    </tr>\n",
       "    <tr>\n",
       "      <th id=\"T_8a834_level0_row5\" class=\"row_heading level0 row5\" >Stage 6</th>\n",
       "      <td id=\"T_8a834_row5_col0\" class=\"data row5 col0\" >17.1378</td>\n",
       "      <td id=\"T_8a834_row5_col1\" class=\"data row5 col1\" >43.9520</td>\n",
       "      <td id=\"T_8a834_row5_col2\" class=\"data row5 col2\" >61.1115</td>\n",
       "      <td id=\"T_8a834_row5_col3\" class=\"data row5 col3\" >49.1544</td>\n",
       "      <td id=\"T_8a834_row5_col4\" class=\"data row5 col4\" >0.2433</td>\n",
       "    </tr>\n",
       "    <tr>\n",
       "      <th id=\"T_8a834_level0_row6\" class=\"row_heading level0 row6\" >Stage 7</th>\n",
       "      <td id=\"T_8a834_row6_col0\" class=\"data row6 col0\" >16.1138</td>\n",
       "      <td id=\"T_8a834_row6_col1\" class=\"data row6 col1\" >43.7718</td>\n",
       "      <td id=\"T_8a834_row6_col2\" class=\"data row6 col2\" >60.8002</td>\n",
       "      <td id=\"T_8a834_row6_col3\" class=\"data row6 col3\" >48.2442</td>\n",
       "      <td id=\"T_8a834_row6_col4\" class=\"data row6 col4\" >0.2385</td>\n",
       "    </tr>\n",
       "    <tr>\n",
       "      <th id=\"T_8a834_level0_row7\" class=\"row_heading level0 row7\" >Stage 8</th>\n",
       "      <td id=\"T_8a834_row7_col0\" class=\"data row7 col0\" >15.0643</td>\n",
       "      <td id=\"T_8a834_row7_col1\" class=\"data row7 col1\" >43.5990</td>\n",
       "      <td id=\"T_8a834_row7_col2\" class=\"data row7 col2\" >60.4865</td>\n",
       "      <td id=\"T_8a834_row7_col3\" class=\"data row7 col3\" >47.2929</td>\n",
       "      <td id=\"T_8a834_row7_col4\" class=\"data row7 col4\" >0.2336</td>\n",
       "    </tr>\n",
       "    <tr>\n",
       "      <th id=\"T_8a834_level0_row8\" class=\"row_heading level0 row8\" >Stage 9</th>\n",
       "      <td id=\"T_8a834_row8_col0\" class=\"data row8 col0\" >13.9881</td>\n",
       "      <td id=\"T_8a834_row8_col1\" class=\"data row8 col1\" >43.4342</td>\n",
       "      <td id=\"T_8a834_row8_col2\" class=\"data row8 col2\" >60.1709</td>\n",
       "      <td id=\"T_8a834_row8_col3\" class=\"data row8 col3\" >46.2981</td>\n",
       "      <td id=\"T_8a834_row8_col4\" class=\"data row8 col4\" >0.2287</td>\n",
       "    </tr>\n",
       "    <tr>\n",
       "      <th id=\"T_8a834_level0_row9\" class=\"row_heading level0 row9\" >Stage 10</th>\n",
       "      <td id=\"T_8a834_row9_col0\" class=\"data row9 col0\" >12.8846</td>\n",
       "      <td id=\"T_8a834_row9_col1\" class=\"data row9 col1\" >43.2781</td>\n",
       "      <td id=\"T_8a834_row9_col2\" class=\"data row9 col2\" >59.8537</td>\n",
       "      <td id=\"T_8a834_row9_col3\" class=\"data row9 col3\" >45.2567</td>\n",
       "      <td id=\"T_8a834_row9_col4\" class=\"data row9 col4\" >0.2238</td>\n",
       "    </tr>\n",
       "    <tr>\n",
       "      <th id=\"T_8a834_level0_row10\" class=\"row_heading level0 row10\" >Stage 11</th>\n",
       "      <td id=\"T_8a834_row10_col0\" class=\"data row10 col0\" >11.7525</td>\n",
       "      <td id=\"T_8a834_row10_col1\" class=\"data row10 col1\" >43.1316</td>\n",
       "      <td id=\"T_8a834_row10_col2\" class=\"data row10 col2\" >59.5354</td>\n",
       "      <td id=\"T_8a834_row10_col3\" class=\"data row10 col3\" >44.1656</td>\n",
       "      <td id=\"T_8a834_row10_col4\" class=\"data row10 col4\" >0.2190</td>\n",
       "    </tr>\n",
       "    <tr>\n",
       "      <th id=\"T_8a834_level0_row11\" class=\"row_heading level0 row11\" >Stage 12</th>\n",
       "      <td id=\"T_8a834_row11_col0\" class=\"data row11 col0\" >10.5911</td>\n",
       "      <td id=\"T_8a834_row11_col1\" class=\"data row11 col1\" >42.9955</td>\n",
       "      <td id=\"T_8a834_row11_col2\" class=\"data row11 col2\" >59.2163</td>\n",
       "      <td id=\"T_8a834_row11_col3\" class=\"data row11 col3\" >43.0216</td>\n",
       "      <td id=\"T_8a834_row11_col4\" class=\"data row11 col4\" >0.2141</td>\n",
       "    </tr>\n",
       "    <tr>\n",
       "      <th id=\"T_8a834_level0_row12\" class=\"row_heading level0 row12\" >Stage 13</th>\n",
       "      <td id=\"T_8a834_row12_col0\" class=\"data row12 col0\" >9.3992</td>\n",
       "      <td id=\"T_8a834_row12_col1\" class=\"data row12 col1\" >42.8707</td>\n",
       "      <td id=\"T_8a834_row12_col2\" class=\"data row12 col2\" >58.8971</td>\n",
       "      <td id=\"T_8a834_row12_col3\" class=\"data row12 col3\" >41.8209</td>\n",
       "      <td id=\"T_8a834_row12_col4\" class=\"data row12 col4\" >0.2092</td>\n",
       "    </tr>\n",
       "    <tr>\n",
       "      <th id=\"T_8a834_level0_row13\" class=\"row_heading level0 row13\" >Stage 14</th>\n",
       "      <td id=\"T_8a834_row13_col0\" class=\"data row13 col0\" >12.0894</td>\n",
       "      <td id=\"T_8a834_row13_col1\" class=\"data row13 col1\" >40.5019</td>\n",
       "      <td id=\"T_8a834_row13_col2\" class=\"data row13 col2\" >57.4448</td>\n",
       "      <td id=\"T_8a834_row13_col3\" class=\"data row13 col3\" >42.8122</td>\n",
       "      <td id=\"T_8a834_row13_col4\" class=\"data row13 col4\" >0.2043</td>\n",
       "    </tr>\n",
       "    <tr>\n",
       "      <th id=\"T_8a834_level0_row14\" class=\"row_heading level0 row14\" >Stage 15</th>\n",
       "      <td id=\"T_8a834_row14_col0\" class=\"data row14 col0\" >10.9570</td>\n",
       "      <td id=\"T_8a834_row14_col1\" class=\"data row14 col1\" >40.3382</td>\n",
       "      <td id=\"T_8a834_row14_col2\" class=\"data row14 col2\" >57.0772</td>\n",
       "      <td id=\"T_8a834_row14_col3\" class=\"data row14 col3\" >41.6310</td>\n",
       "      <td id=\"T_8a834_row14_col4\" class=\"data row14 col4\" >0.1994</td>\n",
       "    </tr>\n",
       "  </tbody>\n",
       "</table>\n"
      ],
      "text/plain": [
       "<pandas.io.formats.style.Styler at 0x1ec89723a50>"
      ]
     },
     "execution_count": 253,
     "metadata": {},
     "output_type": "execute_result"
    }
   ],
   "source": [
    "print(\"Tip Values:\")\n",
    "\n",
    "tabletry = pd.DataFrame({\"Alpha 1\": stagevals[:,2,0],\"Alpha 2\": stagevals[:,2,1],\"Beta 1\": stagevals[:,2,2],\"Beta 2\": stagevals[:,2,3],\"Radius\": stagevals[:,2,4]})\n",
    "\n",
    "tabletry.style \\\n",
    "    .format(precision=4) \\\n",
    "    .relabel_index([\"Stage 1\",\"Stage 2\",\"Stage 3\",\"Stage 4\",\"Stage 5\",\"Stage 6\",\"Stage 7\",\"Stage 8\",\"Stage 9\",\"Stage 10\",\"Stage 11\",\"Stage 12\",\"Stage 13\",\"Stage 14\",\"Stage 15\"],axis=0)"
   ]
  },
  {
   "cell_type": "code",
   "execution_count": 254,
   "metadata": {},
   "outputs": [
    {
     "name": "stdout",
     "output_type": "stream",
     "text": [
      "The increase in whirl velocity across the first compressor stage at the tip is 82.04 m/s\n"
     ]
    }
   ],
   "source": [
    "# Stage by stage\n",
    "# Stage 1\n",
    "# Assumption: Since the first few and last few stages will have a\n",
    "# slightly lower temperature rise, temperature rise across stage 1 =\n",
    "# 30 K\n",
    "\n",
    "stage1deltaTo = 28 # K\n",
    "lambcomp = 0.98\n",
    "\n",
    "stage1wvelupt = ((1.005*(10**3)*(stage1deltaTo))/(lambcomp*Utcomp))\n",
    "\n",
    "print(\"The increase in whirl velocity across the first compressor stage at the tip is %3.2f m/s\" % (stage1wvelupt))"
   ]
  },
  {
   "cell_type": "code",
   "execution_count": 255,
   "metadata": {},
   "outputs": [
    {
     "name": "stdout",
     "output_type": "stream",
     "text": [
      "r2t 0.27 m\n",
      "r2m 0.19 m\n",
      "r2h 0.11 m\n",
      "Stage 1 Tip Angles:\n",
      "Beta 1 = 66.80°\n",
      "Beta 2 = 60.76°\n",
      "Alpha 2 = 28.68°\n"
     ]
    }
   ],
   "source": [
    "# Stage 1 Tip Angles\n",
    "\n",
    "stage1beta1tip = np.degrees(np.arctan(Utcomp/Ca))\n",
    "stage1beta2tip = np.degrees(np.arctan((Utcomp-stage1wvelupt)/Ca))\n",
    "stage1alpha2tip = np.degrees(np.arctan((stage1wvelupt)/Ca))\n",
    "\n",
    "print(\"r2t %3.2f m\" % (r2t))\n",
    "print(\"r2m %3.2f m\" % (rm))\n",
    "print(\"r2h %3.2f m\" % (r2h))\n",
    "\n",
    "print(\"Stage 1 Tip Angles:\")\n",
    "print(\"Beta 1 = %3.2f°\" % (stage1beta1tip))\n",
    "print(\"Beta 2 = %3.2f°\" % (stage1beta2tip))\n",
    "print(\"Alpha 2 = %3.2f°\" % (stage1alpha2tip))"
   ]
  },
  {
   "cell_type": "code",
   "execution_count": 256,
   "metadata": {},
   "outputs": [
    {
     "name": "stdout",
     "output_type": "stream",
     "text": [
      "Stage 1 Mean Angles:\n",
      "Beta 1 = 58.52°\n",
      "Beta 2 = 40.43°\n",
      "Alpha 2 = 38.00°\n"
     ]
    }
   ],
   "source": [
    "# Stage 1 Mean Angles\n",
    "\n",
    "stage1wvelupm = ((1.005*(10**3)*(stage1deltaTo))/(lambcomp*Umcomp))\n",
    "\n",
    "stage1beta1mean = np.degrees(np.arctan(Umcomp/Ca))\n",
    "stage1beta2mean = np.degrees(np.arctan((Umcomp-stage1wvelupm)/Ca))\n",
    "stage1alpha2mean = np.degrees(np.arctan((stage1wvelupm)/Ca))\n",
    "\n",
    "print(\"Stage 1 Mean Angles:\")\n",
    "print(\"Beta 1 = %3.2f°\" % (stage1beta1mean))\n",
    "print(\"Beta 2 = %3.2f°\" % (stage1beta2mean))\n",
    "print(\"Alpha 2 = %3.2f°\" % (stage1alpha2mean))"
   ]
  },
  {
   "cell_type": "code",
   "execution_count": 257,
   "metadata": {},
   "outputs": [
    {
     "name": "stdout",
     "output_type": "stream",
     "text": [
      "Stage 1 Hub Angles:\n",
      "Beta 1 = 43.03°\n",
      "Beta 2 = -23.46°\n",
      "Alpha 2 = 53.82°\n"
     ]
    }
   ],
   "source": [
    "# Stage 1 Hub Angles\n",
    "\n",
    "stage1wveluph = ((1.005*(10**3)*(stage1deltaTo))/(lambcomp*Uhcomp))\n",
    "\n",
    "stage1beta1hub = np.degrees(np.arctan(Uhcomp/Ca))\n",
    "stage1beta2hub = np.degrees(np.arctan((Uhcomp-stage1wveluph)/Ca))\n",
    "stage1alpha2hub = np.degrees(np.arctan((stage1wveluph)/Ca))\n",
    "\n",
    "print(\"Stage 1 Hub Angles:\")\n",
    "print(\"Beta 1 = %3.2f°\" % (stage1beta1hub))\n",
    "print(\"Beta 2 = %3.2f°\" % (stage1beta2hub))\n",
    "print(\"Alpha 2 = %3.2f°\" % (stage1alpha2hub))"
   ]
  }
 ],
 "metadata": {
  "kernelspec": {
   "display_name": "Python 3 (ipykernel)",
   "language": "python",
   "name": "python3"
  },
  "language_info": {
   "codemirror_mode": {
    "name": "ipython",
    "version": 3
   },
   "file_extension": ".py",
   "mimetype": "text/x-python",
   "name": "python",
   "nbconvert_exporter": "python",
   "pygments_lexer": "ipython3",
   "version": "3.11.3"
  }
 },
 "nbformat": 4,
 "nbformat_minor": 2
}

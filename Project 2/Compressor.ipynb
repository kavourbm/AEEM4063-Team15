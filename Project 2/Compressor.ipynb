{
 "cells": [
  {
   "cell_type": "code",
   "execution_count": 788,
   "metadata": {},
   "outputs": [],
   "source": [
    "import numpy as np\n",
    "import matplotlib.pyplot as plt\n",
    "%matplotlib inline"
   ]
  },
  {
   "cell_type": "code",
   "execution_count": 789,
   "metadata": {},
   "outputs": [],
   "source": [
    "CPR = 15\n",
    "FPR = 1.4\n",
    "polyc = 0.90\n",
    "polyf = 0.92\n",
    "\n",
    "BPR = 6\n",
    "mfa = 280 # kg/s, through the fan"
   ]
  },
  {
   "cell_type": "code",
   "execution_count": 790,
   "metadata": {},
   "outputs": [],
   "source": [
    "# blade tip speed should not exceed M 1.2\n",
    "\n",
    "Utfan = 350 # m/s"
   ]
  },
  {
   "cell_type": "markdown",
   "metadata": {},
   "source": [
    "$$\n",
    "\\dot{m}_{a} =\\rho_1 A C_{a1} \\\\\n",
    "A = \\frac{\\dot{m}_{a}}{\\rho_1 C_{a1}}\n",
    "$$"
   ]
  },
  {
   "cell_type": "markdown",
   "metadata": {},
   "source": [
    "$$\n",
    "\\dot{m}_{a} =\\rho_1 A C_{a1} =\\rho_1 \\pi {r_t}^{2} [1-(\\frac{r_r}{r_t})^2] C_{a1} \\\\\n",
    "{r_t}^2 =\\frac{\\dot{m}_{a}}{\\pi \\rho_1 C_{a1} [1-(r_r/r_t)^2]} \\\\\n",
    "$$"
   ]
  },
  {
   "cell_type": "code",
   "execution_count": 791,
   "metadata": {},
   "outputs": [],
   "source": [
    "# Station 1: Fan Inlet\n",
    "\n",
    "# C1 = Ca\n",
    "\n",
    "Ca = 150 # m/s\n",
    "\n",
    "po1= 1.01 # bar\n",
    "To1 = 288 # K\n",
    "\n",
    "gammac = 1.4\n",
    "gammah = 1.33\n",
    "\n",
    "T1 = To1-((Ca**2)/(2*1.005*10**3))\n",
    "p1 = po1*(((T1)/(To1)))**(gammac/(gammac-1))\n",
    "\n",
    "den1 = ((100*p1)/(0.287*T1))"
   ]
  },
  {
   "cell_type": "code",
   "execution_count": 792,
   "metadata": {},
   "outputs": [
    {
     "name": "stdout",
     "output_type": "stream",
     "text": [
      "Fan inlet area = 1.69 m^2\n",
      "Fan tip radius = 0.76 m\n",
      "Rotational velocity = 73.61 rev/s\n"
     ]
    }
   ],
   "source": [
    "Afan = mfa/(den1*Ca)\n",
    "\n",
    "htratio = 0.25\n",
    "\n",
    "rtfan = np.sqrt(mfa/(np.pi*den1*Ca*(1-(htratio**2))))\n",
    "\n",
    "Nfan = Utfan/(2*np.pi*rtfan)\n",
    "\n",
    "print(\"Fan inlet area = %3.2f m^2\" % (Afan))\n",
    "print(\"Fan tip radius = %3.2f m\" % (rtfan))\n",
    "print(\"Rotational velocity = %3.2f rev/s\" % (Nfan))"
   ]
  },
  {
   "cell_type": "code",
   "execution_count": 793,
   "metadata": {},
   "outputs": [
    {
     "name": "stdout",
     "output_type": "stream",
     "text": [
      "The Fan blade tip mach number is 1.14\n",
      "This satisfies the requirement\n"
     ]
    }
   ],
   "source": [
    "V1t = np.sqrt((Utfan**2)+(Ca**2))\n",
    "\n",
    "M1t = V1t/(np.sqrt(gammac*287*T1))\n",
    "\n",
    "print(\"The Fan blade tip mach number is %3.2f\" % (M1t))\n",
    "\n",
    "if M1t > 1.2:\n",
    "    print(\"This does not satify the requirement\")\n",
    "else:\n",
    "    print(\"This satisfies the requirement\")"
   ]
  },
  {
   "cell_type": "code",
   "execution_count": 794,
   "metadata": {},
   "outputs": [
    {
     "name": "stdout",
     "output_type": "stream",
     "text": [
      "To2 = 319.72 K\n",
      "po2 = 1.41 bar\n"
     ]
    }
   ],
   "source": [
    "# Station 2: Compressor Inlet / Fan Outlet\n",
    "\n",
    "nfan = (1/polyf)*((gammac-1)/gammac)\n",
    "To2 = To1*(FPR**nfan)\n",
    "\n",
    "print(\"To2 = %3.2f K\" % (To2))\n",
    "\n",
    "po2 = po1*FPR\n",
    "\n",
    "print(\"po2 = %3.2f bar\" % (po2))"
   ]
  },
  {
   "cell_type": "markdown",
   "metadata": {},
   "source": [
    "$$\n",
    "\\Delta C_w =\\frac{c_p \\Delta T_0}{\\lambda U}\n",
    "$$"
   ]
  },
  {
   "cell_type": "code",
   "execution_count": 795,
   "metadata": {},
   "outputs": [
    {
     "name": "stdout",
     "output_type": "stream",
     "text": [
      "The increase in whirl velocity across the fan is 92.95 m/s\n"
     ]
    }
   ],
   "source": [
    "lamb = 0.98\n",
    "fanwvelup = ((1.005*(10**3)*(To2-To1))/(lamb*Utfan))\n",
    "print(\"The increase in whirl velocity across the fan is %3.2f m/s\" % (fanwvelup))"
   ]
  },
  {
   "cell_type": "code",
   "execution_count": 796,
   "metadata": {},
   "outputs": [
    {
     "name": "stdout",
     "output_type": "stream",
     "text": [
      "Fan Tip Angles:\n",
      "Beta 1 = 66.21°\n",
      "Beta 2 = 58.77°\n",
      "Alpha 2 = 31.78°\n"
     ]
    }
   ],
   "source": [
    "# Fan Angles\n",
    "\n",
    "fanbeta1tip = np.degrees(np.arctan(Ut/Ca))\n",
    "fanbeta2tip = np.degrees(np.arctan((Ut-fanwvelup)/Ca))\n",
    "fanalpha2tip = np.degrees(np.arctan((fanwvelup)/Ca))\n",
    "\n",
    "print(\"Fan Tip Angles:\")\n",
    "print(\"Beta 1 = %3.2f°\" % (fanbeta1tip))\n",
    "print(\"Beta 2 = %3.2f°\" % (fanbeta2tip))\n",
    "print(\"Alpha 2 = %3.2f°\" % (fanalpha2tip))"
   ]
  },
  {
   "cell_type": "markdown",
   "metadata": {},
   "source": [
    "$$\n",
    "\\dot{m}_{c} =\\frac{\\dot{m} BPR}{BPR+1} \\\\\n",
    "\\dot{m}_{h} =\\frac{\\dot{m}}{BPR+1} \\\\\n",
    "$$"
   ]
  },
  {
   "cell_type": "code",
   "execution_count": 797,
   "metadata": {},
   "outputs": [
    {
     "name": "stdout",
     "output_type": "stream",
     "text": [
      "Mass Flow Rate of Air through the Compressor = 40.00 kg/s\n",
      "Compressor inlet area = 0.189 m^2\n"
     ]
    }
   ],
   "source": [
    "mfcold = (mfa*BPR)/(BPR+1)\n",
    "mfhot = (mfa)/(BPR+1)\n",
    "\n",
    "print(\"Mass Flow Rate of Air through the Compressor = %3.2f kg/s\" % (mfhot))\n",
    "\n",
    "T2 = To2-((Ca**2)/(2*1.005*10**3))\n",
    "\n",
    "p2 = po2*(((T2)/(To2)))**(gammac/(gammac-1))\n",
    "\n",
    "den2 = ((100*p2)/(0.287*T2))\n",
    "\n",
    "compinarea = mfhot/(den2*Ca)\n",
    "\n",
    "print(\"Compressor inlet area = %3.3f m^2\" % (compinarea))"
   ]
  },
  {
   "cell_type": "markdown",
   "metadata": {},
   "source": [
    "Additional Info: \\\n",
    "Compressor is a separate spool, do not exceed $ M = 1 $ for the largest compressor blade. \\\n",
    "Minimum blade height for last stage is 1 inch (0.0254 m). \\\n",
    "We should land somewhere around 15-17 compressor stages. \\\n",
    "This is open ended, so a lot will be assumed. Assumptions will be clearly stated in markdown + in comments of code."
   ]
  },
  {
   "cell_type": "code",
   "execution_count": 798,
   "metadata": {},
   "outputs": [
    {
     "name": "stdout",
     "output_type": "stream",
     "text": [
      "Compressor inlet tip radius = 0.259 m\n",
      "Compressor inlet hub radius = 0.083 m\n",
      "Compressor mean radius = 0.171 m\n",
      "Compressor rotational velocity = 239.64 rev/s\n"
     ]
    }
   ],
   "source": [
    "Utcomp = 390 # m/s\n",
    "\n",
    "htratiocomp = 0.32\n",
    "\n",
    "r2t = np.sqrt(mfhot/(np.pi*den2*Ca*(1-(htratiocomp**2))))\n",
    "\n",
    "r2h = r2t*htratiocomp\n",
    "\n",
    "# Constant Mean Radius\n",
    "\n",
    "rm = (r2t+r2h)/2\n",
    "\n",
    "print(\"Compressor inlet tip radius = %3.3f m\" % (r2t))\n",
    "print(\"Compressor inlet hub radius = %3.3f m\" % (r2h))\n",
    "print(\"Compressor mean radius = %3.3f m\" % (rm))\n",
    "\n",
    "Nmain = Utcomp/(2*np.pi*r2t)\n",
    "\n",
    "print(\"Compressor rotational velocity = %3.2f rev/s\" % (Nmain))"
   ]
  },
  {
   "cell_type": "code",
   "execution_count": 799,
   "metadata": {},
   "outputs": [
    {
     "name": "stdout",
     "output_type": "stream",
     "text": [
      "The Fan blade tip mach number is 1.19\n",
      "This satisfies the requirement\n"
     ]
    }
   ],
   "source": [
    "V2t = np.sqrt((Utcomp**2)+(Ca**2))\n",
    "\n",
    "M2t = V2t/(np.sqrt(gammac*287*T2))\n",
    "\n",
    "print(\"The Fan blade tip mach number is %3.2f\" % (M2t))\n",
    "\n",
    "if M2t > 1.2:\n",
    "    print(\"This does not satify the requirement\")\n",
    "else:\n",
    "    print(\"This satisfies the requirement\")"
   ]
  },
  {
   "cell_type": "code",
   "execution_count": 800,
   "metadata": {},
   "outputs": [
    {
     "name": "stdout",
     "output_type": "stream",
     "text": [
      "To3 = 755.33 K\n",
      "po3 = 21.21 bar\n"
     ]
    }
   ],
   "source": [
    "# Station 3: Compressor Outlet\n",
    "\n",
    "ncompressor = (1/polyc)*((gammac-1)/gammac)\n",
    "\n",
    "To3 = To2*(CPR**ncompressor)\n",
    "\n",
    "print(\"To3 = %3.2f K\" % (To3))\n",
    "\n",
    "po3 = po2*CPR\n",
    "\n",
    "print(\"po3 = %3.2f bar\" % (po3))"
   ]
  },
  {
   "cell_type": "code",
   "execution_count": 801,
   "metadata": {},
   "outputs": [
    {
     "name": "stdout",
     "output_type": "stream",
     "text": [
      "T3 = 744.13 K\n",
      "p3 = 20.13 bar\n",
      "Compressor outlet area = 0.028 m^2\n"
     ]
    }
   ],
   "source": [
    "T3 = To3-((Ca**2)/(2*1.005*10**3))\n",
    "\n",
    "print(\"T3 = %3.2f K\" % (T3))\n",
    "\n",
    "p3 = po3*(((T3)/(To3)))**(gammac/(gammac-1))\n",
    "\n",
    "print(\"p3 = %3.2f bar\" % (p3))\n",
    "\n",
    "den3 = ((100*p3)/(0.287*T3))\n",
    "\n",
    "compoutarea = mfhot/(den3*Ca)\n",
    "\n",
    "print('Compressor outlet area = %3.3f m^2' % (compoutarea))"
   ]
  },
  {
   "cell_type": "code",
   "execution_count": 802,
   "metadata": {},
   "outputs": [
    {
     "name": "stdout",
     "output_type": "stream",
     "text": [
      "The outlet blade height is 0.026 m\n",
      "The minimum blade height is 0.0254 m\n",
      "This satisfies the requirement\n"
     ]
    }
   ],
   "source": [
    "compoutbladeheight = compoutarea/(2*np.pi*rm)\n",
    "\n",
    "print(\"The outlet blade height is %3.3f m\" % (compoutbladeheight))\n",
    "print(\"The minimum blade height is 0.0254 m\")\n",
    "if compoutbladeheight >= 0.0254:\n",
    "    print(\"This satisfies the requirement\")\n",
    "else:\n",
    "    print(\"This does not satisfy the requirement\")"
   ]
  },
  {
   "cell_type": "code",
   "execution_count": 803,
   "metadata": {},
   "outputs": [
    {
     "name": "stdout",
     "output_type": "stream",
     "text": [
      "Compressor outlet tip radius = 0.184 m\n",
      "Compressor outlet hub radius = 0.158 m\n"
     ]
    }
   ],
   "source": [
    "r3t = rm + (compoutbladeheight/2)\n",
    "\n",
    "r3h = rm - (compoutbladeheight/2)\n",
    "\n",
    "print(\"Compressor outlet tip radius = %3.3f m\" % (r3t))\n",
    "print(\"Compressor outlet hub radius = %3.3f m\" % (r3h))"
   ]
  },
  {
   "cell_type": "code",
   "execution_count": 804,
   "metadata": {},
   "outputs": [
    {
     "name": "stdout",
     "output_type": "stream",
     "text": [
      "Compressor mean blade speed = 257.40 m/s\n",
      "Compressor Stage 1 Beta 1 = 59.77°\n",
      "V1 = 297.92 m/s\n",
      "V2 = 193.65 m/s\n",
      "Compressor Stage 1 Beta 2 = 39.23°\n",
      "The average stage temperature rise is 33.87 K\n"
     ]
    }
   ],
   "source": [
    "# Stage Estimation\n",
    "\n",
    "Umcomp = 2*np.pi*rm*Nmain\n",
    "\n",
    "print(\"Compressor mean blade speed = %3.2f m/s\" % (Umcomp))\n",
    "\n",
    "c1beta1mean = np.degrees(np.arctan(Umcomp/Ca))\\\n",
    "\n",
    "print(\"Compressor Stage 1 Beta 1 = %3.2f°\" % (c1beta1mean))\n",
    "\n",
    "V1c1 = Ca/np.cos(np.radians(c1beta1mean))\n",
    "\n",
    "print(\"V1 = %3.2f m/s\" % (V1c1))\n",
    "\n",
    "deHaller = 0.65 # V2/V1 cannot be less than 0.65\n",
    "\n",
    "V2c1 = V1c1*deHaller\n",
    "\n",
    "print(\"V2 = %3.2f m/s\" % (V2c1))\n",
    "\n",
    "c1beta2mean = np.degrees(np.arccos(Ca/V2c1))\n",
    "\n",
    "print(\"Compressor Stage 1 Beta 2 = %3.2f°\" % (c1beta2mean))\n",
    "\n",
    "deltaTos = (lamb*Umcomp*Ca*(np.tan(np.radians(c1beta1mean))-np.tan(np.radians(c1beta2mean))))/(1.005*10**3)\n",
    "\n",
    "print(\"The average stage temperature rise is %3.2f K\" % (deltaTos))"
   ]
  },
  {
   "cell_type": "code",
   "execution_count": 805,
   "metadata": {},
   "outputs": [
    {
     "name": "stdout",
     "output_type": "stream",
     "text": [
      "The Compressor Temperature rise is 435.61 K\n",
      "Estimation of 12.9 Stages\n"
     ]
    }
   ],
   "source": [
    "compstagrise = To3 - To2\n",
    "\n",
    "print(\"The Compressor Temperature rise is %3.2f K\" % (compstagrise))\n",
    "\n",
    "stageest = compstagrise/deltaTos\n",
    "\n",
    "print(\"Estimation of %3.1f Stages\" % (stageest))"
   ]
  },
  {
   "cell_type": "code",
   "execution_count": 806,
   "metadata": {},
   "outputs": [
    {
     "name": "stdout",
     "output_type": "stream",
     "text": [
      "rotational speed =  2111.1166535333755\n"
     ]
    }
   ],
   "source": [
    "omega = np.sqrt(gammac*287*T3)/r2t\n",
    "\n",
    "print('rotational speed = ', omega)"
   ]
  }
 ],
 "metadata": {
  "kernelspec": {
   "display_name": "Python 3 (ipykernel)",
   "language": "python",
   "name": "python3"
  },
  "language_info": {
   "codemirror_mode": {
    "name": "ipython",
    "version": 3
   },
   "file_extension": ".py",
   "mimetype": "text/x-python",
   "name": "python",
   "nbconvert_exporter": "python",
   "pygments_lexer": "ipython3",
   "version": "3.12.0"
  }
 },
 "nbformat": 4,
 "nbformat_minor": 2
}
